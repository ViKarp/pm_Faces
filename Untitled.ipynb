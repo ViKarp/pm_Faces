{
 "cells": [
  {
   "cell_type": "code",
   "execution_count": 1,
   "id": "676e4f2c",
   "metadata": {},
   "outputs": [],
   "source": [
    "import pandas as pd\n",
    "import numpy as np\n",
    "import os.path\n",
    "import random as rd\n",
    "import multiprocessing as mp\n",
    "import plotly\n",
    "import plotly.graph_objs as go\n",
    "import plotly.express as px\n",
    "from plotly.subplots import make_subplots\n",
    "import plotly.io as pio\n",
    "from scipy.optimize import curve_fit"
   ]
  },
  {
   "cell_type": "code",
   "execution_count": 19,
   "id": "ce732f20",
   "metadata": {},
   "outputs": [],
   "source": [
    "def func(x,a,b,c):\n",
    "    return a/(x+b)+c"
   ]
  },
  {
   "cell_type": "code",
   "execution_count": 3,
   "id": "c65db5d1",
   "metadata": {},
   "outputs": [],
   "source": [
    "def read_pgm(path):\n",
    "    pgmf = open(path, 'rb')\n",
    "    assert pgmf.readline() == b'P5\\n'\n",
    "    (width, height) = [int(i) for i in pgmf.readline().split()]\n",
    "    depth = int(pgmf.readline())\n",
    "    assert depth <= 255\n",
    "\n",
    "    raster = []\n",
    "    for y in range(height):\n",
    "        row = []\n",
    "        for y in range(width):\n",
    "            row.append(ord(pgmf.read(1)))\n",
    "        raster.append(row)\n",
    "    pgmf.close()\n",
    "    im = np.array(raster)\n",
    "    return im"
   ]
  },
  {
   "cell_type": "code",
   "execution_count": 4,
   "id": "3da4e892",
   "metadata": {},
   "outputs": [],
   "source": [
    "all_photo = []\n",
    "for j in range(1,41):\n",
    "        for i in range(1,11):\n",
    "            all_photo.append(read_pgm(\"C:/Users/vitya/Analis/Faces/Arch/s\"+str(j)+'/'+str(i)+'.pgm'))"
   ]
  },
  {
   "cell_type": "code",
   "execution_count": 5,
   "id": "ccff510b",
   "metadata": {},
   "outputs": [
    {
     "data": {
      "text/plain": [
       "(112, 92)"
      ]
     },
     "execution_count": 5,
     "metadata": {},
     "output_type": "execute_result"
    }
   ],
   "source": [
    "im = read_pgm(\"C:/Users/vitya/Analis/Faces/Arch/s1/1.pgm\")\n",
    "im.shape"
   ]
  },
  {
   "cell_type": "code",
   "execution_count": 6,
   "id": "a79b91a9",
   "metadata": {},
   "outputs": [
    {
     "data": {
      "text/plain": [
       "(112, 92)"
      ]
     },
     "execution_count": 6,
     "metadata": {},
     "output_type": "execute_result"
    }
   ],
   "source": [
    "path = 'Arch'\n",
    "number = 2\n",
    "samples = []\n",
    "samples_adress = []\n",
    "for j in os.listdir(path):\n",
    "    if j[0]==\"s\":\n",
    "        num_files = len(os.listdir(path+\"/\"+j))\n",
    "        for i in range(number):\n",
    "            rand = rd.randint(1,num_files)\n",
    "            samples.append(read_pgm(\"C:/Users/vitya/Analis/Faces/Arch/\"+j+'/'+str(rand)+'.pgm'))\n",
    "            samples_adress.append(j+\"/\"+str(rand))\n",
    "samples[0].shape"
   ]
  },
  {
   "cell_type": "code",
   "execution_count": 7,
   "id": "9a5cb294",
   "metadata": {},
   "outputs": [],
   "source": [
    "def method1(sample, photo, number):\n",
    "    points = [rd.randint(0,sample.size) for i in range(int(sample.size/number))]\n",
    "    sample_points = np.array([sample[i//sample.shape[0]][i%sample.shape[1]] for i in points])\n",
    "    photo_points = np.array([photo[i//sample.shape[0]][i%sample.shape[1]] for i in points])\n",
    "    return(np.absolute(sample_points-photo_points))\n",
    "def hist(photo,number):\n",
    "    hist = [0]*number\n",
    "    step = 256/number\n",
    "    for i in range(photo.shape[0]):\n",
    "        for j in range(photo.shape[1]):\n",
    "            hist[int(photo[i][j]//step)]+=1\n",
    "    return(np.array(hist))\n",
    "def result_method(sample_hist, photo_hist):\n",
    "    return(np.absolute(sample_hist-photo_hist))\n",
    "def scaling(photo):\n",
    "    new_photo = []\n",
    "    for i in range(0, photo.shape[0]-30, 20):\n",
    "        for j in range(0, photo.shape[1]-30, 20):\n",
    "            temp=0\n",
    "            for k in range(i,i+30):\n",
    "                for l in range(j,j+30):\n",
    "                    temp+=photo[k][l]\n",
    "            new_photo.append(round(temp/900))\n",
    "    return(np.array(new_photo))\n",
    "def scaling2(photo):\n",
    "    new_photo = []\n",
    "    for i in range(0,photo.shape[0]-10,10):\n",
    "        for j in range(0,photo.shape[1]-10,10):\n",
    "            temp=0\n",
    "            for k in range(i,i+10):\n",
    "                for l in range(j,j+10):\n",
    "                    temp+=photo[k][l]\n",
    "            new_photo.append(round(temp/100))\n",
    "    return(np.array(new_photo))\n",
    "def difference(photo):\n",
    "    new_photo = []\n",
    "    pic_before = 0\n",
    "    for k in range(0,10):\n",
    "        for l in range(0,10):\n",
    "            pic_before+=photo[k][l]\n",
    "    pic_before = round(pic_before/100)\n",
    "    for i in range(10,photo.shape[0]-10,10):\n",
    "        for j in range(10,photo.shape[1]-10,10):\n",
    "            temp=0\n",
    "            for k in range(i,i+10):\n",
    "                for l in range(j,j+10):\n",
    "                    temp+=photo[k][l]\n",
    "            temp = round(temp/100)\n",
    "            new_photo.append(temp - pic_before)\n",
    "            pic_before = temp\n",
    "    return(np.array(new_photo))"
   ]
  },
  {
   "cell_type": "code",
   "execution_count": 8,
   "id": "10889507",
   "metadata": {},
   "outputs": [],
   "source": [
    "samples_hist2 = []\n",
    "for i in range(len(samples)):\n",
    "    samples_hist2.append(hist(samples[i],2))\n",
    "samples_hist4 = []\n",
    "for i in range(len(samples)):\n",
    "    samples_hist4.append(hist(samples[i],4))\n",
    "samples_hist8 = []\n",
    "for i in range(len(samples)):\n",
    "    samples_hist8.append(hist(samples[i],8))\n",
    "samples_hist16 = []\n",
    "for i in range(len(samples)):\n",
    "    samples_hist16.append(hist(samples[i],16))\n",
    "samples_hist32 = []\n",
    "for i in range(len(samples)):\n",
    "    samples_hist32.append(hist(samples[i],32))\n",
    "samples_hist64 = []\n",
    "for i in range(len(samples)):\n",
    "    samples_hist64.append(hist(samples[i],64))\n",
    "samples_scaling = []\n",
    "for i in range(len(samples)):\n",
    "    samples_scaling.append(scaling(samples[i]))\n",
    "samples_scaling2 = []\n",
    "for i in range(len(samples)):\n",
    "    samples_scaling2.append(scaling2(samples[i]))\n",
    "samples_difference = []\n",
    "for i in range(len(samples)):\n",
    "    samples_difference.append(difference(samples[i]))"
   ]
  },
  {
   "cell_type": "code",
   "execution_count": 9,
   "id": "15b09d7a",
   "metadata": {},
   "outputs": [
    {
     "name": "stdout",
     "output_type": "stream",
     "text": [
      "Method: random pixels. Accuracy:  0.84\n"
     ]
    }
   ],
   "source": [
    "count = 0\n",
    "for j in os.listdir(path):\n",
    "    if j[0]==\"s\":\n",
    "        num_files = len(os.listdir(path+\"/\"+j))\n",
    "        for i in range(1,num_files+1):\n",
    "            dif = []\n",
    "            for sample in samples:\n",
    "                dif.append(sum(method1(sample, read_pgm(\"C:/Users/vitya/Analis/Faces/Arch/\"+j+'/'+str(i)+'.pgm'),4)))\n",
    "            #print(samples_adress[dif.index(min(dif))])\n",
    "            #print(j+'/'+str(i))\n",
    "            #print('-----------------')\n",
    "            if samples_adress[dif.index(min(dif))][:samples_adress[dif.index(min(dif))].index('/')] == j:\n",
    "                count+=1\n",
    "print(\"Method: random pixels. Accuracy:  \"+str(count/400))"
   ]
  },
  {
   "cell_type": "code",
   "execution_count": 10,
   "id": "ae394c76",
   "metadata": {},
   "outputs": [
    {
     "name": "stdout",
     "output_type": "stream",
     "text": [
      "Method: random pixels. Number of pixels and accuracy:  \n",
      "40\n",
      "0.805\n",
      "-----------------\n",
      "44\n",
      "0.8075\n",
      "-----------------\n",
      "48\n",
      "0.8125\n",
      "-----------------\n",
      "52\n",
      "0.8275\n",
      "-----------------\n",
      "56\n",
      "0.835\n",
      "-----------------\n",
      "60\n",
      "0.8225\n",
      "-----------------\n",
      "64\n",
      "0.8075\n",
      "-----------------\n",
      "68\n",
      "0.79\n",
      "-----------------\n",
      "72\n",
      "0.81\n",
      "-----------------\n",
      "76\n",
      "0.79\n",
      "-----------------\n",
      "80\n",
      "0.8\n",
      "-----------------\n",
      "84\n",
      "0.8275\n",
      "-----------------\n",
      "88\n",
      "0.8025\n",
      "-----------------\n",
      "92\n",
      "0.7775\n",
      "-----------------\n",
      "96\n",
      "0.795\n",
      "-----------------\n"
     ]
    }
   ],
   "source": [
    "print(\"Method: random pixels. Number of pixels and accuracy:  \")\n",
    "res_rand = []\n",
    "k_all = []\n",
    "f = open('randpix.txt',\"w\")\n",
    "for k in range(40,100,4):\n",
    "    count = 0\n",
    "    for j in os.listdir(path):\n",
    "        if j[0]==\"s\":\n",
    "            num_files = len(os.listdir(path+\"/\"+j))\n",
    "            for i in range(1,num_files+1):\n",
    "                dif = []\n",
    "                for sample in samples:\n",
    "                    dif.append(sum(method1(sample, read_pgm(\"C:/Users/vitya/Analis/Faces/Arch/\"+j+'/'+str(i)+'.pgm'),k)))\n",
    "                #print(samples_adress[dif.index(min(dif))])\n",
    "                #print(j+'/'+str(i))\n",
    "                #print('-----------------')\n",
    "                if samples_adress[dif.index(min(dif))][:samples_adress[dif.index(min(dif))].index('/')] == j:\n",
    "                    count+=1\n",
    "    print(k)\n",
    "    k_all.append(k)\n",
    "    f.write(str(k)+' : ' + str(count/400)+'\\n')\n",
    "    res_rand.append(count/400)\n",
    "    print(count/400)\n",
    "    print('-----------------')\n",
    "f.close()"
   ]
  },
  {
   "cell_type": "code",
   "execution_count": 11,
   "id": "cf7c7136",
   "metadata": {},
   "outputs": [
    {
     "name": "stdout",
     "output_type": "stream",
     "text": [
      "Current accuracy: 1.0\n",
      "Current accuracy: 1.0\n",
      "Current accuracy: 1.0\n",
      "Current accuracy: 1.0\n",
      "Current accuracy: 1.0\n",
      "Current accuracy: 1.0\n",
      "Current accuracy: 0.91\n",
      "Current accuracy: 0.88\n",
      "Current accuracy: 0.87\n",
      "Current accuracy: 0.8\n",
      "Current accuracy: 0.76\n",
      "Current accuracy: 0.78\n",
      "Current accuracy: 0.78\n",
      "Current accuracy: 0.8\n",
      "Current accuracy: 0.8\n",
      "Current accuracy: 0.81\n",
      "Current accuracy: 0.79\n",
      "Current accuracy: 0.8\n",
      "Current accuracy: 0.77\n",
      "Current accuracy: 0.78\n",
      "Current accuracy: 0.79\n",
      "Current accuracy: 0.8\n",
      "Current accuracy: 0.8\n",
      "Current accuracy: 0.81\n",
      "Current accuracy: 0.81\n",
      "Current accuracy: 0.8\n",
      "Current accuracy: 0.81\n",
      "Current accuracy: 0.8\n",
      "Current accuracy: 0.81\n",
      "Current accuracy: 0.81\n",
      "Current accuracy: 0.81\n",
      "Current accuracy: 0.81\n",
      "Current accuracy: 0.82\n",
      "Current accuracy: 0.82\n",
      "Current accuracy: 0.83\n",
      "Current accuracy: 0.83\n",
      "Current accuracy: 0.84\n",
      "Current accuracy: 0.84\n",
      "Current accuracy: 0.84\n",
      "Current accuracy: 0.83\n",
      "Current accuracy: 0.82\n",
      "Current accuracy: 0.83\n",
      "Current accuracy: 0.83\n",
      "Current accuracy: 0.84\n",
      "Current accuracy: 0.83\n",
      "Current accuracy: 0.82\n",
      "Current accuracy: 0.83\n",
      "Current accuracy: 0.83\n",
      "Current accuracy: 0.83\n",
      "Current accuracy: 0.83\n",
      "Current accuracy: 0.82\n",
      "Current accuracy: 0.83\n",
      "Current accuracy: 0.83\n",
      "Current accuracy: 0.83\n",
      "Current accuracy: 0.83\n",
      "Current accuracy: 0.82\n",
      "Current accuracy: 0.82\n",
      "Current accuracy: 0.81\n",
      "Current accuracy: 0.81\n",
      "Current accuracy: 0.81\n",
      "Current accuracy: 0.81\n",
      "Current accuracy: 0.8\n",
      "Current accuracy: 0.81\n",
      "Current accuracy: 0.81\n",
      "Current accuracy: 0.81\n",
      "Current accuracy: 0.81\n",
      "Current accuracy: 0.81\n",
      "Current accuracy: 0.81\n",
      "Current accuracy: 0.81\n",
      "Current accuracy: 0.81\n",
      "Current accuracy: 0.8\n",
      "Current accuracy: 0.8\n",
      "Current accuracy: 0.8\n",
      "Current accuracy: 0.79\n",
      "Current accuracy: 0.79\n",
      "Current accuracy: 0.79\n",
      "Current accuracy: 0.78\n",
      "Current accuracy: 0.78\n",
      "Current accuracy: 0.79\n",
      "Current accuracy: 0.79\n",
      "number of pole: 16; Accuracy: 0.7875\n"
     ]
    }
   ],
   "source": [
    "count = 0\n",
    "true_iter = 0\n",
    "f = open('hist.txt',\"w\")\n",
    "for photo in all_photo:\n",
    "    count+=1\n",
    "    dif = []\n",
    "    for sample_hist in samples_hist16:\n",
    "        dif.append(sum(result_method(sample_hist, hist(photo,16))))\n",
    "    if str(((count-1)//10)+1) == samples_adress[dif.index(min(dif))][1:samples_adress[dif.index(min(dif))].index('/')]:\n",
    "        true_iter+=1\n",
    "    if count%5 == 0:\n",
    "        print(\"Current accuracy: \" + str(round(true_iter/count,2)))\n",
    "res16 = true_iter/400\n",
    "f.write('16 : ' + str(res16)+'\\n')\n",
    "f.close()\n",
    "print(\"number of pole: 16; Accuracy: \" + str(true_iter/400))   "
   ]
  },
  {
   "cell_type": "code",
   "execution_count": 12,
   "id": "e601529b",
   "metadata": {},
   "outputs": [
    {
     "name": "stdout",
     "output_type": "stream",
     "text": [
      "1\n",
      "2\n",
      "3\n",
      "4\n",
      "5\n",
      "6\n",
      "7\n",
      "8\n",
      "9\n",
      "10\n",
      "11\n",
      "12\n",
      "13\n",
      "14\n",
      "15\n",
      "16\n",
      "17\n",
      "18\n",
      "19\n",
      "20\n",
      "21\n",
      "22\n",
      "23\n",
      "24\n",
      "25\n",
      "26\n",
      "27\n",
      "28\n",
      "29\n",
      "30\n",
      "31\n",
      "32\n",
      "33\n",
      "34\n",
      "35\n",
      "36\n",
      "37\n",
      "38\n",
      "39\n",
      "40\n",
      "41\n",
      "42\n",
      "43\n",
      "44\n",
      "45\n",
      "46\n",
      "47\n",
      "48\n",
      "49\n",
      "50\n",
      "51\n",
      "52\n",
      "53\n",
      "54\n",
      "55\n",
      "56\n",
      "57\n",
      "58\n",
      "59\n",
      "60\n",
      "61\n",
      "62\n",
      "63\n",
      "64\n",
      "65\n",
      "66\n",
      "67\n",
      "68\n",
      "69\n",
      "70\n",
      "71\n",
      "72\n",
      "73\n",
      "74\n",
      "75\n",
      "76\n",
      "77\n",
      "78\n",
      "79\n",
      "80\n",
      "81\n",
      "82\n",
      "83\n",
      "84\n",
      "85\n",
      "86\n",
      "87\n",
      "88\n",
      "89\n",
      "90\n",
      "91\n",
      "92\n",
      "93\n",
      "94\n",
      "95\n",
      "96\n",
      "97\n",
      "98\n",
      "99\n",
      "100\n",
      "101\n",
      "102\n",
      "103\n",
      "104\n",
      "105\n",
      "106\n",
      "107\n",
      "108\n",
      "109\n",
      "110\n",
      "111\n",
      "112\n",
      "113\n",
      "114\n",
      "115\n",
      "116\n",
      "117\n",
      "118\n",
      "119\n",
      "120\n",
      "121\n",
      "122\n",
      "123\n",
      "124\n",
      "125\n",
      "126\n",
      "127\n",
      "128\n",
      "129\n",
      "130\n",
      "131\n",
      "132\n",
      "133\n",
      "134\n",
      "135\n",
      "136\n",
      "137\n",
      "138\n",
      "139\n",
      "140\n",
      "141\n",
      "142\n",
      "143\n",
      "144\n",
      "145\n",
      "146\n",
      "147\n",
      "148\n",
      "149\n",
      "150\n",
      "151\n",
      "152\n",
      "153\n",
      "154\n",
      "155\n",
      "156\n",
      "157\n",
      "158\n",
      "159\n",
      "160\n",
      "161\n",
      "162\n",
      "163\n",
      "164\n",
      "165\n",
      "166\n",
      "167\n",
      "168\n",
      "169\n",
      "170\n",
      "171\n",
      "172\n",
      "173\n",
      "174\n",
      "175\n",
      "176\n",
      "177\n",
      "178\n",
      "179\n",
      "180\n",
      "181\n",
      "182\n",
      "183\n",
      "184\n",
      "185\n",
      "186\n",
      "187\n",
      "188\n",
      "189\n",
      "190\n",
      "191\n",
      "192\n",
      "193\n",
      "194\n",
      "195\n",
      "196\n",
      "197\n",
      "198\n",
      "199\n",
      "200\n",
      "201\n",
      "202\n",
      "203\n",
      "204\n",
      "205\n",
      "206\n",
      "207\n",
      "208\n",
      "209\n",
      "210\n",
      "211\n",
      "212\n",
      "213\n",
      "214\n",
      "215\n",
      "216\n",
      "217\n",
      "218\n",
      "219\n",
      "220\n",
      "221\n",
      "222\n",
      "223\n",
      "224\n",
      "225\n",
      "226\n",
      "227\n",
      "228\n",
      "229\n",
      "230\n",
      "231\n",
      "232\n",
      "233\n",
      "234\n",
      "235\n",
      "236\n",
      "237\n",
      "238\n",
      "239\n",
      "240\n",
      "241\n",
      "242\n",
      "243\n",
      "244\n",
      "245\n",
      "246\n",
      "247\n",
      "248\n",
      "249\n",
      "250\n",
      "251\n",
      "252\n",
      "253\n",
      "254\n",
      "255\n",
      "256\n",
      "257\n",
      "258\n",
      "259\n",
      "260\n",
      "261\n",
      "262\n",
      "263\n",
      "264\n",
      "265\n",
      "266\n",
      "267\n",
      "268\n",
      "269\n",
      "270\n",
      "271\n",
      "272\n",
      "273\n",
      "274\n",
      "275\n",
      "276\n",
      "277\n",
      "278\n",
      "279\n",
      "280\n",
      "281\n",
      "282\n",
      "283\n",
      "284\n",
      "285\n",
      "286\n",
      "287\n",
      "288\n",
      "289\n",
      "290\n",
      "291\n",
      "292\n",
      "293\n",
      "294\n",
      "295\n",
      "296\n",
      "297\n",
      "298\n",
      "299\n",
      "300\n",
      "301\n",
      "302\n",
      "303\n",
      "304\n",
      "305\n",
      "306\n",
      "307\n",
      "308\n",
      "309\n",
      "310\n",
      "311\n",
      "312\n",
      "313\n",
      "314\n",
      "315\n",
      "316\n",
      "317\n",
      "318\n",
      "319\n",
      "320\n",
      "321\n",
      "322\n",
      "323\n",
      "324\n",
      "325\n",
      "326\n",
      "327\n",
      "328\n",
      "329\n",
      "330\n",
      "331\n",
      "332\n",
      "333\n",
      "334\n",
      "335\n",
      "336\n",
      "337\n",
      "338\n",
      "339\n",
      "340\n",
      "341\n",
      "342\n",
      "343\n",
      "344\n",
      "345\n",
      "346\n",
      "347\n",
      "348\n",
      "349\n",
      "350\n",
      "351\n",
      "352\n",
      "353\n",
      "354\n",
      "355\n",
      "356\n",
      "357\n",
      "358\n",
      "359\n",
      "360\n",
      "361\n",
      "362\n",
      "363\n",
      "364\n",
      "365\n",
      "366\n",
      "367\n",
      "368\n",
      "369\n",
      "370\n",
      "371\n",
      "372\n",
      "373\n",
      "374\n",
      "375\n",
      "376\n",
      "377\n",
      "378\n",
      "379\n",
      "380\n",
      "381\n",
      "382\n",
      "383\n",
      "384\n",
      "385\n",
      "386\n",
      "387\n",
      "388\n",
      "389\n",
      "390\n",
      "391\n",
      "392\n",
      "393\n",
      "394\n",
      "395\n",
      "396\n",
      "397\n",
      "398\n",
      "399\n",
      "400\n",
      "number of pole: 2; Accuracy: 0.2925\n",
      "number of pole: 4; Accuracy: 0.6475\n",
      "number of pole: 8; Accuracy: 0.77\n",
      "number of pole: 32; Accuracy: 0.805\n",
      "number of pole: 64; Accuracy: 0.8025\n"
     ]
    }
   ],
   "source": [
    "count = 0\n",
    "true_iter2 = 0\n",
    "true_iter4 = 0\n",
    "true_iter8 = 0\n",
    "true_iter64 = 0\n",
    "true_iter32 = 0\n",
    "f = open('hist.txt',\"a\")\n",
    "for photo in all_photo:\n",
    "    count+=1\n",
    "    dif = []\n",
    "    for sample_hist in samples_hist2:\n",
    "        dif.append(sum(result_method(sample_hist, hist(photo,2))))\n",
    "    if str(((count-1)//10)+1) == samples_adress[dif.index(min(dif))][1:samples_adress[dif.index(min(dif))].index('/')]:\n",
    "        true_iter2+=1\n",
    "    dif = []\n",
    "    for sample_hist in samples_hist4:\n",
    "        dif.append(sum(result_method(sample_hist, hist(photo,4))))\n",
    "    if str(((count-1)//10)+1) == samples_adress[dif.index(min(dif))][1:samples_adress[dif.index(min(dif))].index('/')]:\n",
    "        true_iter4+=1\n",
    "    dif = []\n",
    "    for sample_hist in samples_hist8:\n",
    "        dif.append(sum(result_method(sample_hist, hist(photo,8))))\n",
    "    if str(((count-1)//10)+1) == samples_adress[dif.index(min(dif))][1:samples_adress[dif.index(min(dif))].index('/')]:\n",
    "        true_iter8+=1\n",
    "    dif = []\n",
    "    for sample_hist in samples_hist32:\n",
    "        dif.append(sum(result_method(sample_hist, hist(photo,32))))\n",
    "    if str(((count-1)//10)+1) == samples_adress[dif.index(min(dif))][1:samples_adress[dif.index(min(dif))].index('/')]:\n",
    "        true_iter32+=1\n",
    "    dif = []\n",
    "    for sample_hist in samples_hist64:\n",
    "        dif.append(sum(result_method(sample_hist, hist(photo,64))))\n",
    "    if str(((count-1)//10)+1) == samples_adress[dif.index(min(dif))][1:samples_adress[dif.index(min(dif))].index('/')]:\n",
    "        true_iter64+=1\n",
    "    print(count)\n",
    "    #print(true_iter2/count)\n",
    "    #print(true_iter8/count)\n",
    "    #print(true_iter64/count)\n",
    "    #print(\"-------\")\n",
    "f.write('2 : ' + str(true_iter2/400)+'\\n')\n",
    "f.write('4 : ' + str(true_iter4/400)+'\\n')\n",
    "f.write('8 : ' + str(true_iter8/400)+'\\n')\n",
    "f.write('32 : ' + str(true_iter32/400)+'\\n')\n",
    "f.write('64 : ' + str(true_iter64/400)+'\\n')\n",
    "f.close()\n",
    "res_pole = [true_iter2/400, true_iter4/400, true_iter8/400, true_iter32/400, true_iter64/400]    \n",
    "print(\"number of pole: 2; Accuracy: \" + str(true_iter2/400))\n",
    "print(\"number of pole: 4; Accuracy: \" + str(true_iter4/400))\n",
    "print(\"number of pole: 8; Accuracy: \" + str(true_iter8/400))\n",
    "print(\"number of pole: 32; Accuracy: \" + str(true_iter32/400))\n",
    "print(\"number of pole: 64; Accuracy: \" + str(true_iter64/400)) "
   ]
  },
  {
   "cell_type": "code",
   "execution_count": 30,
   "id": "3fb826ae",
   "metadata": {},
   "outputs": [],
   "source": [
    "#res_pole.insert(3,res16)\n",
    "#res_pole = res_pole[:3]+res_pole[4:]\n",
    "x_pole = [2,4,8,16,32,64]\n",
    "abc, _ = curve_fit(func,x_pole,res_pole)\n",
    "a, b, c = abc\n",
    "x_appr = list(range(2,70,1))\n",
    "y_appr = [func(i,a,b,c) for i in x_appr]"
   ]
  },
  {
   "cell_type": "code",
   "execution_count": 34,
   "id": "927fbe1d",
   "metadata": {},
   "outputs": [
    {
     "data": {
      "application/vnd.plotly.v1+json": {
       "config": {
        "plotlyServerURL": "https://plot.ly"
       },
       "data": [
        {
         "name": "Histograms",
         "type": "scatter",
         "x": [
          2,
          4,
          8,
          16,
          32,
          64
         ],
         "y": [
          0.2925,
          0.6475,
          0.77,
          0.7875,
          0.805,
          0.8025
         ]
        },
        {
         "name": "Approximate y=-0.47/(x+(-1.1))+0.82",
         "type": "scatter",
         "x": [
          2,
          3,
          4,
          5,
          6,
          7,
          8,
          9,
          10,
          11,
          12,
          13,
          14,
          15,
          16,
          17,
          18,
          19,
          20,
          21,
          22,
          23,
          24,
          25,
          26,
          27,
          28,
          29,
          30,
          31,
          32,
          33,
          34,
          35,
          36,
          37,
          38,
          39,
          40,
          41,
          42,
          43,
          44,
          45,
          46,
          47,
          48,
          49,
          50,
          51,
          52,
          53,
          54,
          55,
          56,
          57,
          58,
          59,
          60,
          61,
          62,
          63,
          64,
          65,
          66,
          67,
          68,
          69
         ],
         "y": [
          0.29193961994166073,
          0.5704659711509074,
          0.656608685209727,
          0.698524964627874,
          0.723316938999177,
          0.73969848310317,
          0.7513286758965837,
          0.7600128493715465,
          0.7667445426864499,
          0.7721156837262221,
          0.776500890027788,
          0.7801488099551166,
          0.7832309648822847,
          0.7858695016385916,
          0.7881537661191959,
          0.7901506209445347,
          0.7919110990763879,
          0.7934748266145631,
          0.7948730411990341,
          0.796130700136638,
          0.7972679831944883,
          0.7983013835851206,
          0.7992445130482022,
          0.8001087047818751,
          0.8009034710633558,
          0.8016368548387433,
          0.8023157028782771,
          0.8029458801791172,
          0.8035324398485504,
          0.8040797588918256,
          0.8045916476296044,
          0.8050714385324426,
          0.8055220588522543,
          0.8059460903969535,
          0.806345819027338,
          0.806723275880482,
          0.8070802718893276,
          0.8074184268367878,
          0.8077391939279822,
          0.808043880666986,
          0.8083336666706398,
          0.8086096189311848,
          0.80887270494404,
          0.8091238040411686,
          0.8093637172098119,
          0.809593175627604,
          0.8098128481056699,
          0.8100233475993067,
          0.810225236919736,
          0.8104190337590103,
          0.8106052151225401,
          0.8107842212491474,
          0.8109564590864613,
          0.8111223053794118,
          0.8112821094211542,
          0.8114361955087018,
          0.8115848651395963,
          0.8117283989809251,
          0.8118670586377466,
          0.8120010882443621,
          0.8121307158988028,
          0.8122561549582594,
          0.8123776052109337,
          0.8124952539378488,
          0.8126092768764892,
          0.8127198390966968,
          0.8128270957980074,
          0.8129311930365253
         ]
        }
       ],
       "layout": {
        "legend": {
         "orientation": "h",
         "x": 0.5,
         "xanchor": "center"
        },
        "margin": {
         "b": 0,
         "l": 0,
         "r": 0,
         "t": 30
        },
        "template": {
         "data": {
          "bar": [
           {
            "error_x": {
             "color": "#2a3f5f"
            },
            "error_y": {
             "color": "#2a3f5f"
            },
            "marker": {
             "line": {
              "color": "#E5ECF6",
              "width": 0.5
             },
             "pattern": {
              "fillmode": "overlay",
              "size": 10,
              "solidity": 0.2
             }
            },
            "type": "bar"
           }
          ],
          "barpolar": [
           {
            "marker": {
             "line": {
              "color": "#E5ECF6",
              "width": 0.5
             },
             "pattern": {
              "fillmode": "overlay",
              "size": 10,
              "solidity": 0.2
             }
            },
            "type": "barpolar"
           }
          ],
          "carpet": [
           {
            "aaxis": {
             "endlinecolor": "#2a3f5f",
             "gridcolor": "white",
             "linecolor": "white",
             "minorgridcolor": "white",
             "startlinecolor": "#2a3f5f"
            },
            "baxis": {
             "endlinecolor": "#2a3f5f",
             "gridcolor": "white",
             "linecolor": "white",
             "minorgridcolor": "white",
             "startlinecolor": "#2a3f5f"
            },
            "type": "carpet"
           }
          ],
          "choropleth": [
           {
            "colorbar": {
             "outlinewidth": 0,
             "ticks": ""
            },
            "type": "choropleth"
           }
          ],
          "contour": [
           {
            "colorbar": {
             "outlinewidth": 0,
             "ticks": ""
            },
            "colorscale": [
             [
              0,
              "#0d0887"
             ],
             [
              0.1111111111111111,
              "#46039f"
             ],
             [
              0.2222222222222222,
              "#7201a8"
             ],
             [
              0.3333333333333333,
              "#9c179e"
             ],
             [
              0.4444444444444444,
              "#bd3786"
             ],
             [
              0.5555555555555556,
              "#d8576b"
             ],
             [
              0.6666666666666666,
              "#ed7953"
             ],
             [
              0.7777777777777778,
              "#fb9f3a"
             ],
             [
              0.8888888888888888,
              "#fdca26"
             ],
             [
              1,
              "#f0f921"
             ]
            ],
            "type": "contour"
           }
          ],
          "contourcarpet": [
           {
            "colorbar": {
             "outlinewidth": 0,
             "ticks": ""
            },
            "type": "contourcarpet"
           }
          ],
          "heatmap": [
           {
            "colorbar": {
             "outlinewidth": 0,
             "ticks": ""
            },
            "colorscale": [
             [
              0,
              "#0d0887"
             ],
             [
              0.1111111111111111,
              "#46039f"
             ],
             [
              0.2222222222222222,
              "#7201a8"
             ],
             [
              0.3333333333333333,
              "#9c179e"
             ],
             [
              0.4444444444444444,
              "#bd3786"
             ],
             [
              0.5555555555555556,
              "#d8576b"
             ],
             [
              0.6666666666666666,
              "#ed7953"
             ],
             [
              0.7777777777777778,
              "#fb9f3a"
             ],
             [
              0.8888888888888888,
              "#fdca26"
             ],
             [
              1,
              "#f0f921"
             ]
            ],
            "type": "heatmap"
           }
          ],
          "heatmapgl": [
           {
            "colorbar": {
             "outlinewidth": 0,
             "ticks": ""
            },
            "colorscale": [
             [
              0,
              "#0d0887"
             ],
             [
              0.1111111111111111,
              "#46039f"
             ],
             [
              0.2222222222222222,
              "#7201a8"
             ],
             [
              0.3333333333333333,
              "#9c179e"
             ],
             [
              0.4444444444444444,
              "#bd3786"
             ],
             [
              0.5555555555555556,
              "#d8576b"
             ],
             [
              0.6666666666666666,
              "#ed7953"
             ],
             [
              0.7777777777777778,
              "#fb9f3a"
             ],
             [
              0.8888888888888888,
              "#fdca26"
             ],
             [
              1,
              "#f0f921"
             ]
            ],
            "type": "heatmapgl"
           }
          ],
          "histogram": [
           {
            "marker": {
             "pattern": {
              "fillmode": "overlay",
              "size": 10,
              "solidity": 0.2
             }
            },
            "type": "histogram"
           }
          ],
          "histogram2d": [
           {
            "colorbar": {
             "outlinewidth": 0,
             "ticks": ""
            },
            "colorscale": [
             [
              0,
              "#0d0887"
             ],
             [
              0.1111111111111111,
              "#46039f"
             ],
             [
              0.2222222222222222,
              "#7201a8"
             ],
             [
              0.3333333333333333,
              "#9c179e"
             ],
             [
              0.4444444444444444,
              "#bd3786"
             ],
             [
              0.5555555555555556,
              "#d8576b"
             ],
             [
              0.6666666666666666,
              "#ed7953"
             ],
             [
              0.7777777777777778,
              "#fb9f3a"
             ],
             [
              0.8888888888888888,
              "#fdca26"
             ],
             [
              1,
              "#f0f921"
             ]
            ],
            "type": "histogram2d"
           }
          ],
          "histogram2dcontour": [
           {
            "colorbar": {
             "outlinewidth": 0,
             "ticks": ""
            },
            "colorscale": [
             [
              0,
              "#0d0887"
             ],
             [
              0.1111111111111111,
              "#46039f"
             ],
             [
              0.2222222222222222,
              "#7201a8"
             ],
             [
              0.3333333333333333,
              "#9c179e"
             ],
             [
              0.4444444444444444,
              "#bd3786"
             ],
             [
              0.5555555555555556,
              "#d8576b"
             ],
             [
              0.6666666666666666,
              "#ed7953"
             ],
             [
              0.7777777777777778,
              "#fb9f3a"
             ],
             [
              0.8888888888888888,
              "#fdca26"
             ],
             [
              1,
              "#f0f921"
             ]
            ],
            "type": "histogram2dcontour"
           }
          ],
          "mesh3d": [
           {
            "colorbar": {
             "outlinewidth": 0,
             "ticks": ""
            },
            "type": "mesh3d"
           }
          ],
          "parcoords": [
           {
            "line": {
             "colorbar": {
              "outlinewidth": 0,
              "ticks": ""
             }
            },
            "type": "parcoords"
           }
          ],
          "pie": [
           {
            "automargin": true,
            "type": "pie"
           }
          ],
          "scatter": [
           {
            "marker": {
             "colorbar": {
              "outlinewidth": 0,
              "ticks": ""
             }
            },
            "type": "scatter"
           }
          ],
          "scatter3d": [
           {
            "line": {
             "colorbar": {
              "outlinewidth": 0,
              "ticks": ""
             }
            },
            "marker": {
             "colorbar": {
              "outlinewidth": 0,
              "ticks": ""
             }
            },
            "type": "scatter3d"
           }
          ],
          "scattercarpet": [
           {
            "marker": {
             "colorbar": {
              "outlinewidth": 0,
              "ticks": ""
             }
            },
            "type": "scattercarpet"
           }
          ],
          "scattergeo": [
           {
            "marker": {
             "colorbar": {
              "outlinewidth": 0,
              "ticks": ""
             }
            },
            "type": "scattergeo"
           }
          ],
          "scattergl": [
           {
            "marker": {
             "colorbar": {
              "outlinewidth": 0,
              "ticks": ""
             }
            },
            "type": "scattergl"
           }
          ],
          "scattermapbox": [
           {
            "marker": {
             "colorbar": {
              "outlinewidth": 0,
              "ticks": ""
             }
            },
            "type": "scattermapbox"
           }
          ],
          "scatterpolar": [
           {
            "marker": {
             "colorbar": {
              "outlinewidth": 0,
              "ticks": ""
             }
            },
            "type": "scatterpolar"
           }
          ],
          "scatterpolargl": [
           {
            "marker": {
             "colorbar": {
              "outlinewidth": 0,
              "ticks": ""
             }
            },
            "type": "scatterpolargl"
           }
          ],
          "scatterternary": [
           {
            "marker": {
             "colorbar": {
              "outlinewidth": 0,
              "ticks": ""
             }
            },
            "type": "scatterternary"
           }
          ],
          "surface": [
           {
            "colorbar": {
             "outlinewidth": 0,
             "ticks": ""
            },
            "colorscale": [
             [
              0,
              "#0d0887"
             ],
             [
              0.1111111111111111,
              "#46039f"
             ],
             [
              0.2222222222222222,
              "#7201a8"
             ],
             [
              0.3333333333333333,
              "#9c179e"
             ],
             [
              0.4444444444444444,
              "#bd3786"
             ],
             [
              0.5555555555555556,
              "#d8576b"
             ],
             [
              0.6666666666666666,
              "#ed7953"
             ],
             [
              0.7777777777777778,
              "#fb9f3a"
             ],
             [
              0.8888888888888888,
              "#fdca26"
             ],
             [
              1,
              "#f0f921"
             ]
            ],
            "type": "surface"
           }
          ],
          "table": [
           {
            "cells": {
             "fill": {
              "color": "#EBF0F8"
             },
             "line": {
              "color": "white"
             }
            },
            "header": {
             "fill": {
              "color": "#C8D4E3"
             },
             "line": {
              "color": "white"
             }
            },
            "type": "table"
           }
          ]
         },
         "layout": {
          "annotationdefaults": {
           "arrowcolor": "#2a3f5f",
           "arrowhead": 0,
           "arrowwidth": 1
          },
          "autotypenumbers": "strict",
          "coloraxis": {
           "colorbar": {
            "outlinewidth": 0,
            "ticks": ""
           }
          },
          "colorscale": {
           "diverging": [
            [
             0,
             "#8e0152"
            ],
            [
             0.1,
             "#c51b7d"
            ],
            [
             0.2,
             "#de77ae"
            ],
            [
             0.3,
             "#f1b6da"
            ],
            [
             0.4,
             "#fde0ef"
            ],
            [
             0.5,
             "#f7f7f7"
            ],
            [
             0.6,
             "#e6f5d0"
            ],
            [
             0.7,
             "#b8e186"
            ],
            [
             0.8,
             "#7fbc41"
            ],
            [
             0.9,
             "#4d9221"
            ],
            [
             1,
             "#276419"
            ]
           ],
           "sequential": [
            [
             0,
             "#0d0887"
            ],
            [
             0.1111111111111111,
             "#46039f"
            ],
            [
             0.2222222222222222,
             "#7201a8"
            ],
            [
             0.3333333333333333,
             "#9c179e"
            ],
            [
             0.4444444444444444,
             "#bd3786"
            ],
            [
             0.5555555555555556,
             "#d8576b"
            ],
            [
             0.6666666666666666,
             "#ed7953"
            ],
            [
             0.7777777777777778,
             "#fb9f3a"
            ],
            [
             0.8888888888888888,
             "#fdca26"
            ],
            [
             1,
             "#f0f921"
            ]
           ],
           "sequentialminus": [
            [
             0,
             "#0d0887"
            ],
            [
             0.1111111111111111,
             "#46039f"
            ],
            [
             0.2222222222222222,
             "#7201a8"
            ],
            [
             0.3333333333333333,
             "#9c179e"
            ],
            [
             0.4444444444444444,
             "#bd3786"
            ],
            [
             0.5555555555555556,
             "#d8576b"
            ],
            [
             0.6666666666666666,
             "#ed7953"
            ],
            [
             0.7777777777777778,
             "#fb9f3a"
            ],
            [
             0.8888888888888888,
             "#fdca26"
            ],
            [
             1,
             "#f0f921"
            ]
           ]
          },
          "colorway": [
           "#636efa",
           "#EF553B",
           "#00cc96",
           "#ab63fa",
           "#FFA15A",
           "#19d3f3",
           "#FF6692",
           "#B6E880",
           "#FF97FF",
           "#FECB52"
          ],
          "font": {
           "color": "#2a3f5f"
          },
          "geo": {
           "bgcolor": "white",
           "lakecolor": "white",
           "landcolor": "#E5ECF6",
           "showlakes": true,
           "showland": true,
           "subunitcolor": "white"
          },
          "hoverlabel": {
           "align": "left"
          },
          "hovermode": "closest",
          "mapbox": {
           "style": "light"
          },
          "paper_bgcolor": "white",
          "plot_bgcolor": "#E5ECF6",
          "polar": {
           "angularaxis": {
            "gridcolor": "white",
            "linecolor": "white",
            "ticks": ""
           },
           "bgcolor": "#E5ECF6",
           "radialaxis": {
            "gridcolor": "white",
            "linecolor": "white",
            "ticks": ""
           }
          },
          "scene": {
           "xaxis": {
            "backgroundcolor": "#E5ECF6",
            "gridcolor": "white",
            "gridwidth": 2,
            "linecolor": "white",
            "showbackground": true,
            "ticks": "",
            "zerolinecolor": "white"
           },
           "yaxis": {
            "backgroundcolor": "#E5ECF6",
            "gridcolor": "white",
            "gridwidth": 2,
            "linecolor": "white",
            "showbackground": true,
            "ticks": "",
            "zerolinecolor": "white"
           },
           "zaxis": {
            "backgroundcolor": "#E5ECF6",
            "gridcolor": "white",
            "gridwidth": 2,
            "linecolor": "white",
            "showbackground": true,
            "ticks": "",
            "zerolinecolor": "white"
           }
          },
          "shapedefaults": {
           "line": {
            "color": "#2a3f5f"
           }
          },
          "ternary": {
           "aaxis": {
            "gridcolor": "white",
            "linecolor": "white",
            "ticks": ""
           },
           "baxis": {
            "gridcolor": "white",
            "linecolor": "white",
            "ticks": ""
           },
           "bgcolor": "#E5ECF6",
           "caxis": {
            "gridcolor": "white",
            "linecolor": "white",
            "ticks": ""
           }
          },
          "title": {
           "x": 0.05
          },
          "xaxis": {
           "automargin": true,
           "gridcolor": "white",
           "linecolor": "white",
           "ticks": "",
           "title": {
            "standoff": 15
           },
           "zerolinecolor": "white",
           "zerolinewidth": 2
          },
          "yaxis": {
           "automargin": true,
           "gridcolor": "white",
           "linecolor": "white",
           "ticks": "",
           "title": {
            "standoff": 15
           },
           "zerolinecolor": "white",
           "zerolinewidth": 2
          }
         }
        },
        "title": {
         "text": "Точность метода гистограмм в зависимости от количества столбцов",
         "x": 0.5
        },
        "xaxis": {
         "title": {
          "text": "Количество столбцов"
         }
        },
        "yaxis": {
         "title": {
          "text": "Вероятность распознавания"
         }
        }
       }
      },
      "text/html": [
       "<div>                            <div id=\"e0fe1d1d-8a0d-46e7-aadd-c8166181ba75\" class=\"plotly-graph-div\" style=\"height:525px; width:100%;\"></div>            <script type=\"text/javascript\">                require([\"plotly\"], function(Plotly) {                    window.PLOTLYENV=window.PLOTLYENV || {};                                    if (document.getElementById(\"e0fe1d1d-8a0d-46e7-aadd-c8166181ba75\")) {                    Plotly.newPlot(                        \"e0fe1d1d-8a0d-46e7-aadd-c8166181ba75\",                        [{\"name\":\"Histograms\",\"x\":[2,4,8,16,32,64],\"y\":[0.2925,0.6475,0.77,0.7875,0.805,0.8025],\"type\":\"scatter\"},{\"name\":\"Approximate y=-0.47/(x+(-1.1))+0.82\",\"x\":[2,3,4,5,6,7,8,9,10,11,12,13,14,15,16,17,18,19,20,21,22,23,24,25,26,27,28,29,30,31,32,33,34,35,36,37,38,39,40,41,42,43,44,45,46,47,48,49,50,51,52,53,54,55,56,57,58,59,60,61,62,63,64,65,66,67,68,69],\"y\":[0.29193961994166073,0.5704659711509074,0.656608685209727,0.698524964627874,0.723316938999177,0.73969848310317,0.7513286758965837,0.7600128493715465,0.7667445426864499,0.7721156837262221,0.776500890027788,0.7801488099551166,0.7832309648822847,0.7858695016385916,0.7881537661191959,0.7901506209445347,0.7919110990763879,0.7934748266145631,0.7948730411990341,0.796130700136638,0.7972679831944883,0.7983013835851206,0.7992445130482022,0.8001087047818751,0.8009034710633558,0.8016368548387433,0.8023157028782771,0.8029458801791172,0.8035324398485504,0.8040797588918256,0.8045916476296044,0.8050714385324426,0.8055220588522543,0.8059460903969535,0.806345819027338,0.806723275880482,0.8070802718893276,0.8074184268367878,0.8077391939279822,0.808043880666986,0.8083336666706398,0.8086096189311848,0.80887270494404,0.8091238040411686,0.8093637172098119,0.809593175627604,0.8098128481056699,0.8100233475993067,0.810225236919736,0.8104190337590103,0.8106052151225401,0.8107842212491474,0.8109564590864613,0.8111223053794118,0.8112821094211542,0.8114361955087018,0.8115848651395963,0.8117283989809251,0.8118670586377466,0.8120010882443621,0.8121307158988028,0.8122561549582594,0.8123776052109337,0.8124952539378488,0.8126092768764892,0.8127198390966968,0.8128270957980074,0.8129311930365253],\"type\":\"scatter\"}],                        {\"template\":{\"data\":{\"bar\":[{\"error_x\":{\"color\":\"#2a3f5f\"},\"error_y\":{\"color\":\"#2a3f5f\"},\"marker\":{\"line\":{\"color\":\"#E5ECF6\",\"width\":0.5},\"pattern\":{\"fillmode\":\"overlay\",\"size\":10,\"solidity\":0.2}},\"type\":\"bar\"}],\"barpolar\":[{\"marker\":{\"line\":{\"color\":\"#E5ECF6\",\"width\":0.5},\"pattern\":{\"fillmode\":\"overlay\",\"size\":10,\"solidity\":0.2}},\"type\":\"barpolar\"}],\"carpet\":[{\"aaxis\":{\"endlinecolor\":\"#2a3f5f\",\"gridcolor\":\"white\",\"linecolor\":\"white\",\"minorgridcolor\":\"white\",\"startlinecolor\":\"#2a3f5f\"},\"baxis\":{\"endlinecolor\":\"#2a3f5f\",\"gridcolor\":\"white\",\"linecolor\":\"white\",\"minorgridcolor\":\"white\",\"startlinecolor\":\"#2a3f5f\"},\"type\":\"carpet\"}],\"choropleth\":[{\"colorbar\":{\"outlinewidth\":0,\"ticks\":\"\"},\"type\":\"choropleth\"}],\"contour\":[{\"colorbar\":{\"outlinewidth\":0,\"ticks\":\"\"},\"colorscale\":[[0.0,\"#0d0887\"],[0.1111111111111111,\"#46039f\"],[0.2222222222222222,\"#7201a8\"],[0.3333333333333333,\"#9c179e\"],[0.4444444444444444,\"#bd3786\"],[0.5555555555555556,\"#d8576b\"],[0.6666666666666666,\"#ed7953\"],[0.7777777777777778,\"#fb9f3a\"],[0.8888888888888888,\"#fdca26\"],[1.0,\"#f0f921\"]],\"type\":\"contour\"}],\"contourcarpet\":[{\"colorbar\":{\"outlinewidth\":0,\"ticks\":\"\"},\"type\":\"contourcarpet\"}],\"heatmap\":[{\"colorbar\":{\"outlinewidth\":0,\"ticks\":\"\"},\"colorscale\":[[0.0,\"#0d0887\"],[0.1111111111111111,\"#46039f\"],[0.2222222222222222,\"#7201a8\"],[0.3333333333333333,\"#9c179e\"],[0.4444444444444444,\"#bd3786\"],[0.5555555555555556,\"#d8576b\"],[0.6666666666666666,\"#ed7953\"],[0.7777777777777778,\"#fb9f3a\"],[0.8888888888888888,\"#fdca26\"],[1.0,\"#f0f921\"]],\"type\":\"heatmap\"}],\"heatmapgl\":[{\"colorbar\":{\"outlinewidth\":0,\"ticks\":\"\"},\"colorscale\":[[0.0,\"#0d0887\"],[0.1111111111111111,\"#46039f\"],[0.2222222222222222,\"#7201a8\"],[0.3333333333333333,\"#9c179e\"],[0.4444444444444444,\"#bd3786\"],[0.5555555555555556,\"#d8576b\"],[0.6666666666666666,\"#ed7953\"],[0.7777777777777778,\"#fb9f3a\"],[0.8888888888888888,\"#fdca26\"],[1.0,\"#f0f921\"]],\"type\":\"heatmapgl\"}],\"histogram\":[{\"marker\":{\"pattern\":{\"fillmode\":\"overlay\",\"size\":10,\"solidity\":0.2}},\"type\":\"histogram\"}],\"histogram2d\":[{\"colorbar\":{\"outlinewidth\":0,\"ticks\":\"\"},\"colorscale\":[[0.0,\"#0d0887\"],[0.1111111111111111,\"#46039f\"],[0.2222222222222222,\"#7201a8\"],[0.3333333333333333,\"#9c179e\"],[0.4444444444444444,\"#bd3786\"],[0.5555555555555556,\"#d8576b\"],[0.6666666666666666,\"#ed7953\"],[0.7777777777777778,\"#fb9f3a\"],[0.8888888888888888,\"#fdca26\"],[1.0,\"#f0f921\"]],\"type\":\"histogram2d\"}],\"histogram2dcontour\":[{\"colorbar\":{\"outlinewidth\":0,\"ticks\":\"\"},\"colorscale\":[[0.0,\"#0d0887\"],[0.1111111111111111,\"#46039f\"],[0.2222222222222222,\"#7201a8\"],[0.3333333333333333,\"#9c179e\"],[0.4444444444444444,\"#bd3786\"],[0.5555555555555556,\"#d8576b\"],[0.6666666666666666,\"#ed7953\"],[0.7777777777777778,\"#fb9f3a\"],[0.8888888888888888,\"#fdca26\"],[1.0,\"#f0f921\"]],\"type\":\"histogram2dcontour\"}],\"mesh3d\":[{\"colorbar\":{\"outlinewidth\":0,\"ticks\":\"\"},\"type\":\"mesh3d\"}],\"parcoords\":[{\"line\":{\"colorbar\":{\"outlinewidth\":0,\"ticks\":\"\"}},\"type\":\"parcoords\"}],\"pie\":[{\"automargin\":true,\"type\":\"pie\"}],\"scatter\":[{\"marker\":{\"colorbar\":{\"outlinewidth\":0,\"ticks\":\"\"}},\"type\":\"scatter\"}],\"scatter3d\":[{\"line\":{\"colorbar\":{\"outlinewidth\":0,\"ticks\":\"\"}},\"marker\":{\"colorbar\":{\"outlinewidth\":0,\"ticks\":\"\"}},\"type\":\"scatter3d\"}],\"scattercarpet\":[{\"marker\":{\"colorbar\":{\"outlinewidth\":0,\"ticks\":\"\"}},\"type\":\"scattercarpet\"}],\"scattergeo\":[{\"marker\":{\"colorbar\":{\"outlinewidth\":0,\"ticks\":\"\"}},\"type\":\"scattergeo\"}],\"scattergl\":[{\"marker\":{\"colorbar\":{\"outlinewidth\":0,\"ticks\":\"\"}},\"type\":\"scattergl\"}],\"scattermapbox\":[{\"marker\":{\"colorbar\":{\"outlinewidth\":0,\"ticks\":\"\"}},\"type\":\"scattermapbox\"}],\"scatterpolar\":[{\"marker\":{\"colorbar\":{\"outlinewidth\":0,\"ticks\":\"\"}},\"type\":\"scatterpolar\"}],\"scatterpolargl\":[{\"marker\":{\"colorbar\":{\"outlinewidth\":0,\"ticks\":\"\"}},\"type\":\"scatterpolargl\"}],\"scatterternary\":[{\"marker\":{\"colorbar\":{\"outlinewidth\":0,\"ticks\":\"\"}},\"type\":\"scatterternary\"}],\"surface\":[{\"colorbar\":{\"outlinewidth\":0,\"ticks\":\"\"},\"colorscale\":[[0.0,\"#0d0887\"],[0.1111111111111111,\"#46039f\"],[0.2222222222222222,\"#7201a8\"],[0.3333333333333333,\"#9c179e\"],[0.4444444444444444,\"#bd3786\"],[0.5555555555555556,\"#d8576b\"],[0.6666666666666666,\"#ed7953\"],[0.7777777777777778,\"#fb9f3a\"],[0.8888888888888888,\"#fdca26\"],[1.0,\"#f0f921\"]],\"type\":\"surface\"}],\"table\":[{\"cells\":{\"fill\":{\"color\":\"#EBF0F8\"},\"line\":{\"color\":\"white\"}},\"header\":{\"fill\":{\"color\":\"#C8D4E3\"},\"line\":{\"color\":\"white\"}},\"type\":\"table\"}]},\"layout\":{\"annotationdefaults\":{\"arrowcolor\":\"#2a3f5f\",\"arrowhead\":0,\"arrowwidth\":1},\"autotypenumbers\":\"strict\",\"coloraxis\":{\"colorbar\":{\"outlinewidth\":0,\"ticks\":\"\"}},\"colorscale\":{\"diverging\":[[0,\"#8e0152\"],[0.1,\"#c51b7d\"],[0.2,\"#de77ae\"],[0.3,\"#f1b6da\"],[0.4,\"#fde0ef\"],[0.5,\"#f7f7f7\"],[0.6,\"#e6f5d0\"],[0.7,\"#b8e186\"],[0.8,\"#7fbc41\"],[0.9,\"#4d9221\"],[1,\"#276419\"]],\"sequential\":[[0.0,\"#0d0887\"],[0.1111111111111111,\"#46039f\"],[0.2222222222222222,\"#7201a8\"],[0.3333333333333333,\"#9c179e\"],[0.4444444444444444,\"#bd3786\"],[0.5555555555555556,\"#d8576b\"],[0.6666666666666666,\"#ed7953\"],[0.7777777777777778,\"#fb9f3a\"],[0.8888888888888888,\"#fdca26\"],[1.0,\"#f0f921\"]],\"sequentialminus\":[[0.0,\"#0d0887\"],[0.1111111111111111,\"#46039f\"],[0.2222222222222222,\"#7201a8\"],[0.3333333333333333,\"#9c179e\"],[0.4444444444444444,\"#bd3786\"],[0.5555555555555556,\"#d8576b\"],[0.6666666666666666,\"#ed7953\"],[0.7777777777777778,\"#fb9f3a\"],[0.8888888888888888,\"#fdca26\"],[1.0,\"#f0f921\"]]},\"colorway\":[\"#636efa\",\"#EF553B\",\"#00cc96\",\"#ab63fa\",\"#FFA15A\",\"#19d3f3\",\"#FF6692\",\"#B6E880\",\"#FF97FF\",\"#FECB52\"],\"font\":{\"color\":\"#2a3f5f\"},\"geo\":{\"bgcolor\":\"white\",\"lakecolor\":\"white\",\"landcolor\":\"#E5ECF6\",\"showlakes\":true,\"showland\":true,\"subunitcolor\":\"white\"},\"hoverlabel\":{\"align\":\"left\"},\"hovermode\":\"closest\",\"mapbox\":{\"style\":\"light\"},\"paper_bgcolor\":\"white\",\"plot_bgcolor\":\"#E5ECF6\",\"polar\":{\"angularaxis\":{\"gridcolor\":\"white\",\"linecolor\":\"white\",\"ticks\":\"\"},\"bgcolor\":\"#E5ECF6\",\"radialaxis\":{\"gridcolor\":\"white\",\"linecolor\":\"white\",\"ticks\":\"\"}},\"scene\":{\"xaxis\":{\"backgroundcolor\":\"#E5ECF6\",\"gridcolor\":\"white\",\"gridwidth\":2,\"linecolor\":\"white\",\"showbackground\":true,\"ticks\":\"\",\"zerolinecolor\":\"white\"},\"yaxis\":{\"backgroundcolor\":\"#E5ECF6\",\"gridcolor\":\"white\",\"gridwidth\":2,\"linecolor\":\"white\",\"showbackground\":true,\"ticks\":\"\",\"zerolinecolor\":\"white\"},\"zaxis\":{\"backgroundcolor\":\"#E5ECF6\",\"gridcolor\":\"white\",\"gridwidth\":2,\"linecolor\":\"white\",\"showbackground\":true,\"ticks\":\"\",\"zerolinecolor\":\"white\"}},\"shapedefaults\":{\"line\":{\"color\":\"#2a3f5f\"}},\"ternary\":{\"aaxis\":{\"gridcolor\":\"white\",\"linecolor\":\"white\",\"ticks\":\"\"},\"baxis\":{\"gridcolor\":\"white\",\"linecolor\":\"white\",\"ticks\":\"\"},\"bgcolor\":\"#E5ECF6\",\"caxis\":{\"gridcolor\":\"white\",\"linecolor\":\"white\",\"ticks\":\"\"}},\"title\":{\"x\":0.05},\"xaxis\":{\"automargin\":true,\"gridcolor\":\"white\",\"linecolor\":\"white\",\"ticks\":\"\",\"title\":{\"standoff\":15},\"zerolinecolor\":\"white\",\"zerolinewidth\":2},\"yaxis\":{\"automargin\":true,\"gridcolor\":\"white\",\"linecolor\":\"white\",\"ticks\":\"\",\"title\":{\"standoff\":15},\"zerolinecolor\":\"white\",\"zerolinewidth\":2}}},\"title\":{\"text\":\"\\u0422\\u043e\\u0447\\u043d\\u043e\\u0441\\u0442\\u044c \\u043c\\u0435\\u0442\\u043e\\u0434\\u0430 \\u0433\\u0438\\u0441\\u0442\\u043e\\u0433\\u0440\\u0430\\u043c\\u043c \\u0432 \\u0437\\u0430\\u0432\\u0438\\u0441\\u0438\\u043c\\u043e\\u0441\\u0442\\u0438 \\u043e\\u0442 \\u043a\\u043e\\u043b\\u0438\\u0447\\u0435\\u0441\\u0442\\u0432\\u0430 \\u0441\\u0442\\u043e\\u043b\\u0431\\u0446\\u043e\\u0432\",\"x\":0.5},\"legend\":{\"x\":0.5,\"xanchor\":\"center\",\"orientation\":\"h\"},\"margin\":{\"l\":0,\"r\":0,\"t\":30,\"b\":0},\"xaxis\":{\"title\":{\"text\":\"\\u041a\\u043e\\u043b\\u0438\\u0447\\u0435\\u0441\\u0442\\u0432\\u043e \\u0441\\u0442\\u043e\\u043b\\u0431\\u0446\\u043e\\u0432\"}},\"yaxis\":{\"title\":{\"text\":\"\\u0412\\u0435\\u0440\\u043e\\u044f\\u0442\\u043d\\u043e\\u0441\\u0442\\u044c \\u0440\\u0430\\u0441\\u043f\\u043e\\u0437\\u043d\\u0430\\u0432\\u0430\\u043d\\u0438\\u044f\"}}},                        {\"responsive\": true}                    ).then(function(){\n",
       "                            \n",
       "var gd = document.getElementById('e0fe1d1d-8a0d-46e7-aadd-c8166181ba75');\n",
       "var x = new MutationObserver(function (mutations, observer) {{\n",
       "        var display = window.getComputedStyle(gd).display;\n",
       "        if (!display || display === 'none') {{\n",
       "            console.log([gd, 'removed!']);\n",
       "            Plotly.purge(gd);\n",
       "            observer.disconnect();\n",
       "        }}\n",
       "}});\n",
       "\n",
       "// Listen for the removal of the full notebook cells\n",
       "var notebookContainer = gd.closest('#notebook-container');\n",
       "if (notebookContainer) {{\n",
       "    x.observe(notebookContainer, {childList: true});\n",
       "}}\n",
       "\n",
       "// Listen for the clearing of the current output cell\n",
       "var outputEl = gd.closest('.output');\n",
       "if (outputEl) {{\n",
       "    x.observe(outputEl, {childList: true});\n",
       "}}\n",
       "\n",
       "                        })                };                });            </script>        </div>"
      ]
     },
     "metadata": {},
     "output_type": "display_data"
    }
   ],
   "source": [
    "fig1 = go.Figure()\n",
    "fig1.add_trace(go.Scatter(x = np.array([2**i for i in range(1,7)]), y = np.array(res_pole), name = \"Histograms\"))\n",
    "fig1.add_trace(go.Scatter(x = np.array(x_appr), y = np.array(y_appr), name = \"Approximate y=\"+str(round(a,2))+'/(x+('+str(round(b,2))+'))+'+str(round(c,2))))\n",
    "fig1.update_layout(\n",
    "    title=\"Точность метода гистограмм в зависимости от количества столбцов\",\n",
    "    title_x = 0.5,\n",
    "    legend=dict(x=.5, xanchor=\"center\", orientation=\"h\"),\n",
    "    margin=dict(l=0, r=0, t=30, b=0),\n",
    "    xaxis_title=\"Количество столбцов\",\n",
    "    yaxis_title=\"Вероятность распознавания\")\n",
    "fig1.show()"
   ]
  },
  {
   "cell_type": "code",
   "execution_count": null,
   "id": "bdec4bcf",
   "metadata": {},
   "outputs": [],
   "source": [
    "count = 0\n",
    "for j in os.listdir(path):\n",
    "    if j[0]==\"s\":\n",
    "        num_files = len(os.listdir(path+\"/\"+j))\n",
    "        for i in range(1,num_files+1):\n",
    "            dif = []\n",
    "            for sample_scaling in samples_scaling:\n",
    "                dif.append(sum(result_method(sample_scaling, scaling(read_pgm(\"C:/Users/vitya/Analis/Faces/Arch/\"+j+'/'+str(i)+'.pgm')))))\n",
    "            if samples_adress[dif.index(min(dif))][:samples_adress[dif.index(min(dif))].index('/')] == j:\n",
    "                count+=1\n",
    "print(\"Method: scaling with overlay. Accuracy:  \"+str(count/400))    "
   ]
  },
  {
   "cell_type": "code",
   "execution_count": null,
   "id": "5ea75077",
   "metadata": {},
   "outputs": [],
   "source": [
    "count = 0\n",
    "for j in os.listdir(path):\n",
    "    if j[0]==\"s\":\n",
    "        num_files = len(os.listdir(path+\"/\"+j))\n",
    "        for i in range(1,num_files+1):\n",
    "            dif = []\n",
    "            for sample_scaling in samples_scaling2:\n",
    "                dif.append(sum(result_method(sample_scaling, scaling2(read_pgm(\"C:/Users/vitya/Analis/Faces/Arch/\"+j+'/'+str(i)+'.pgm')))))\n",
    "            if samples_adress[dif.index(min(dif))][:samples_adress[dif.index(min(dif))].index('/')] == j:\n",
    "                count+=1\n",
    "print(\"Method: scaling. Accuracy:  \"+str(count/400))"
   ]
  },
  {
   "cell_type": "code",
   "execution_count": 35,
   "id": "13d4b40e",
   "metadata": {},
   "outputs": [
    {
     "name": "stdout",
     "output_type": "stream",
     "text": [
      "Method: random pixels. Number of pixels and accuracy:  \n",
      "100\n",
      "0.81\n",
      "-----------------\n",
      "120\n",
      "0.79\n",
      "-----------------\n",
      "140\n",
      "0.78\n",
      "-----------------\n",
      "160\n",
      "0.755\n",
      "-----------------\n",
      "180\n",
      "0.7625\n",
      "-----------------\n",
      "200\n",
      "0.7825\n",
      "-----------------\n",
      "220\n",
      "0.7425\n",
      "-----------------\n",
      "240\n",
      "0.75\n",
      "-----------------\n",
      "260\n",
      "0.71\n",
      "-----------------\n",
      "280\n",
      "0.72\n",
      "-----------------\n",
      "300\n",
      "0.7225\n",
      "-----------------\n",
      "320\n",
      "0.715\n",
      "-----------------\n",
      "340\n",
      "0.715\n",
      "-----------------\n",
      "360\n",
      "0.715\n",
      "-----------------\n",
      "380\n",
      "0.685\n",
      "-----------------\n"
     ]
    }
   ],
   "source": [
    "print(\"Method: random pixels. Number of pixels and accuracy:  \")\n",
    "f = open(\"randpix.txt\",\"a\")\n",
    "for k in range(100,400,20):\n",
    "    count = 0\n",
    "    for j in os.listdir(path):\n",
    "        if j[0]==\"s\":\n",
    "            num_files = len(os.listdir(path+\"/\"+j))\n",
    "            for i in range(1,num_files+1):\n",
    "                dif = []\n",
    "                for sample in samples:\n",
    "                    dif.append(sum(method1(sample, read_pgm(\"C:/Users/vitya/Analis/Faces/Arch/\"+j+'/'+str(i)+'.pgm'),k)))\n",
    "                #print(samples_adress[dif.index(min(dif))])\n",
    "                #print(j+'/'+str(i))\n",
    "                #print('-----------------')\n",
    "                if samples_adress[dif.index(min(dif))][:samples_adress[dif.index(min(dif))].index('/')] == j:\n",
    "                    count+=1\n",
    "    print(k)\n",
    "    print(count/400)\n",
    "    f.write(str(k)+' : ' + str(count/400)+'\\n')\n",
    "    k_all.append(k)\n",
    "    res_rand.append(count/400)\n",
    "    print('-----------------')\n",
    "f.close()"
   ]
  },
  {
   "cell_type": "code",
   "execution_count": 40,
   "id": "586bd460",
   "metadata": {},
   "outputs": [],
   "source": [
    "x_point = 10304/np.array(k_all)\n",
    "abc, _ = curve_fit(func,x_point,np.array(res_rand))\n",
    "a1, b1, c1 = abc\n",
    "#x_appr1 = list(range(40,381,1))\n",
    "y_appr1 = [func(i,a1,b1,c1) for i in x_point]"
   ]
  },
  {
   "cell_type": "code",
   "execution_count": 43,
   "id": "a46d1f6e",
   "metadata": {},
   "outputs": [
    {
     "data": {
      "application/vnd.plotly.v1+json": {
       "config": {
        "plotlyServerURL": "https://plot.ly"
       },
       "data": [
        {
         "name": "Random Pixels",
         "type": "scatter",
         "x": [
          257.6,
          234.1818181818182,
          214.66666666666666,
          198.15384615384616,
          184,
          171.73333333333332,
          161,
          151.52941176470588,
          143.11111111111111,
          135.57894736842104,
          128.8,
          122.66666666666667,
          117.0909090909091,
          112,
          107.33333333333333,
          103.04,
          85.86666666666666,
          73.6,
          64.4,
          57.24444444444445,
          51.52,
          46.836363636363636,
          42.93333333333333,
          39.63076923076923,
          36.8,
          34.346666666666664,
          32.2,
          30.305882352941175,
          28.622222222222224,
          27.11578947368421
         ],
         "y": [
          0.805,
          0.8075,
          0.8125,
          0.8275,
          0.835,
          0.8225,
          0.8075,
          0.79,
          0.81,
          0.79,
          0.8,
          0.8275,
          0.8025,
          0.7775,
          0.795,
          0.81,
          0.79,
          0.78,
          0.755,
          0.7625,
          0.7825,
          0.7425,
          0.75,
          0.71,
          0.72,
          0.7225,
          0.715,
          0.715,
          0.715,
          0.685
         ]
        },
        {
         "name": "Approximate y=-0.47/(x+(-1.1))+0.82",
         "type": "scatter",
         "x": [
          257.6,
          234.1818181818182,
          214.66666666666666,
          198.15384615384616,
          184,
          171.73333333333332,
          161,
          151.52941176470588,
          143.11111111111111,
          135.57894736842104,
          128.8,
          122.66666666666667,
          117.0909090909091,
          112,
          107.33333333333333,
          103.04,
          85.86666666666666,
          73.6,
          64.4,
          57.24444444444445,
          51.52,
          46.836363636363636,
          42.93333333333333,
          39.63076923076923,
          36.8,
          34.346666666666664,
          32.2,
          30.305882352941175,
          28.622222222222224,
          27.11578947368421
         ],
         "y": [
          0.819748493052668,
          0.8180465580754837,
          0.8163510086159484,
          0.8146618088044598,
          0.8129789230395694,
          0.8113023159854805,
          0.8096319525695759,
          0.8079677979799714,
          0.8063098176630983,
          0.8046579773213107,
          0.8030122429105221,
          0.8013725806378648,
          0.7997389569593781,
          0.7981113385777205,
          0.7964896924399073,
          0.7948739857350731,
          0.786883411996854,
          0.7790365378670204,
          0.7713295215272886,
          0.76375865689806,
          0.7563203676960298,
          0.7490112018012635,
          0.741827825915099,
          0.7347670204915072,
          0.7278256749257159,
          0.7210007829849944,
          0.7142894384674936,
          0.7076888310759747,
          0.7011962424941169,
          0.6948090426538943
         ]
        }
       ],
       "layout": {
        "legend": {
         "orientation": "h",
         "x": 0.5,
         "xanchor": "center"
        },
        "margin": {
         "b": 0,
         "l": 0,
         "r": 0,
         "t": 30
        },
        "template": {
         "data": {
          "bar": [
           {
            "error_x": {
             "color": "#2a3f5f"
            },
            "error_y": {
             "color": "#2a3f5f"
            },
            "marker": {
             "line": {
              "color": "#E5ECF6",
              "width": 0.5
             },
             "pattern": {
              "fillmode": "overlay",
              "size": 10,
              "solidity": 0.2
             }
            },
            "type": "bar"
           }
          ],
          "barpolar": [
           {
            "marker": {
             "line": {
              "color": "#E5ECF6",
              "width": 0.5
             },
             "pattern": {
              "fillmode": "overlay",
              "size": 10,
              "solidity": 0.2
             }
            },
            "type": "barpolar"
           }
          ],
          "carpet": [
           {
            "aaxis": {
             "endlinecolor": "#2a3f5f",
             "gridcolor": "white",
             "linecolor": "white",
             "minorgridcolor": "white",
             "startlinecolor": "#2a3f5f"
            },
            "baxis": {
             "endlinecolor": "#2a3f5f",
             "gridcolor": "white",
             "linecolor": "white",
             "minorgridcolor": "white",
             "startlinecolor": "#2a3f5f"
            },
            "type": "carpet"
           }
          ],
          "choropleth": [
           {
            "colorbar": {
             "outlinewidth": 0,
             "ticks": ""
            },
            "type": "choropleth"
           }
          ],
          "contour": [
           {
            "colorbar": {
             "outlinewidth": 0,
             "ticks": ""
            },
            "colorscale": [
             [
              0,
              "#0d0887"
             ],
             [
              0.1111111111111111,
              "#46039f"
             ],
             [
              0.2222222222222222,
              "#7201a8"
             ],
             [
              0.3333333333333333,
              "#9c179e"
             ],
             [
              0.4444444444444444,
              "#bd3786"
             ],
             [
              0.5555555555555556,
              "#d8576b"
             ],
             [
              0.6666666666666666,
              "#ed7953"
             ],
             [
              0.7777777777777778,
              "#fb9f3a"
             ],
             [
              0.8888888888888888,
              "#fdca26"
             ],
             [
              1,
              "#f0f921"
             ]
            ],
            "type": "contour"
           }
          ],
          "contourcarpet": [
           {
            "colorbar": {
             "outlinewidth": 0,
             "ticks": ""
            },
            "type": "contourcarpet"
           }
          ],
          "heatmap": [
           {
            "colorbar": {
             "outlinewidth": 0,
             "ticks": ""
            },
            "colorscale": [
             [
              0,
              "#0d0887"
             ],
             [
              0.1111111111111111,
              "#46039f"
             ],
             [
              0.2222222222222222,
              "#7201a8"
             ],
             [
              0.3333333333333333,
              "#9c179e"
             ],
             [
              0.4444444444444444,
              "#bd3786"
             ],
             [
              0.5555555555555556,
              "#d8576b"
             ],
             [
              0.6666666666666666,
              "#ed7953"
             ],
             [
              0.7777777777777778,
              "#fb9f3a"
             ],
             [
              0.8888888888888888,
              "#fdca26"
             ],
             [
              1,
              "#f0f921"
             ]
            ],
            "type": "heatmap"
           }
          ],
          "heatmapgl": [
           {
            "colorbar": {
             "outlinewidth": 0,
             "ticks": ""
            },
            "colorscale": [
             [
              0,
              "#0d0887"
             ],
             [
              0.1111111111111111,
              "#46039f"
             ],
             [
              0.2222222222222222,
              "#7201a8"
             ],
             [
              0.3333333333333333,
              "#9c179e"
             ],
             [
              0.4444444444444444,
              "#bd3786"
             ],
             [
              0.5555555555555556,
              "#d8576b"
             ],
             [
              0.6666666666666666,
              "#ed7953"
             ],
             [
              0.7777777777777778,
              "#fb9f3a"
             ],
             [
              0.8888888888888888,
              "#fdca26"
             ],
             [
              1,
              "#f0f921"
             ]
            ],
            "type": "heatmapgl"
           }
          ],
          "histogram": [
           {
            "marker": {
             "pattern": {
              "fillmode": "overlay",
              "size": 10,
              "solidity": 0.2
             }
            },
            "type": "histogram"
           }
          ],
          "histogram2d": [
           {
            "colorbar": {
             "outlinewidth": 0,
             "ticks": ""
            },
            "colorscale": [
             [
              0,
              "#0d0887"
             ],
             [
              0.1111111111111111,
              "#46039f"
             ],
             [
              0.2222222222222222,
              "#7201a8"
             ],
             [
              0.3333333333333333,
              "#9c179e"
             ],
             [
              0.4444444444444444,
              "#bd3786"
             ],
             [
              0.5555555555555556,
              "#d8576b"
             ],
             [
              0.6666666666666666,
              "#ed7953"
             ],
             [
              0.7777777777777778,
              "#fb9f3a"
             ],
             [
              0.8888888888888888,
              "#fdca26"
             ],
             [
              1,
              "#f0f921"
             ]
            ],
            "type": "histogram2d"
           }
          ],
          "histogram2dcontour": [
           {
            "colorbar": {
             "outlinewidth": 0,
             "ticks": ""
            },
            "colorscale": [
             [
              0,
              "#0d0887"
             ],
             [
              0.1111111111111111,
              "#46039f"
             ],
             [
              0.2222222222222222,
              "#7201a8"
             ],
             [
              0.3333333333333333,
              "#9c179e"
             ],
             [
              0.4444444444444444,
              "#bd3786"
             ],
             [
              0.5555555555555556,
              "#d8576b"
             ],
             [
              0.6666666666666666,
              "#ed7953"
             ],
             [
              0.7777777777777778,
              "#fb9f3a"
             ],
             [
              0.8888888888888888,
              "#fdca26"
             ],
             [
              1,
              "#f0f921"
             ]
            ],
            "type": "histogram2dcontour"
           }
          ],
          "mesh3d": [
           {
            "colorbar": {
             "outlinewidth": 0,
             "ticks": ""
            },
            "type": "mesh3d"
           }
          ],
          "parcoords": [
           {
            "line": {
             "colorbar": {
              "outlinewidth": 0,
              "ticks": ""
             }
            },
            "type": "parcoords"
           }
          ],
          "pie": [
           {
            "automargin": true,
            "type": "pie"
           }
          ],
          "scatter": [
           {
            "marker": {
             "colorbar": {
              "outlinewidth": 0,
              "ticks": ""
             }
            },
            "type": "scatter"
           }
          ],
          "scatter3d": [
           {
            "line": {
             "colorbar": {
              "outlinewidth": 0,
              "ticks": ""
             }
            },
            "marker": {
             "colorbar": {
              "outlinewidth": 0,
              "ticks": ""
             }
            },
            "type": "scatter3d"
           }
          ],
          "scattercarpet": [
           {
            "marker": {
             "colorbar": {
              "outlinewidth": 0,
              "ticks": ""
             }
            },
            "type": "scattercarpet"
           }
          ],
          "scattergeo": [
           {
            "marker": {
             "colorbar": {
              "outlinewidth": 0,
              "ticks": ""
             }
            },
            "type": "scattergeo"
           }
          ],
          "scattergl": [
           {
            "marker": {
             "colorbar": {
              "outlinewidth": 0,
              "ticks": ""
             }
            },
            "type": "scattergl"
           }
          ],
          "scattermapbox": [
           {
            "marker": {
             "colorbar": {
              "outlinewidth": 0,
              "ticks": ""
             }
            },
            "type": "scattermapbox"
           }
          ],
          "scatterpolar": [
           {
            "marker": {
             "colorbar": {
              "outlinewidth": 0,
              "ticks": ""
             }
            },
            "type": "scatterpolar"
           }
          ],
          "scatterpolargl": [
           {
            "marker": {
             "colorbar": {
              "outlinewidth": 0,
              "ticks": ""
             }
            },
            "type": "scatterpolargl"
           }
          ],
          "scatterternary": [
           {
            "marker": {
             "colorbar": {
              "outlinewidth": 0,
              "ticks": ""
             }
            },
            "type": "scatterternary"
           }
          ],
          "surface": [
           {
            "colorbar": {
             "outlinewidth": 0,
             "ticks": ""
            },
            "colorscale": [
             [
              0,
              "#0d0887"
             ],
             [
              0.1111111111111111,
              "#46039f"
             ],
             [
              0.2222222222222222,
              "#7201a8"
             ],
             [
              0.3333333333333333,
              "#9c179e"
             ],
             [
              0.4444444444444444,
              "#bd3786"
             ],
             [
              0.5555555555555556,
              "#d8576b"
             ],
             [
              0.6666666666666666,
              "#ed7953"
             ],
             [
              0.7777777777777778,
              "#fb9f3a"
             ],
             [
              0.8888888888888888,
              "#fdca26"
             ],
             [
              1,
              "#f0f921"
             ]
            ],
            "type": "surface"
           }
          ],
          "table": [
           {
            "cells": {
             "fill": {
              "color": "#EBF0F8"
             },
             "line": {
              "color": "white"
             }
            },
            "header": {
             "fill": {
              "color": "#C8D4E3"
             },
             "line": {
              "color": "white"
             }
            },
            "type": "table"
           }
          ]
         },
         "layout": {
          "annotationdefaults": {
           "arrowcolor": "#2a3f5f",
           "arrowhead": 0,
           "arrowwidth": 1
          },
          "autotypenumbers": "strict",
          "coloraxis": {
           "colorbar": {
            "outlinewidth": 0,
            "ticks": ""
           }
          },
          "colorscale": {
           "diverging": [
            [
             0,
             "#8e0152"
            ],
            [
             0.1,
             "#c51b7d"
            ],
            [
             0.2,
             "#de77ae"
            ],
            [
             0.3,
             "#f1b6da"
            ],
            [
             0.4,
             "#fde0ef"
            ],
            [
             0.5,
             "#f7f7f7"
            ],
            [
             0.6,
             "#e6f5d0"
            ],
            [
             0.7,
             "#b8e186"
            ],
            [
             0.8,
             "#7fbc41"
            ],
            [
             0.9,
             "#4d9221"
            ],
            [
             1,
             "#276419"
            ]
           ],
           "sequential": [
            [
             0,
             "#0d0887"
            ],
            [
             0.1111111111111111,
             "#46039f"
            ],
            [
             0.2222222222222222,
             "#7201a8"
            ],
            [
             0.3333333333333333,
             "#9c179e"
            ],
            [
             0.4444444444444444,
             "#bd3786"
            ],
            [
             0.5555555555555556,
             "#d8576b"
            ],
            [
             0.6666666666666666,
             "#ed7953"
            ],
            [
             0.7777777777777778,
             "#fb9f3a"
            ],
            [
             0.8888888888888888,
             "#fdca26"
            ],
            [
             1,
             "#f0f921"
            ]
           ],
           "sequentialminus": [
            [
             0,
             "#0d0887"
            ],
            [
             0.1111111111111111,
             "#46039f"
            ],
            [
             0.2222222222222222,
             "#7201a8"
            ],
            [
             0.3333333333333333,
             "#9c179e"
            ],
            [
             0.4444444444444444,
             "#bd3786"
            ],
            [
             0.5555555555555556,
             "#d8576b"
            ],
            [
             0.6666666666666666,
             "#ed7953"
            ],
            [
             0.7777777777777778,
             "#fb9f3a"
            ],
            [
             0.8888888888888888,
             "#fdca26"
            ],
            [
             1,
             "#f0f921"
            ]
           ]
          },
          "colorway": [
           "#636efa",
           "#EF553B",
           "#00cc96",
           "#ab63fa",
           "#FFA15A",
           "#19d3f3",
           "#FF6692",
           "#B6E880",
           "#FF97FF",
           "#FECB52"
          ],
          "font": {
           "color": "#2a3f5f"
          },
          "geo": {
           "bgcolor": "white",
           "lakecolor": "white",
           "landcolor": "#E5ECF6",
           "showlakes": true,
           "showland": true,
           "subunitcolor": "white"
          },
          "hoverlabel": {
           "align": "left"
          },
          "hovermode": "closest",
          "mapbox": {
           "style": "light"
          },
          "paper_bgcolor": "white",
          "plot_bgcolor": "#E5ECF6",
          "polar": {
           "angularaxis": {
            "gridcolor": "white",
            "linecolor": "white",
            "ticks": ""
           },
           "bgcolor": "#E5ECF6",
           "radialaxis": {
            "gridcolor": "white",
            "linecolor": "white",
            "ticks": ""
           }
          },
          "scene": {
           "xaxis": {
            "backgroundcolor": "#E5ECF6",
            "gridcolor": "white",
            "gridwidth": 2,
            "linecolor": "white",
            "showbackground": true,
            "ticks": "",
            "zerolinecolor": "white"
           },
           "yaxis": {
            "backgroundcolor": "#E5ECF6",
            "gridcolor": "white",
            "gridwidth": 2,
            "linecolor": "white",
            "showbackground": true,
            "ticks": "",
            "zerolinecolor": "white"
           },
           "zaxis": {
            "backgroundcolor": "#E5ECF6",
            "gridcolor": "white",
            "gridwidth": 2,
            "linecolor": "white",
            "showbackground": true,
            "ticks": "",
            "zerolinecolor": "white"
           }
          },
          "shapedefaults": {
           "line": {
            "color": "#2a3f5f"
           }
          },
          "ternary": {
           "aaxis": {
            "gridcolor": "white",
            "linecolor": "white",
            "ticks": ""
           },
           "baxis": {
            "gridcolor": "white",
            "linecolor": "white",
            "ticks": ""
           },
           "bgcolor": "#E5ECF6",
           "caxis": {
            "gridcolor": "white",
            "linecolor": "white",
            "ticks": ""
           }
          },
          "title": {
           "x": 0.05
          },
          "xaxis": {
           "automargin": true,
           "gridcolor": "white",
           "linecolor": "white",
           "ticks": "",
           "title": {
            "standoff": 15
           },
           "zerolinecolor": "white",
           "zerolinewidth": 2
          },
          "yaxis": {
           "automargin": true,
           "gridcolor": "white",
           "linecolor": "white",
           "ticks": "",
           "title": {
            "standoff": 15
           },
           "zerolinecolor": "white",
           "zerolinewidth": 2
          }
         }
        },
        "title": {
         "text": "Точность метода случайных точек в зависимости от количества точек",
         "x": 0.5
        },
        "xaxis": {
         "title": {
          "text": "Количество точек"
         }
        },
        "yaxis": {
         "title": {
          "text": "Вероятность распознавания"
         }
        }
       }
      },
      "text/html": [
       "<div>                            <div id=\"b7e46f36-169f-4daa-8a0f-e5a8d484f60c\" class=\"plotly-graph-div\" style=\"height:525px; width:100%;\"></div>            <script type=\"text/javascript\">                require([\"plotly\"], function(Plotly) {                    window.PLOTLYENV=window.PLOTLYENV || {};                                    if (document.getElementById(\"b7e46f36-169f-4daa-8a0f-e5a8d484f60c\")) {                    Plotly.newPlot(                        \"b7e46f36-169f-4daa-8a0f-e5a8d484f60c\",                        [{\"name\":\"Random Pixels\",\"x\":[257.6,234.1818181818182,214.66666666666666,198.15384615384616,184.0,171.73333333333332,161.0,151.52941176470588,143.11111111111111,135.57894736842104,128.8,122.66666666666667,117.0909090909091,112.0,107.33333333333333,103.04,85.86666666666666,73.6,64.4,57.24444444444445,51.52,46.836363636363636,42.93333333333333,39.63076923076923,36.8,34.346666666666664,32.2,30.305882352941175,28.622222222222224,27.11578947368421],\"y\":[0.805,0.8075,0.8125,0.8275,0.835,0.8225,0.8075,0.79,0.81,0.79,0.8,0.8275,0.8025,0.7775,0.795,0.81,0.79,0.78,0.755,0.7625,0.7825,0.7425,0.75,0.71,0.72,0.7225,0.715,0.715,0.715,0.685],\"type\":\"scatter\"},{\"name\":\"Approximate y=-0.47/(x+(-1.1))+0.82\",\"x\":[257.6,234.1818181818182,214.66666666666666,198.15384615384616,184.0,171.73333333333332,161.0,151.52941176470588,143.11111111111111,135.57894736842104,128.8,122.66666666666667,117.0909090909091,112.0,107.33333333333333,103.04,85.86666666666666,73.6,64.4,57.24444444444445,51.52,46.836363636363636,42.93333333333333,39.63076923076923,36.8,34.346666666666664,32.2,30.305882352941175,28.622222222222224,27.11578947368421],\"y\":[0.819748493052668,0.8180465580754837,0.8163510086159484,0.8146618088044598,0.8129789230395694,0.8113023159854805,0.8096319525695759,0.8079677979799714,0.8063098176630983,0.8046579773213107,0.8030122429105221,0.8013725806378648,0.7997389569593781,0.7981113385777205,0.7964896924399073,0.7948739857350731,0.786883411996854,0.7790365378670204,0.7713295215272886,0.76375865689806,0.7563203676960298,0.7490112018012635,0.741827825915099,0.7347670204915072,0.7278256749257159,0.7210007829849944,0.7142894384674936,0.7076888310759747,0.7011962424941169,0.6948090426538943],\"type\":\"scatter\"}],                        {\"template\":{\"data\":{\"bar\":[{\"error_x\":{\"color\":\"#2a3f5f\"},\"error_y\":{\"color\":\"#2a3f5f\"},\"marker\":{\"line\":{\"color\":\"#E5ECF6\",\"width\":0.5},\"pattern\":{\"fillmode\":\"overlay\",\"size\":10,\"solidity\":0.2}},\"type\":\"bar\"}],\"barpolar\":[{\"marker\":{\"line\":{\"color\":\"#E5ECF6\",\"width\":0.5},\"pattern\":{\"fillmode\":\"overlay\",\"size\":10,\"solidity\":0.2}},\"type\":\"barpolar\"}],\"carpet\":[{\"aaxis\":{\"endlinecolor\":\"#2a3f5f\",\"gridcolor\":\"white\",\"linecolor\":\"white\",\"minorgridcolor\":\"white\",\"startlinecolor\":\"#2a3f5f\"},\"baxis\":{\"endlinecolor\":\"#2a3f5f\",\"gridcolor\":\"white\",\"linecolor\":\"white\",\"minorgridcolor\":\"white\",\"startlinecolor\":\"#2a3f5f\"},\"type\":\"carpet\"}],\"choropleth\":[{\"colorbar\":{\"outlinewidth\":0,\"ticks\":\"\"},\"type\":\"choropleth\"}],\"contour\":[{\"colorbar\":{\"outlinewidth\":0,\"ticks\":\"\"},\"colorscale\":[[0.0,\"#0d0887\"],[0.1111111111111111,\"#46039f\"],[0.2222222222222222,\"#7201a8\"],[0.3333333333333333,\"#9c179e\"],[0.4444444444444444,\"#bd3786\"],[0.5555555555555556,\"#d8576b\"],[0.6666666666666666,\"#ed7953\"],[0.7777777777777778,\"#fb9f3a\"],[0.8888888888888888,\"#fdca26\"],[1.0,\"#f0f921\"]],\"type\":\"contour\"}],\"contourcarpet\":[{\"colorbar\":{\"outlinewidth\":0,\"ticks\":\"\"},\"type\":\"contourcarpet\"}],\"heatmap\":[{\"colorbar\":{\"outlinewidth\":0,\"ticks\":\"\"},\"colorscale\":[[0.0,\"#0d0887\"],[0.1111111111111111,\"#46039f\"],[0.2222222222222222,\"#7201a8\"],[0.3333333333333333,\"#9c179e\"],[0.4444444444444444,\"#bd3786\"],[0.5555555555555556,\"#d8576b\"],[0.6666666666666666,\"#ed7953\"],[0.7777777777777778,\"#fb9f3a\"],[0.8888888888888888,\"#fdca26\"],[1.0,\"#f0f921\"]],\"type\":\"heatmap\"}],\"heatmapgl\":[{\"colorbar\":{\"outlinewidth\":0,\"ticks\":\"\"},\"colorscale\":[[0.0,\"#0d0887\"],[0.1111111111111111,\"#46039f\"],[0.2222222222222222,\"#7201a8\"],[0.3333333333333333,\"#9c179e\"],[0.4444444444444444,\"#bd3786\"],[0.5555555555555556,\"#d8576b\"],[0.6666666666666666,\"#ed7953\"],[0.7777777777777778,\"#fb9f3a\"],[0.8888888888888888,\"#fdca26\"],[1.0,\"#f0f921\"]],\"type\":\"heatmapgl\"}],\"histogram\":[{\"marker\":{\"pattern\":{\"fillmode\":\"overlay\",\"size\":10,\"solidity\":0.2}},\"type\":\"histogram\"}],\"histogram2d\":[{\"colorbar\":{\"outlinewidth\":0,\"ticks\":\"\"},\"colorscale\":[[0.0,\"#0d0887\"],[0.1111111111111111,\"#46039f\"],[0.2222222222222222,\"#7201a8\"],[0.3333333333333333,\"#9c179e\"],[0.4444444444444444,\"#bd3786\"],[0.5555555555555556,\"#d8576b\"],[0.6666666666666666,\"#ed7953\"],[0.7777777777777778,\"#fb9f3a\"],[0.8888888888888888,\"#fdca26\"],[1.0,\"#f0f921\"]],\"type\":\"histogram2d\"}],\"histogram2dcontour\":[{\"colorbar\":{\"outlinewidth\":0,\"ticks\":\"\"},\"colorscale\":[[0.0,\"#0d0887\"],[0.1111111111111111,\"#46039f\"],[0.2222222222222222,\"#7201a8\"],[0.3333333333333333,\"#9c179e\"],[0.4444444444444444,\"#bd3786\"],[0.5555555555555556,\"#d8576b\"],[0.6666666666666666,\"#ed7953\"],[0.7777777777777778,\"#fb9f3a\"],[0.8888888888888888,\"#fdca26\"],[1.0,\"#f0f921\"]],\"type\":\"histogram2dcontour\"}],\"mesh3d\":[{\"colorbar\":{\"outlinewidth\":0,\"ticks\":\"\"},\"type\":\"mesh3d\"}],\"parcoords\":[{\"line\":{\"colorbar\":{\"outlinewidth\":0,\"ticks\":\"\"}},\"type\":\"parcoords\"}],\"pie\":[{\"automargin\":true,\"type\":\"pie\"}],\"scatter\":[{\"marker\":{\"colorbar\":{\"outlinewidth\":0,\"ticks\":\"\"}},\"type\":\"scatter\"}],\"scatter3d\":[{\"line\":{\"colorbar\":{\"outlinewidth\":0,\"ticks\":\"\"}},\"marker\":{\"colorbar\":{\"outlinewidth\":0,\"ticks\":\"\"}},\"type\":\"scatter3d\"}],\"scattercarpet\":[{\"marker\":{\"colorbar\":{\"outlinewidth\":0,\"ticks\":\"\"}},\"type\":\"scattercarpet\"}],\"scattergeo\":[{\"marker\":{\"colorbar\":{\"outlinewidth\":0,\"ticks\":\"\"}},\"type\":\"scattergeo\"}],\"scattergl\":[{\"marker\":{\"colorbar\":{\"outlinewidth\":0,\"ticks\":\"\"}},\"type\":\"scattergl\"}],\"scattermapbox\":[{\"marker\":{\"colorbar\":{\"outlinewidth\":0,\"ticks\":\"\"}},\"type\":\"scattermapbox\"}],\"scatterpolar\":[{\"marker\":{\"colorbar\":{\"outlinewidth\":0,\"ticks\":\"\"}},\"type\":\"scatterpolar\"}],\"scatterpolargl\":[{\"marker\":{\"colorbar\":{\"outlinewidth\":0,\"ticks\":\"\"}},\"type\":\"scatterpolargl\"}],\"scatterternary\":[{\"marker\":{\"colorbar\":{\"outlinewidth\":0,\"ticks\":\"\"}},\"type\":\"scatterternary\"}],\"surface\":[{\"colorbar\":{\"outlinewidth\":0,\"ticks\":\"\"},\"colorscale\":[[0.0,\"#0d0887\"],[0.1111111111111111,\"#46039f\"],[0.2222222222222222,\"#7201a8\"],[0.3333333333333333,\"#9c179e\"],[0.4444444444444444,\"#bd3786\"],[0.5555555555555556,\"#d8576b\"],[0.6666666666666666,\"#ed7953\"],[0.7777777777777778,\"#fb9f3a\"],[0.8888888888888888,\"#fdca26\"],[1.0,\"#f0f921\"]],\"type\":\"surface\"}],\"table\":[{\"cells\":{\"fill\":{\"color\":\"#EBF0F8\"},\"line\":{\"color\":\"white\"}},\"header\":{\"fill\":{\"color\":\"#C8D4E3\"},\"line\":{\"color\":\"white\"}},\"type\":\"table\"}]},\"layout\":{\"annotationdefaults\":{\"arrowcolor\":\"#2a3f5f\",\"arrowhead\":0,\"arrowwidth\":1},\"autotypenumbers\":\"strict\",\"coloraxis\":{\"colorbar\":{\"outlinewidth\":0,\"ticks\":\"\"}},\"colorscale\":{\"diverging\":[[0,\"#8e0152\"],[0.1,\"#c51b7d\"],[0.2,\"#de77ae\"],[0.3,\"#f1b6da\"],[0.4,\"#fde0ef\"],[0.5,\"#f7f7f7\"],[0.6,\"#e6f5d0\"],[0.7,\"#b8e186\"],[0.8,\"#7fbc41\"],[0.9,\"#4d9221\"],[1,\"#276419\"]],\"sequential\":[[0.0,\"#0d0887\"],[0.1111111111111111,\"#46039f\"],[0.2222222222222222,\"#7201a8\"],[0.3333333333333333,\"#9c179e\"],[0.4444444444444444,\"#bd3786\"],[0.5555555555555556,\"#d8576b\"],[0.6666666666666666,\"#ed7953\"],[0.7777777777777778,\"#fb9f3a\"],[0.8888888888888888,\"#fdca26\"],[1.0,\"#f0f921\"]],\"sequentialminus\":[[0.0,\"#0d0887\"],[0.1111111111111111,\"#46039f\"],[0.2222222222222222,\"#7201a8\"],[0.3333333333333333,\"#9c179e\"],[0.4444444444444444,\"#bd3786\"],[0.5555555555555556,\"#d8576b\"],[0.6666666666666666,\"#ed7953\"],[0.7777777777777778,\"#fb9f3a\"],[0.8888888888888888,\"#fdca26\"],[1.0,\"#f0f921\"]]},\"colorway\":[\"#636efa\",\"#EF553B\",\"#00cc96\",\"#ab63fa\",\"#FFA15A\",\"#19d3f3\",\"#FF6692\",\"#B6E880\",\"#FF97FF\",\"#FECB52\"],\"font\":{\"color\":\"#2a3f5f\"},\"geo\":{\"bgcolor\":\"white\",\"lakecolor\":\"white\",\"landcolor\":\"#E5ECF6\",\"showlakes\":true,\"showland\":true,\"subunitcolor\":\"white\"},\"hoverlabel\":{\"align\":\"left\"},\"hovermode\":\"closest\",\"mapbox\":{\"style\":\"light\"},\"paper_bgcolor\":\"white\",\"plot_bgcolor\":\"#E5ECF6\",\"polar\":{\"angularaxis\":{\"gridcolor\":\"white\",\"linecolor\":\"white\",\"ticks\":\"\"},\"bgcolor\":\"#E5ECF6\",\"radialaxis\":{\"gridcolor\":\"white\",\"linecolor\":\"white\",\"ticks\":\"\"}},\"scene\":{\"xaxis\":{\"backgroundcolor\":\"#E5ECF6\",\"gridcolor\":\"white\",\"gridwidth\":2,\"linecolor\":\"white\",\"showbackground\":true,\"ticks\":\"\",\"zerolinecolor\":\"white\"},\"yaxis\":{\"backgroundcolor\":\"#E5ECF6\",\"gridcolor\":\"white\",\"gridwidth\":2,\"linecolor\":\"white\",\"showbackground\":true,\"ticks\":\"\",\"zerolinecolor\":\"white\"},\"zaxis\":{\"backgroundcolor\":\"#E5ECF6\",\"gridcolor\":\"white\",\"gridwidth\":2,\"linecolor\":\"white\",\"showbackground\":true,\"ticks\":\"\",\"zerolinecolor\":\"white\"}},\"shapedefaults\":{\"line\":{\"color\":\"#2a3f5f\"}},\"ternary\":{\"aaxis\":{\"gridcolor\":\"white\",\"linecolor\":\"white\",\"ticks\":\"\"},\"baxis\":{\"gridcolor\":\"white\",\"linecolor\":\"white\",\"ticks\":\"\"},\"bgcolor\":\"#E5ECF6\",\"caxis\":{\"gridcolor\":\"white\",\"linecolor\":\"white\",\"ticks\":\"\"}},\"title\":{\"x\":0.05},\"xaxis\":{\"automargin\":true,\"gridcolor\":\"white\",\"linecolor\":\"white\",\"ticks\":\"\",\"title\":{\"standoff\":15},\"zerolinecolor\":\"white\",\"zerolinewidth\":2},\"yaxis\":{\"automargin\":true,\"gridcolor\":\"white\",\"linecolor\":\"white\",\"ticks\":\"\",\"title\":{\"standoff\":15},\"zerolinecolor\":\"white\",\"zerolinewidth\":2}}},\"title\":{\"text\":\"\\u0422\\u043e\\u0447\\u043d\\u043e\\u0441\\u0442\\u044c \\u043c\\u0435\\u0442\\u043e\\u0434\\u0430 \\u0441\\u043b\\u0443\\u0447\\u0430\\u0439\\u043d\\u044b\\u0445 \\u0442\\u043e\\u0447\\u0435\\u043a \\u0432 \\u0437\\u0430\\u0432\\u0438\\u0441\\u0438\\u043c\\u043e\\u0441\\u0442\\u0438 \\u043e\\u0442 \\u043a\\u043e\\u043b\\u0438\\u0447\\u0435\\u0441\\u0442\\u0432\\u0430 \\u0442\\u043e\\u0447\\u0435\\u043a\",\"x\":0.5},\"legend\":{\"x\":0.5,\"xanchor\":\"center\",\"orientation\":\"h\"},\"margin\":{\"l\":0,\"r\":0,\"t\":30,\"b\":0},\"xaxis\":{\"title\":{\"text\":\"\\u041a\\u043e\\u043b\\u0438\\u0447\\u0435\\u0441\\u0442\\u0432\\u043e \\u0442\\u043e\\u0447\\u0435\\u043a\"}},\"yaxis\":{\"title\":{\"text\":\"\\u0412\\u0435\\u0440\\u043e\\u044f\\u0442\\u043d\\u043e\\u0441\\u0442\\u044c \\u0440\\u0430\\u0441\\u043f\\u043e\\u0437\\u043d\\u0430\\u0432\\u0430\\u043d\\u0438\\u044f\"}}},                        {\"responsive\": true}                    ).then(function(){\n",
       "                            \n",
       "var gd = document.getElementById('b7e46f36-169f-4daa-8a0f-e5a8d484f60c');\n",
       "var x = new MutationObserver(function (mutations, observer) {{\n",
       "        var display = window.getComputedStyle(gd).display;\n",
       "        if (!display || display === 'none') {{\n",
       "            console.log([gd, 'removed!']);\n",
       "            Plotly.purge(gd);\n",
       "            observer.disconnect();\n",
       "        }}\n",
       "}});\n",
       "\n",
       "// Listen for the removal of the full notebook cells\n",
       "var notebookContainer = gd.closest('#notebook-container');\n",
       "if (notebookContainer) {{\n",
       "    x.observe(notebookContainer, {childList: true});\n",
       "}}\n",
       "\n",
       "// Listen for the clearing of the current output cell\n",
       "var outputEl = gd.closest('.output');\n",
       "if (outputEl) {{\n",
       "    x.observe(outputEl, {childList: true});\n",
       "}}\n",
       "\n",
       "                        })                };                });            </script>        </div>"
      ]
     },
     "metadata": {},
     "output_type": "display_data"
    }
   ],
   "source": [
    "fig2 = go.Figure()\n",
    "fig2.add_trace(go.Scatter(x = 10304/np.array(k_all), y = np.array(res_rand), name = \"Random Pixels\"))\n",
    "fig2.add_trace(go.Scatter(x = np.array(x_point), y = np.array(y_appr1), name = \"Approximate y=\"+str(round(a,2))+'/(x+('+str(round(b,2))+'))+'+str(round(c,2))))\n",
    "fig2.update_layout(\n",
    "    title=\"Точность метода случайных точек в зависимости от количества точек\",\n",
    "    title_x = 0.5,\n",
    "    legend=dict(x=.5, xanchor=\"center\", orientation=\"h\"),\n",
    "    margin=dict(l=0, r=0, t=30, b=0),\n",
    "    xaxis_title=\"Количество точек\",\n",
    "    yaxis_title=\"Вероятность распознавания\")\n",
    "fig2.show()"
   ]
  },
  {
   "cell_type": "code",
   "execution_count": 7,
   "id": "c0f7af57",
   "metadata": {},
   "outputs": [],
   "source": [
    "def parallel_hist(photo, samples_hist, number):\n",
    "    hist = [0]*number\n",
    "    step = 256/number\n",
    "    for i in range(photo.shape[0]):\n",
    "        for j in range(photo.shape[1]):\n",
    "            hist[int(photo[i][j]//step)]+=1\n",
    "    dif = []\n",
    "    for sample_hist in samples_hist:\n",
    "        dif.append(sum(np.absolute(sample_hist - np.array(hist))))\n",
    "    temp = sorted(dif)[:3]\n",
    "    for i in range(0,3):\n",
    "        temp[i] = dif.index(temp[i])\n",
    "    return(temp)\n",
    "def method1(sample, photo, number):\n",
    "    points = [rd.randint(0,sample.size) for i in range(int(sample.size/number))]\n",
    "    sample_points = np.array([sample[i//sample.shape[0]][i%sample.shape[1]] for i in points])\n",
    "    photo_points = np.array([photo[i//sample.shape[0]][i%sample.shape[1]] for i in points])\n",
    "    return(np.absolute(sample_points-photo_points))\n",
    "def parallel_method1( photo, samples, number = 1):\n",
    "    points = [rd.randint(0,samples[0].size) for i in range(int(samples[0].size/150))]\n",
    "    photo_points = np.array([photo[i//samples[0].shape[0]][i%samples[0].shape[1]] for i in points])\n",
    "    dif = []\n",
    "    for sample in samples:\n",
    "        dif.append(sum(np.absolute(np.array([sample[i//sample.shape[0]][i%sample.shape[1]] for i in points]) - photo_points)))\n",
    "    temp = np.sort(dif)[:3]\n",
    "    tmp=[]\n",
    "    for i in range(0,3):\n",
    "        tmp.append(dif.index(temp[i]))\n",
    "    return(tmp)\n",
    "def parallel_method2( photo, samples, number = 1):\n",
    "    points = [rd.randint(0,samples[0].size) for i in range(int(samples[0].size/150))]\n",
    "    photo_points = np.array([photo[i//sample.shape[0]][i%sample.shape[1]] for i in points])\n",
    "    dif = []\n",
    "    for sample in samples:\n",
    "        dif.append(sum(np.absolute(np.array([sample[i//sample.shape[0]][i%sample.shape[1]] for i in points]) - photo_points)))\n",
    "    return(samples[0].shape)\n",
    "def parallel_scaling2(photo, samples_scaling2, number = 1):\n",
    "    new_photo = []\n",
    "    for i in range(0,photo.shape[0]-10,10):\n",
    "        for j in range(0,photo.shape[1]-10,10):\n",
    "            temp=0\n",
    "            for k in range(i,i+10):\n",
    "                for l in range(j,j+10):\n",
    "                    temp+=photo[k][l]\n",
    "            new_photo.append(round(temp/100))\n",
    "    dif = []\n",
    "    for sample in samples_scaling2:\n",
    "        dif.append(sum(np.absolute(np.array(new_photo) - sample)))\n",
    "    temp = sorted(dif)[:3]\n",
    "    for i in range(0,3):\n",
    "        temp[i] = dif.index(temp[i])\n",
    "    return(temp)\n",
    "def parallel_scaling(photo, samples_scaling, number = 1):\n",
    "    new_photo = []\n",
    "    for i in range(0, photo.shape[0]-30, 20):\n",
    "        for j in range(0, photo.shape[1]-30, 20):\n",
    "            temp=0\n",
    "            for k in range(i,i+30):\n",
    "                for l in range(j,j+30):\n",
    "                    temp+=photo[k][l]\n",
    "            new_photo.append(round(temp/900))\n",
    "    dif = []\n",
    "    for sample in samples_scaling:\n",
    "        dif.append(sum(np.absolute(np.array(new_photo) - sample)))\n",
    "    temp = sorted(dif)[:3]\n",
    "    for i in range(0,3):\n",
    "        temp[i] = dif.index(temp[i])\n",
    "    return(temp)\n",
    "def parallel_difference(photo, samples_difference):\n",
    "    new_photo = []\n",
    "    pic_before = 0\n",
    "    for k in range(0,10):\n",
    "        for l in range(0,10):\n",
    "            pic_before+=photo[k][l]\n",
    "    pic_before = round(pic_before/100)\n",
    "    for i in range(10,photo.shape[0]-10,10):\n",
    "        for j in range(10,photo.shape[1]-10,10):\n",
    "            temp=0\n",
    "            for k in range(i,i+10):\n",
    "                for l in range(j,j+10):\n",
    "                    temp+=photo[k][l]\n",
    "            temp = round(temp/100)\n",
    "            new_photo.append(temp - pic_before)\n",
    "            pic_before = temp\n",
    "    dif = []\n",
    "    for sample in samples_scaling2:\n",
    "        dif.append(sum(np.absolute(np.array(new_photo) - sample)))\n",
    "    temp = sorted(dif)[:3]\n",
    "    for i in range(0,3):\n",
    "        temp[i] = dif.index(temp[i])\n",
    "    return(temp)"
   ]
  },
  {
   "cell_type": "code",
   "execution_count": null,
   "id": "c544d1ff",
   "metadata": {},
   "outputs": [],
   "source": [
    "iterable = 0\n",
    "true_iter = 0\n",
    "for photo in all_photo:\n",
    "    iterable+=1\n",
    "    first = parallel_method1(photo,samples)\n",
    "    second = parallel_hist(photo, samples_hist16, 16)\n",
    "    third = parallel_scaling2(photo, samples_scaling2)\n",
    "    agreement = dict()\n",
    "    agreement[first[0]] = 3\n",
    "    agreement[first[1]] = 2\n",
    "    agreement[first[2]] = 1\n",
    "    if second[0] in agreement:\n",
    "        agreement[second[0]] += 3\n",
    "    else:\n",
    "        agreement[second[0]] = 3\n",
    "    if second[1] in agreement:\n",
    "        agreement[second[1]] += 2\n",
    "    else:\n",
    "        agreement[second[1]] = 2\n",
    "    if second[2] in agreement:\n",
    "        agreement[second[2]] += 1\n",
    "    else:\n",
    "        agreement[second[2]] = 1\n",
    "    if third[0] in agreement:\n",
    "        agreement[third[0]] += 3.01\n",
    "    else:\n",
    "        agreement[third[0]] = 3.01\n",
    "    if third[1] in agreement:\n",
    "        agreement[third[1]] += 2.01\n",
    "    else:\n",
    "        agreement[third[1]] = 2.01\n",
    "    if third[2] in agreement:\n",
    "        agreement[third[2]] += 1.01\n",
    "    else:\n",
    "        agreement[third[2]] = 1.01\n",
    "    max_value = max(agreement.values())\n",
    "    for k, v in agreement.items():\n",
    "        if v == max_value:\n",
    "            result = k\n",
    "            break\n",
    "    if str(((iterable-1)//10)+1) == samples_adress[result][1:samples_adress[result].index('/')]:\n",
    "        true_iter+=1\n",
    "    print(\"Current accuracy: \"+str(true_iter/iterable))\n",
    "    #print(samples_adress[result][1:samples_adress[result].index('/')])\n",
    "    #print(((iterable-1)//10)+1)        \n",
    "    #print(\"--------------------\")\n",
    "print(\"Final accuracy: \"+str(true_iter/iterable))"
   ]
  },
  {
   "cell_type": "code",
   "execution_count": null,
   "id": "74226387",
   "metadata": {},
   "outputs": [],
   "source": [
    "iterable = 0\n",
    "true_iter = 0\n",
    "for photo in all_photo:\n",
    "    iterable+=1\n",
    "    first = parallel_method1(samples, photo)\n",
    "    second = parallel_hist(photo, samples_hist8, 8)\n",
    "    third = parallel_scaling2(photo, samples_scaling2)\n",
    "    fought = parallel_hist(photo, samples_hist64, 64)\n",
    "    fifht = parallel_scaling(photo, samples_scaling)\n",
    "    agreement = dict()\n",
    "    agreement[first[0]] = 3\n",
    "    agreement[first[1]] = 2\n",
    "    agreement[first[2]] = 1\n",
    "    if second[0] in agreement:\n",
    "        agreement[second[0]] += 3\n",
    "    else:\n",
    "        agreement[second[0]] = 3\n",
    "    if second[1] in agreement:\n",
    "        agreement[second[1]] += 2\n",
    "    else:\n",
    "        agreement[second[1]] = 2\n",
    "    if second[2] in agreement:\n",
    "        agreement[second[2]] += 1\n",
    "    else:\n",
    "        agreement[second[2]] = 1\n",
    "    if third[0] in agreement:\n",
    "        agreement[third[0]] += 3.01\n",
    "    else:\n",
    "        agreement[third[0]] = 3.01\n",
    "    if third[1] in agreement:\n",
    "        agreement[third[1]] += 2.01\n",
    "    else:\n",
    "        agreement[third[1]] = 2.01\n",
    "    if third[2] in agreement:\n",
    "        agreement[third[2]] += 1.01\n",
    "    else:\n",
    "        agreement[third[2]] = 1.01\n",
    "    if fought[0] in agreement:\n",
    "        agreement[fought[0]] += 3\n",
    "    else:\n",
    "        agreement[fought[0]] = 3\n",
    "    if fought[1] in agreement:\n",
    "        agreement[fought[1]] += 2\n",
    "    else:\n",
    "        agreement[fought[1]] = 2\n",
    "    if fought[2] in agreement:\n",
    "        agreement[fought[2]] += 1\n",
    "    else:\n",
    "        agreement[fought[2]] = 1\n",
    "    if fifht[0] in agreement:\n",
    "        agreement[fifht[0]] += 3\n",
    "    else:\n",
    "        agreement[fifht[0]] = 3\n",
    "    if fifht[1] in agreement:\n",
    "        agreement[fifht[1]] += 2\n",
    "    else:\n",
    "        agreement[fifht[1]] = 2\n",
    "    if fifht[2] in agreement:\n",
    "        agreement[fifht[2]] += 1\n",
    "    else:\n",
    "        agreement[fifht[2]] = 1\n",
    "    max_value = max(agreement.values())\n",
    "    for k, v in agreement.items():\n",
    "        if v == max_value:\n",
    "            result = k\n",
    "            break\n",
    "    if str(((iterable-1)//10)+1) == samples_adress[result][1:samples_adress[result].index('/')]:\n",
    "        true_iter+=1\n",
    "    print(\"Current accuracy: \"+str(true_iter/iterable))\n",
    "    #print(samples_adress[result][1:samples_adress[result].index('/')])\n",
    "    #print(((iterable-1)//10)+1)        \n",
    "    #print(\"--------------------\")\n",
    "print(\"Final accuracy: \"+str(true_iter/iterable))"
   ]
  },
  {
   "cell_type": "code",
   "execution_count": null,
   "id": "5d09d6e9",
   "metadata": {},
   "outputs": [],
   "source": [
    "iterable = 0\n",
    "true_iter = 0\n",
    "for photo in all_photo:\n",
    "    iterable+=1\n",
    "    first = parallel_hist(photo,samples_hist8, 8 )\n",
    "    second = parallel_hist(photo, samples_hist64, 64)\n",
    "    third = parallel_scaling2(photo, samples_scaling2)\n",
    "    agreement = dict()\n",
    "    agreement[first[0]] = 3\n",
    "    agreement[first[1]] = 2\n",
    "    agreement[first[2]] = 1\n",
    "    if second[0] in agreement:\n",
    "        agreement[second[0]] += 3\n",
    "    else:\n",
    "        agreement[second[0]] = 3\n",
    "    if second[1] in agreement:\n",
    "        agreement[second[1]] += 2\n",
    "    else:\n",
    "        agreement[second[1]] = 2\n",
    "    if second[2] in agreement:\n",
    "        agreement[second[2]] += 1\n",
    "    else:\n",
    "        agreement[second[2]] = 1\n",
    "    if third[0] in agreement:\n",
    "        agreement[third[0]] += 3.01\n",
    "    else:\n",
    "        agreement[third[0]] = 3.01\n",
    "    if third[1] in agreement:\n",
    "        agreement[third[1]] += 2.01\n",
    "    else:\n",
    "        agreement[third[1]] = 2.01\n",
    "    if third[2] in agreement:\n",
    "        agreement[third[2]] += 1.01\n",
    "    else:\n",
    "        agreement[third[2]] = 1.01\n",
    "    max_value = max(agreement.values())\n",
    "    for k, v in agreement.items():\n",
    "        if v == max_value:\n",
    "            result = k\n",
    "            break\n",
    "    if str(((iterable-1)//10)+1) == samples_adress[result][1:samples_adress[result].index('/')]:\n",
    "        true_iter+=1\n",
    "    print(\"Current accuracy: \"+str(true_iter/iterable))\n",
    "    #print(samples_adress[result][1:samples_adress[result].index('/')])\n",
    "    #print(((iterable-1)//10)+1)        \n",
    "    print(\"--------------------\")\n",
    "print(\"Final accuracy: \"+str(true_iter/iterable))"
   ]
  },
  {
   "cell_type": "code",
   "execution_count": null,
   "id": "c3547cf2",
   "metadata": {},
   "outputs": [],
   "source": [
    "iterable = 0\n",
    "true_iter = 0\n",
    "true_iter1 = 0\n",
    "for photo in all_photo:\n",
    "    iterable+=1\n",
    "    first = parallel_method1(samples, photo)\n",
    "    second = parallel_hist(photo, samples_hist64, 64)\n",
    "    third = parallel_scaling2(photo, samples_scaling2)\n",
    "    agreement = dict()\n",
    "    agreement[first[0]] = 3\n",
    "    agreement[first[1]] = 2\n",
    "    agreement[first[2]] = 1\n",
    "    if second[0] in agreement:\n",
    "        agreement[second[0]] += 3\n",
    "    else:\n",
    "        agreement[second[0]] = 3\n",
    "    if second[1] in agreement:\n",
    "        agreement[second[1]] += 2\n",
    "    else:\n",
    "        agreement[second[1]] = 2\n",
    "    if second[2] in agreement:\n",
    "        agreement[second[2]] += 1\n",
    "    else:\n",
    "        agreement[second[2]] = 1\n",
    "    if third[0] in agreement:\n",
    "        agreement[third[0]] += 3.01\n",
    "    else:\n",
    "        agreement[third[0]] = 3.01\n",
    "    if third[1] in agreement:\n",
    "        agreement[third[1]] += 2.01\n",
    "    else:\n",
    "        agreement[third[1]] = 2.01\n",
    "    if third[2] in agreement:\n",
    "        agreement[third[2]] += 1.01\n",
    "    else:\n",
    "        agreement[third[2]] = 1.01\n",
    "    max_value = max(agreement.values())\n",
    "    for k, v in agreement.items():\n",
    "        if v == max_value:\n",
    "            result = k\n",
    "            break\n",
    "    if str(((iterable-1)//10)+1) == samples_adress[result][1:samples_adress[result].index('/')]:\n",
    "        true_iter+=1\n",
    "    if str(((iterable-1)//10)+1) == samples_adress[first[0]][1:samples_adress[first[0]].index('/')]:\n",
    "        true_iter1+=1\n",
    "    print(\"Current accuracy: \"+str(true_iter/iterable))\n",
    "    print(\"Current accuracy of random point: \"+str(true_iter1/iterable))\n",
    "    #print(samples_adress[result][1:samples_adress[result].index('/')])\n",
    "    #print(((iterable-1)//10)+1)        \n",
    "    print(\"--------------------\")\n",
    "print(\"Final accuracy: \"+str(true_iter/iterable))"
   ]
  },
  {
   "cell_type": "code",
   "execution_count": 8,
   "id": "2a756ce0",
   "metadata": {},
   "outputs": [
    {
     "name": "stderr",
     "output_type": "stream",
     "text": [
      "C:\\Users\\vitya\\AppData\\Local\\Temp/ipykernel_15624/3480081349.py:15: VisibleDeprecationWarning: Creating an ndarray from ragged nested sequences (which is a list-or-tuple of lists-or-tuples-or ndarrays with different lengths or shapes) is deprecated. If you meant to do this, you must specify 'dtype=object' when creating the ndarray.\n",
      "  samples_m = np.array([samples, samples_hist8, samples_hist64, samples_scaling, samples_scaling2])\n"
     ]
    },
    {
     "name": "stdout",
     "output_type": "stream",
     "text": [
      "[0.8, 0.7, 0.5, 0.6, 0.8]\n",
      "[1.0, 1.0, 1.0, 1.0, 1.0]\n",
      "[0.7, 0.7, 1.0, 0.8, 0.8]\n",
      "[0.4, 0.5, 0.5, 0.5, 0.6]\n",
      "[0.8, 0.5, 0.5, 0.5, 0.8]\n",
      "[1.0, 0.7, 0.7, 0.7, 1.0]\n",
      "[1.0, 0.9, 0.9, 1.0, 1.0]\n",
      "[1.0, 1.0, 1.0, 1.0, 1.0]\n",
      "[0.9, 1.0, 0.7, 0.8, 1.0]\n",
      "[0.5, 0.4, 0.4, 0.6, 0.9]\n",
      "[0.8, 1.0, 1.0, 1.0, 1.0]\n",
      "[1.0, 1.0, 1.0, 0.9, 1.0]\n",
      "[0.8, 0.7, 0.6, 1.0, 1.0]\n",
      "[0.8, 1.0, 1.0, 1.0, 1.0]\n",
      "[0.5, 0.5, 0.5, 0.6, 0.5]\n",
      "[0.5, 0.5, 0.3, 0.4, 0.5]\n",
      "[0.6, 0.5, 0.5, 0.5, 0.5]\n",
      "[0.8, 0.9, 1.0, 0.7, 0.9]\n",
      "[0.9, 0.8, 1.0, 0.4, 0.9]\n",
      "[0.6, 0.6, 0.6, 0.4, 0.6]\n",
      "[0.8, 0.6, 1.0, 1.0, 1.0]\n",
      "[1.0, 1.0, 1.0, 1.0, 1.0]\n",
      "[0.6, 0.5, 0.5, 0.5, 0.7]\n",
      "[0.8, 0.5, 0.5, 0.4, 0.7]\n",
      "[0.8, 1.0, 1.0, 0.9, 0.9]\n",
      "[1.0, 1.0, 1.0, 1.0, 1.0]\n",
      "[1.0, 1.0, 1.0, 1.0, 1.0]\n",
      "[0.3, 0.5, 0.5, 0.5, 0.5]\n",
      "[0.3, 0.5, 0.5, 0.5, 0.6]\n",
      "[0.9, 0.5, 0.5, 0.8, 1.0]\n",
      "[0.4, 0.6, 1.0, 0.4, 0.5]\n",
      "[1.0, 0.9, 1.0, 1.0, 1.0]\n",
      "[0.9, 0.4, 0.5, 0.6, 0.9]\n",
      "[1.0, 1.0, 1.0, 1.0, 1.0]\n",
      "[0.3, 0.6, 0.9, 0.4, 0.4]\n",
      "[0.5, 0.5, 0.6, 0.5, 0.7]\n",
      "[1.0, 1.0, 1.0, 1.0, 1.0]\n",
      "[0.9, 1.0, 1.0, 0.9, 0.9]\n",
      "[0.6, 0.8, 0.7, 0.9, 0.9]\n",
      "[0.8, 0.5, 0.5, 0.6, 0.7]\n"
     ]
    }
   ],
   "source": [
    "#Посчитаем для каждого человека для каждого метода точность определения\n",
    "acc_method1 = []\n",
    "acc_hist8 = []\n",
    "acc_hist64 = []\n",
    "acc_scaling = []\n",
    "acc_scaling2 = []\n",
    "def acc_for_people(method, photos, samples, number, answer):\n",
    "    true_iter = 0\n",
    "    for photo in photos:\n",
    "        result = method(photo, samples, number)[0]\n",
    "        if answer == samples_adress[result][1:samples_adress[result].index('/')]:\n",
    "            true_iter+=1\n",
    "    return true_iter/len(photos)\n",
    "methods = np.array([parallel_method1, parallel_hist, parallel_hist, parallel_scaling, parallel_scaling2])\n",
    "samples_m = np.array([samples, samples_hist8, samples_hist64, samples_scaling, samples_scaling2])\n",
    "numbers = np.array([1,8,64,1,1])\n",
    "acc_peop = []\n",
    "rand_m = []\n",
    "hist8_m = []\n",
    "hist64_m = []\n",
    "scal_m = []\n",
    "scal2_m = []\n",
    "for i in range(0,400,10):\n",
    "    acc = []\n",
    "    for k in range(5):\n",
    "        if i == 0:\n",
    "            acc.append(acc_for_people(methods[k],all_photo[i:i+10],samples_m[k], numbers[k],str(i+1)))\n",
    "        else:\n",
    "            acc.append(acc_for_people(methods[k],all_photo[i:i+10],samples_m[k], numbers[k],str(int(str(i)[:-1])+1)))\n",
    "    acc_peop.append(acc)\n",
    "    rand_m.append(acc[0])\n",
    "    hist8_m.append(acc[1])\n",
    "    hist64_m.append(acc[2])\n",
    "    scal_m.append(acc[3])\n",
    "    scal2_m.append(acc[4])\n",
    "    print(acc)"
   ]
  },
  {
   "cell_type": "code",
   "execution_count": 22,
   "id": "58d55117",
   "metadata": {},
   "outputs": [
    {
     "data": {
      "application/vnd.plotly.v1+json": {
       "config": {
        "plotlyServerURL": "https://plot.ly"
       },
       "data": [
        {
         "name": "Random pixels",
         "type": "scatter",
         "x": [
          1,
          2,
          3,
          4,
          5,
          6,
          7,
          8,
          9,
          10,
          11,
          12,
          13,
          14,
          15,
          16,
          17,
          18,
          19,
          20,
          21,
          22,
          23,
          24,
          25,
          26,
          27,
          28,
          29,
          30,
          31,
          32,
          33,
          34,
          35,
          36,
          37,
          38,
          39,
          40
         ],
         "y": [
          0.8,
          1,
          0.7,
          0.4,
          0.8,
          1,
          1,
          1,
          0.9,
          0.5,
          0.8,
          1,
          0.8,
          0.8,
          0.5,
          0.5,
          0.6,
          0.8,
          0.9,
          0.6,
          0.8,
          1,
          0.6,
          0.8,
          0.8,
          1,
          1,
          0.3,
          0.3,
          0.9,
          0.4,
          1,
          0.9,
          1,
          0.3,
          0.5,
          1,
          0.9,
          0.6,
          0.8
         ]
        },
        {
         "name": "Histogram with 8 poles",
         "type": "scatter",
         "x": [
          1,
          2,
          3,
          4,
          5,
          6,
          7,
          8,
          9,
          10,
          11,
          12,
          13,
          14,
          15,
          16,
          17,
          18,
          19,
          20,
          21,
          22,
          23,
          24,
          25,
          26,
          27,
          28,
          29,
          30,
          31,
          32,
          33,
          34,
          35,
          36,
          37,
          38,
          39,
          40
         ],
         "y": [
          0.7,
          1,
          0.7,
          0.5,
          0.5,
          0.7,
          0.9,
          1,
          1,
          0.4,
          1,
          1,
          0.7,
          1,
          0.5,
          0.5,
          0.5,
          0.9,
          0.8,
          0.6,
          0.6,
          1,
          0.5,
          0.5,
          1,
          1,
          1,
          0.5,
          0.5,
          0.5,
          0.6,
          0.9,
          0.4,
          1,
          0.6,
          0.5,
          1,
          1,
          0.8,
          0.5
         ]
        },
        {
         "name": "Histogram with 64 poles",
         "type": "scatter",
         "x": [
          1,
          2,
          3,
          4,
          5,
          6,
          7,
          8,
          9,
          10,
          11,
          12,
          13,
          14,
          15,
          16,
          17,
          18,
          19,
          20,
          21,
          22,
          23,
          24,
          25,
          26,
          27,
          28,
          29,
          30,
          31,
          32,
          33,
          34,
          35,
          36,
          37,
          38,
          39,
          40
         ],
         "y": [
          0.5,
          1,
          1,
          0.5,
          0.5,
          0.7,
          0.9,
          1,
          0.7,
          0.4,
          1,
          1,
          0.6,
          1,
          0.5,
          0.3,
          0.5,
          1,
          1,
          0.6,
          1,
          1,
          0.5,
          0.5,
          1,
          1,
          1,
          0.5,
          0.5,
          0.5,
          1,
          1,
          0.5,
          1,
          0.9,
          0.6,
          1,
          1,
          0.7,
          0.5
         ]
        },
        {
         "name": "Scaling with overlay",
         "type": "scatter",
         "x": [
          1,
          2,
          3,
          4,
          5,
          6,
          7,
          8,
          9,
          10,
          11,
          12,
          13,
          14,
          15,
          16,
          17,
          18,
          19,
          20,
          21,
          22,
          23,
          24,
          25,
          26,
          27,
          28,
          29,
          30,
          31,
          32,
          33,
          34,
          35,
          36,
          37,
          38,
          39,
          40
         ],
         "y": [
          0.6,
          1,
          0.8,
          0.5,
          0.5,
          0.7,
          1,
          1,
          0.8,
          0.6,
          1,
          0.9,
          1,
          1,
          0.6,
          0.4,
          0.5,
          0.7,
          0.4,
          0.4,
          1,
          1,
          0.5,
          0.4,
          0.9,
          1,
          1,
          0.5,
          0.5,
          0.8,
          0.4,
          1,
          0.6,
          1,
          0.4,
          0.5,
          1,
          0.9,
          0.9,
          0.6
         ]
        },
        {
         "name": "Scaling",
         "type": "scatter",
         "x": [
          1,
          2,
          3,
          4,
          5,
          6,
          7,
          8,
          9,
          10,
          11,
          12,
          13,
          14,
          15,
          16,
          17,
          18,
          19,
          20,
          21,
          22,
          23,
          24,
          25,
          26,
          27,
          28,
          29,
          30,
          31,
          32,
          33,
          34,
          35,
          36,
          37,
          38,
          39,
          40
         ],
         "y": [
          0.8,
          1,
          0.8,
          0.6,
          0.8,
          1,
          1,
          1,
          1,
          0.9,
          1,
          1,
          1,
          1,
          0.5,
          0.5,
          0.5,
          0.9,
          0.9,
          0.6,
          1,
          1,
          0.7,
          0.7,
          0.9,
          1,
          1,
          0.5,
          0.6,
          1,
          0.5,
          1,
          0.9,
          1,
          0.4,
          0.7,
          1,
          0.9,
          0.9,
          0.7
         ]
        }
       ],
       "layout": {
        "legend": {
         "orientation": "h",
         "x": 0.5,
         "xanchor": "center"
        },
        "margin": {
         "b": 0,
         "l": 0,
         "r": 0,
         "t": 30
        },
        "template": {
         "data": {
          "bar": [
           {
            "error_x": {
             "color": "#2a3f5f"
            },
            "error_y": {
             "color": "#2a3f5f"
            },
            "marker": {
             "line": {
              "color": "#E5ECF6",
              "width": 0.5
             },
             "pattern": {
              "fillmode": "overlay",
              "size": 10,
              "solidity": 0.2
             }
            },
            "type": "bar"
           }
          ],
          "barpolar": [
           {
            "marker": {
             "line": {
              "color": "#E5ECF6",
              "width": 0.5
             },
             "pattern": {
              "fillmode": "overlay",
              "size": 10,
              "solidity": 0.2
             }
            },
            "type": "barpolar"
           }
          ],
          "carpet": [
           {
            "aaxis": {
             "endlinecolor": "#2a3f5f",
             "gridcolor": "white",
             "linecolor": "white",
             "minorgridcolor": "white",
             "startlinecolor": "#2a3f5f"
            },
            "baxis": {
             "endlinecolor": "#2a3f5f",
             "gridcolor": "white",
             "linecolor": "white",
             "minorgridcolor": "white",
             "startlinecolor": "#2a3f5f"
            },
            "type": "carpet"
           }
          ],
          "choropleth": [
           {
            "colorbar": {
             "outlinewidth": 0,
             "ticks": ""
            },
            "type": "choropleth"
           }
          ],
          "contour": [
           {
            "colorbar": {
             "outlinewidth": 0,
             "ticks": ""
            },
            "colorscale": [
             [
              0,
              "#0d0887"
             ],
             [
              0.1111111111111111,
              "#46039f"
             ],
             [
              0.2222222222222222,
              "#7201a8"
             ],
             [
              0.3333333333333333,
              "#9c179e"
             ],
             [
              0.4444444444444444,
              "#bd3786"
             ],
             [
              0.5555555555555556,
              "#d8576b"
             ],
             [
              0.6666666666666666,
              "#ed7953"
             ],
             [
              0.7777777777777778,
              "#fb9f3a"
             ],
             [
              0.8888888888888888,
              "#fdca26"
             ],
             [
              1,
              "#f0f921"
             ]
            ],
            "type": "contour"
           }
          ],
          "contourcarpet": [
           {
            "colorbar": {
             "outlinewidth": 0,
             "ticks": ""
            },
            "type": "contourcarpet"
           }
          ],
          "heatmap": [
           {
            "colorbar": {
             "outlinewidth": 0,
             "ticks": ""
            },
            "colorscale": [
             [
              0,
              "#0d0887"
             ],
             [
              0.1111111111111111,
              "#46039f"
             ],
             [
              0.2222222222222222,
              "#7201a8"
             ],
             [
              0.3333333333333333,
              "#9c179e"
             ],
             [
              0.4444444444444444,
              "#bd3786"
             ],
             [
              0.5555555555555556,
              "#d8576b"
             ],
             [
              0.6666666666666666,
              "#ed7953"
             ],
             [
              0.7777777777777778,
              "#fb9f3a"
             ],
             [
              0.8888888888888888,
              "#fdca26"
             ],
             [
              1,
              "#f0f921"
             ]
            ],
            "type": "heatmap"
           }
          ],
          "heatmapgl": [
           {
            "colorbar": {
             "outlinewidth": 0,
             "ticks": ""
            },
            "colorscale": [
             [
              0,
              "#0d0887"
             ],
             [
              0.1111111111111111,
              "#46039f"
             ],
             [
              0.2222222222222222,
              "#7201a8"
             ],
             [
              0.3333333333333333,
              "#9c179e"
             ],
             [
              0.4444444444444444,
              "#bd3786"
             ],
             [
              0.5555555555555556,
              "#d8576b"
             ],
             [
              0.6666666666666666,
              "#ed7953"
             ],
             [
              0.7777777777777778,
              "#fb9f3a"
             ],
             [
              0.8888888888888888,
              "#fdca26"
             ],
             [
              1,
              "#f0f921"
             ]
            ],
            "type": "heatmapgl"
           }
          ],
          "histogram": [
           {
            "marker": {
             "pattern": {
              "fillmode": "overlay",
              "size": 10,
              "solidity": 0.2
             }
            },
            "type": "histogram"
           }
          ],
          "histogram2d": [
           {
            "colorbar": {
             "outlinewidth": 0,
             "ticks": ""
            },
            "colorscale": [
             [
              0,
              "#0d0887"
             ],
             [
              0.1111111111111111,
              "#46039f"
             ],
             [
              0.2222222222222222,
              "#7201a8"
             ],
             [
              0.3333333333333333,
              "#9c179e"
             ],
             [
              0.4444444444444444,
              "#bd3786"
             ],
             [
              0.5555555555555556,
              "#d8576b"
             ],
             [
              0.6666666666666666,
              "#ed7953"
             ],
             [
              0.7777777777777778,
              "#fb9f3a"
             ],
             [
              0.8888888888888888,
              "#fdca26"
             ],
             [
              1,
              "#f0f921"
             ]
            ],
            "type": "histogram2d"
           }
          ],
          "histogram2dcontour": [
           {
            "colorbar": {
             "outlinewidth": 0,
             "ticks": ""
            },
            "colorscale": [
             [
              0,
              "#0d0887"
             ],
             [
              0.1111111111111111,
              "#46039f"
             ],
             [
              0.2222222222222222,
              "#7201a8"
             ],
             [
              0.3333333333333333,
              "#9c179e"
             ],
             [
              0.4444444444444444,
              "#bd3786"
             ],
             [
              0.5555555555555556,
              "#d8576b"
             ],
             [
              0.6666666666666666,
              "#ed7953"
             ],
             [
              0.7777777777777778,
              "#fb9f3a"
             ],
             [
              0.8888888888888888,
              "#fdca26"
             ],
             [
              1,
              "#f0f921"
             ]
            ],
            "type": "histogram2dcontour"
           }
          ],
          "mesh3d": [
           {
            "colorbar": {
             "outlinewidth": 0,
             "ticks": ""
            },
            "type": "mesh3d"
           }
          ],
          "parcoords": [
           {
            "line": {
             "colorbar": {
              "outlinewidth": 0,
              "ticks": ""
             }
            },
            "type": "parcoords"
           }
          ],
          "pie": [
           {
            "automargin": true,
            "type": "pie"
           }
          ],
          "scatter": [
           {
            "marker": {
             "colorbar": {
              "outlinewidth": 0,
              "ticks": ""
             }
            },
            "type": "scatter"
           }
          ],
          "scatter3d": [
           {
            "line": {
             "colorbar": {
              "outlinewidth": 0,
              "ticks": ""
             }
            },
            "marker": {
             "colorbar": {
              "outlinewidth": 0,
              "ticks": ""
             }
            },
            "type": "scatter3d"
           }
          ],
          "scattercarpet": [
           {
            "marker": {
             "colorbar": {
              "outlinewidth": 0,
              "ticks": ""
             }
            },
            "type": "scattercarpet"
           }
          ],
          "scattergeo": [
           {
            "marker": {
             "colorbar": {
              "outlinewidth": 0,
              "ticks": ""
             }
            },
            "type": "scattergeo"
           }
          ],
          "scattergl": [
           {
            "marker": {
             "colorbar": {
              "outlinewidth": 0,
              "ticks": ""
             }
            },
            "type": "scattergl"
           }
          ],
          "scattermapbox": [
           {
            "marker": {
             "colorbar": {
              "outlinewidth": 0,
              "ticks": ""
             }
            },
            "type": "scattermapbox"
           }
          ],
          "scatterpolar": [
           {
            "marker": {
             "colorbar": {
              "outlinewidth": 0,
              "ticks": ""
             }
            },
            "type": "scatterpolar"
           }
          ],
          "scatterpolargl": [
           {
            "marker": {
             "colorbar": {
              "outlinewidth": 0,
              "ticks": ""
             }
            },
            "type": "scatterpolargl"
           }
          ],
          "scatterternary": [
           {
            "marker": {
             "colorbar": {
              "outlinewidth": 0,
              "ticks": ""
             }
            },
            "type": "scatterternary"
           }
          ],
          "surface": [
           {
            "colorbar": {
             "outlinewidth": 0,
             "ticks": ""
            },
            "colorscale": [
             [
              0,
              "#0d0887"
             ],
             [
              0.1111111111111111,
              "#46039f"
             ],
             [
              0.2222222222222222,
              "#7201a8"
             ],
             [
              0.3333333333333333,
              "#9c179e"
             ],
             [
              0.4444444444444444,
              "#bd3786"
             ],
             [
              0.5555555555555556,
              "#d8576b"
             ],
             [
              0.6666666666666666,
              "#ed7953"
             ],
             [
              0.7777777777777778,
              "#fb9f3a"
             ],
             [
              0.8888888888888888,
              "#fdca26"
             ],
             [
              1,
              "#f0f921"
             ]
            ],
            "type": "surface"
           }
          ],
          "table": [
           {
            "cells": {
             "fill": {
              "color": "#EBF0F8"
             },
             "line": {
              "color": "white"
             }
            },
            "header": {
             "fill": {
              "color": "#C8D4E3"
             },
             "line": {
              "color": "white"
             }
            },
            "type": "table"
           }
          ]
         },
         "layout": {
          "annotationdefaults": {
           "arrowcolor": "#2a3f5f",
           "arrowhead": 0,
           "arrowwidth": 1
          },
          "autotypenumbers": "strict",
          "coloraxis": {
           "colorbar": {
            "outlinewidth": 0,
            "ticks": ""
           }
          },
          "colorscale": {
           "diverging": [
            [
             0,
             "#8e0152"
            ],
            [
             0.1,
             "#c51b7d"
            ],
            [
             0.2,
             "#de77ae"
            ],
            [
             0.3,
             "#f1b6da"
            ],
            [
             0.4,
             "#fde0ef"
            ],
            [
             0.5,
             "#f7f7f7"
            ],
            [
             0.6,
             "#e6f5d0"
            ],
            [
             0.7,
             "#b8e186"
            ],
            [
             0.8,
             "#7fbc41"
            ],
            [
             0.9,
             "#4d9221"
            ],
            [
             1,
             "#276419"
            ]
           ],
           "sequential": [
            [
             0,
             "#0d0887"
            ],
            [
             0.1111111111111111,
             "#46039f"
            ],
            [
             0.2222222222222222,
             "#7201a8"
            ],
            [
             0.3333333333333333,
             "#9c179e"
            ],
            [
             0.4444444444444444,
             "#bd3786"
            ],
            [
             0.5555555555555556,
             "#d8576b"
            ],
            [
             0.6666666666666666,
             "#ed7953"
            ],
            [
             0.7777777777777778,
             "#fb9f3a"
            ],
            [
             0.8888888888888888,
             "#fdca26"
            ],
            [
             1,
             "#f0f921"
            ]
           ],
           "sequentialminus": [
            [
             0,
             "#0d0887"
            ],
            [
             0.1111111111111111,
             "#46039f"
            ],
            [
             0.2222222222222222,
             "#7201a8"
            ],
            [
             0.3333333333333333,
             "#9c179e"
            ],
            [
             0.4444444444444444,
             "#bd3786"
            ],
            [
             0.5555555555555556,
             "#d8576b"
            ],
            [
             0.6666666666666666,
             "#ed7953"
            ],
            [
             0.7777777777777778,
             "#fb9f3a"
            ],
            [
             0.8888888888888888,
             "#fdca26"
            ],
            [
             1,
             "#f0f921"
            ]
           ]
          },
          "colorway": [
           "#636efa",
           "#EF553B",
           "#00cc96",
           "#ab63fa",
           "#FFA15A",
           "#19d3f3",
           "#FF6692",
           "#B6E880",
           "#FF97FF",
           "#FECB52"
          ],
          "font": {
           "color": "#2a3f5f"
          },
          "geo": {
           "bgcolor": "white",
           "lakecolor": "white",
           "landcolor": "#E5ECF6",
           "showlakes": true,
           "showland": true,
           "subunitcolor": "white"
          },
          "hoverlabel": {
           "align": "left"
          },
          "hovermode": "closest",
          "mapbox": {
           "style": "light"
          },
          "paper_bgcolor": "white",
          "plot_bgcolor": "#E5ECF6",
          "polar": {
           "angularaxis": {
            "gridcolor": "white",
            "linecolor": "white",
            "ticks": ""
           },
           "bgcolor": "#E5ECF6",
           "radialaxis": {
            "gridcolor": "white",
            "linecolor": "white",
            "ticks": ""
           }
          },
          "scene": {
           "xaxis": {
            "backgroundcolor": "#E5ECF6",
            "gridcolor": "white",
            "gridwidth": 2,
            "linecolor": "white",
            "showbackground": true,
            "ticks": "",
            "zerolinecolor": "white"
           },
           "yaxis": {
            "backgroundcolor": "#E5ECF6",
            "gridcolor": "white",
            "gridwidth": 2,
            "linecolor": "white",
            "showbackground": true,
            "ticks": "",
            "zerolinecolor": "white"
           },
           "zaxis": {
            "backgroundcolor": "#E5ECF6",
            "gridcolor": "white",
            "gridwidth": 2,
            "linecolor": "white",
            "showbackground": true,
            "ticks": "",
            "zerolinecolor": "white"
           }
          },
          "shapedefaults": {
           "line": {
            "color": "#2a3f5f"
           }
          },
          "ternary": {
           "aaxis": {
            "gridcolor": "white",
            "linecolor": "white",
            "ticks": ""
           },
           "baxis": {
            "gridcolor": "white",
            "linecolor": "white",
            "ticks": ""
           },
           "bgcolor": "#E5ECF6",
           "caxis": {
            "gridcolor": "white",
            "linecolor": "white",
            "ticks": ""
           }
          },
          "title": {
           "x": 0.05
          },
          "xaxis": {
           "automargin": true,
           "gridcolor": "white",
           "linecolor": "white",
           "ticks": "",
           "title": {
            "standoff": 15
           },
           "zerolinecolor": "white",
           "zerolinewidth": 2
          },
          "yaxis": {
           "automargin": true,
           "gridcolor": "white",
           "linecolor": "white",
           "ticks": "",
           "title": {
            "standoff": 15
           },
           "zerolinecolor": "white",
           "zerolinewidth": 2
          }
         }
        },
        "title": {
         "text": "Точность методов на определенных людях",
         "x": 0.5
        },
        "xaxis": {
         "title": {
          "text": "Номер человека"
         }
        },
        "yaxis": {
         "title": {
          "text": "Вероятность распознавания"
         }
        }
       }
      },
      "text/html": [
       "<div>                            <div id=\"c9e2daef-cbc9-4a75-94c7-28fde08eb792\" class=\"plotly-graph-div\" style=\"height:525px; width:100%;\"></div>            <script type=\"text/javascript\">                require([\"plotly\"], function(Plotly) {                    window.PLOTLYENV=window.PLOTLYENV || {};                                    if (document.getElementById(\"c9e2daef-cbc9-4a75-94c7-28fde08eb792\")) {                    Plotly.newPlot(                        \"c9e2daef-cbc9-4a75-94c7-28fde08eb792\",                        [{\"name\":\"Random pixels\",\"x\":[1,2,3,4,5,6,7,8,9,10,11,12,13,14,15,16,17,18,19,20,21,22,23,24,25,26,27,28,29,30,31,32,33,34,35,36,37,38,39,40],\"y\":[0.8,1.0,0.7,0.4,0.8,1.0,1.0,1.0,0.9,0.5,0.8,1.0,0.8,0.8,0.5,0.5,0.6,0.8,0.9,0.6,0.8,1.0,0.6,0.8,0.8,1.0,1.0,0.3,0.3,0.9,0.4,1.0,0.9,1.0,0.3,0.5,1.0,0.9,0.6,0.8],\"type\":\"scatter\"},{\"name\":\"Histogram with 8 poles\",\"x\":[1,2,3,4,5,6,7,8,9,10,11,12,13,14,15,16,17,18,19,20,21,22,23,24,25,26,27,28,29,30,31,32,33,34,35,36,37,38,39,40],\"y\":[0.7,1.0,0.7,0.5,0.5,0.7,0.9,1.0,1.0,0.4,1.0,1.0,0.7,1.0,0.5,0.5,0.5,0.9,0.8,0.6,0.6,1.0,0.5,0.5,1.0,1.0,1.0,0.5,0.5,0.5,0.6,0.9,0.4,1.0,0.6,0.5,1.0,1.0,0.8,0.5],\"type\":\"scatter\"},{\"name\":\"Histogram with 64 poles\",\"x\":[1,2,3,4,5,6,7,8,9,10,11,12,13,14,15,16,17,18,19,20,21,22,23,24,25,26,27,28,29,30,31,32,33,34,35,36,37,38,39,40],\"y\":[0.5,1.0,1.0,0.5,0.5,0.7,0.9,1.0,0.7,0.4,1.0,1.0,0.6,1.0,0.5,0.3,0.5,1.0,1.0,0.6,1.0,1.0,0.5,0.5,1.0,1.0,1.0,0.5,0.5,0.5,1.0,1.0,0.5,1.0,0.9,0.6,1.0,1.0,0.7,0.5],\"type\":\"scatter\"},{\"name\":\"Scaling with overlay\",\"x\":[1,2,3,4,5,6,7,8,9,10,11,12,13,14,15,16,17,18,19,20,21,22,23,24,25,26,27,28,29,30,31,32,33,34,35,36,37,38,39,40],\"y\":[0.6,1.0,0.8,0.5,0.5,0.7,1.0,1.0,0.8,0.6,1.0,0.9,1.0,1.0,0.6,0.4,0.5,0.7,0.4,0.4,1.0,1.0,0.5,0.4,0.9,1.0,1.0,0.5,0.5,0.8,0.4,1.0,0.6,1.0,0.4,0.5,1.0,0.9,0.9,0.6],\"type\":\"scatter\"},{\"name\":\"Scaling\",\"x\":[1,2,3,4,5,6,7,8,9,10,11,12,13,14,15,16,17,18,19,20,21,22,23,24,25,26,27,28,29,30,31,32,33,34,35,36,37,38,39,40],\"y\":[0.8,1.0,0.8,0.6,0.8,1.0,1.0,1.0,1.0,0.9,1.0,1.0,1.0,1.0,0.5,0.5,0.5,0.9,0.9,0.6,1.0,1.0,0.7,0.7,0.9,1.0,1.0,0.5,0.6,1.0,0.5,1.0,0.9,1.0,0.4,0.7,1.0,0.9,0.9,0.7],\"type\":\"scatter\"}],                        {\"template\":{\"data\":{\"bar\":[{\"error_x\":{\"color\":\"#2a3f5f\"},\"error_y\":{\"color\":\"#2a3f5f\"},\"marker\":{\"line\":{\"color\":\"#E5ECF6\",\"width\":0.5},\"pattern\":{\"fillmode\":\"overlay\",\"size\":10,\"solidity\":0.2}},\"type\":\"bar\"}],\"barpolar\":[{\"marker\":{\"line\":{\"color\":\"#E5ECF6\",\"width\":0.5},\"pattern\":{\"fillmode\":\"overlay\",\"size\":10,\"solidity\":0.2}},\"type\":\"barpolar\"}],\"carpet\":[{\"aaxis\":{\"endlinecolor\":\"#2a3f5f\",\"gridcolor\":\"white\",\"linecolor\":\"white\",\"minorgridcolor\":\"white\",\"startlinecolor\":\"#2a3f5f\"},\"baxis\":{\"endlinecolor\":\"#2a3f5f\",\"gridcolor\":\"white\",\"linecolor\":\"white\",\"minorgridcolor\":\"white\",\"startlinecolor\":\"#2a3f5f\"},\"type\":\"carpet\"}],\"choropleth\":[{\"colorbar\":{\"outlinewidth\":0,\"ticks\":\"\"},\"type\":\"choropleth\"}],\"contour\":[{\"colorbar\":{\"outlinewidth\":0,\"ticks\":\"\"},\"colorscale\":[[0.0,\"#0d0887\"],[0.1111111111111111,\"#46039f\"],[0.2222222222222222,\"#7201a8\"],[0.3333333333333333,\"#9c179e\"],[0.4444444444444444,\"#bd3786\"],[0.5555555555555556,\"#d8576b\"],[0.6666666666666666,\"#ed7953\"],[0.7777777777777778,\"#fb9f3a\"],[0.8888888888888888,\"#fdca26\"],[1.0,\"#f0f921\"]],\"type\":\"contour\"}],\"contourcarpet\":[{\"colorbar\":{\"outlinewidth\":0,\"ticks\":\"\"},\"type\":\"contourcarpet\"}],\"heatmap\":[{\"colorbar\":{\"outlinewidth\":0,\"ticks\":\"\"},\"colorscale\":[[0.0,\"#0d0887\"],[0.1111111111111111,\"#46039f\"],[0.2222222222222222,\"#7201a8\"],[0.3333333333333333,\"#9c179e\"],[0.4444444444444444,\"#bd3786\"],[0.5555555555555556,\"#d8576b\"],[0.6666666666666666,\"#ed7953\"],[0.7777777777777778,\"#fb9f3a\"],[0.8888888888888888,\"#fdca26\"],[1.0,\"#f0f921\"]],\"type\":\"heatmap\"}],\"heatmapgl\":[{\"colorbar\":{\"outlinewidth\":0,\"ticks\":\"\"},\"colorscale\":[[0.0,\"#0d0887\"],[0.1111111111111111,\"#46039f\"],[0.2222222222222222,\"#7201a8\"],[0.3333333333333333,\"#9c179e\"],[0.4444444444444444,\"#bd3786\"],[0.5555555555555556,\"#d8576b\"],[0.6666666666666666,\"#ed7953\"],[0.7777777777777778,\"#fb9f3a\"],[0.8888888888888888,\"#fdca26\"],[1.0,\"#f0f921\"]],\"type\":\"heatmapgl\"}],\"histogram\":[{\"marker\":{\"pattern\":{\"fillmode\":\"overlay\",\"size\":10,\"solidity\":0.2}},\"type\":\"histogram\"}],\"histogram2d\":[{\"colorbar\":{\"outlinewidth\":0,\"ticks\":\"\"},\"colorscale\":[[0.0,\"#0d0887\"],[0.1111111111111111,\"#46039f\"],[0.2222222222222222,\"#7201a8\"],[0.3333333333333333,\"#9c179e\"],[0.4444444444444444,\"#bd3786\"],[0.5555555555555556,\"#d8576b\"],[0.6666666666666666,\"#ed7953\"],[0.7777777777777778,\"#fb9f3a\"],[0.8888888888888888,\"#fdca26\"],[1.0,\"#f0f921\"]],\"type\":\"histogram2d\"}],\"histogram2dcontour\":[{\"colorbar\":{\"outlinewidth\":0,\"ticks\":\"\"},\"colorscale\":[[0.0,\"#0d0887\"],[0.1111111111111111,\"#46039f\"],[0.2222222222222222,\"#7201a8\"],[0.3333333333333333,\"#9c179e\"],[0.4444444444444444,\"#bd3786\"],[0.5555555555555556,\"#d8576b\"],[0.6666666666666666,\"#ed7953\"],[0.7777777777777778,\"#fb9f3a\"],[0.8888888888888888,\"#fdca26\"],[1.0,\"#f0f921\"]],\"type\":\"histogram2dcontour\"}],\"mesh3d\":[{\"colorbar\":{\"outlinewidth\":0,\"ticks\":\"\"},\"type\":\"mesh3d\"}],\"parcoords\":[{\"line\":{\"colorbar\":{\"outlinewidth\":0,\"ticks\":\"\"}},\"type\":\"parcoords\"}],\"pie\":[{\"automargin\":true,\"type\":\"pie\"}],\"scatter\":[{\"marker\":{\"colorbar\":{\"outlinewidth\":0,\"ticks\":\"\"}},\"type\":\"scatter\"}],\"scatter3d\":[{\"line\":{\"colorbar\":{\"outlinewidth\":0,\"ticks\":\"\"}},\"marker\":{\"colorbar\":{\"outlinewidth\":0,\"ticks\":\"\"}},\"type\":\"scatter3d\"}],\"scattercarpet\":[{\"marker\":{\"colorbar\":{\"outlinewidth\":0,\"ticks\":\"\"}},\"type\":\"scattercarpet\"}],\"scattergeo\":[{\"marker\":{\"colorbar\":{\"outlinewidth\":0,\"ticks\":\"\"}},\"type\":\"scattergeo\"}],\"scattergl\":[{\"marker\":{\"colorbar\":{\"outlinewidth\":0,\"ticks\":\"\"}},\"type\":\"scattergl\"}],\"scattermapbox\":[{\"marker\":{\"colorbar\":{\"outlinewidth\":0,\"ticks\":\"\"}},\"type\":\"scattermapbox\"}],\"scatterpolar\":[{\"marker\":{\"colorbar\":{\"outlinewidth\":0,\"ticks\":\"\"}},\"type\":\"scatterpolar\"}],\"scatterpolargl\":[{\"marker\":{\"colorbar\":{\"outlinewidth\":0,\"ticks\":\"\"}},\"type\":\"scatterpolargl\"}],\"scatterternary\":[{\"marker\":{\"colorbar\":{\"outlinewidth\":0,\"ticks\":\"\"}},\"type\":\"scatterternary\"}],\"surface\":[{\"colorbar\":{\"outlinewidth\":0,\"ticks\":\"\"},\"colorscale\":[[0.0,\"#0d0887\"],[0.1111111111111111,\"#46039f\"],[0.2222222222222222,\"#7201a8\"],[0.3333333333333333,\"#9c179e\"],[0.4444444444444444,\"#bd3786\"],[0.5555555555555556,\"#d8576b\"],[0.6666666666666666,\"#ed7953\"],[0.7777777777777778,\"#fb9f3a\"],[0.8888888888888888,\"#fdca26\"],[1.0,\"#f0f921\"]],\"type\":\"surface\"}],\"table\":[{\"cells\":{\"fill\":{\"color\":\"#EBF0F8\"},\"line\":{\"color\":\"white\"}},\"header\":{\"fill\":{\"color\":\"#C8D4E3\"},\"line\":{\"color\":\"white\"}},\"type\":\"table\"}]},\"layout\":{\"annotationdefaults\":{\"arrowcolor\":\"#2a3f5f\",\"arrowhead\":0,\"arrowwidth\":1},\"autotypenumbers\":\"strict\",\"coloraxis\":{\"colorbar\":{\"outlinewidth\":0,\"ticks\":\"\"}},\"colorscale\":{\"diverging\":[[0,\"#8e0152\"],[0.1,\"#c51b7d\"],[0.2,\"#de77ae\"],[0.3,\"#f1b6da\"],[0.4,\"#fde0ef\"],[0.5,\"#f7f7f7\"],[0.6,\"#e6f5d0\"],[0.7,\"#b8e186\"],[0.8,\"#7fbc41\"],[0.9,\"#4d9221\"],[1,\"#276419\"]],\"sequential\":[[0.0,\"#0d0887\"],[0.1111111111111111,\"#46039f\"],[0.2222222222222222,\"#7201a8\"],[0.3333333333333333,\"#9c179e\"],[0.4444444444444444,\"#bd3786\"],[0.5555555555555556,\"#d8576b\"],[0.6666666666666666,\"#ed7953\"],[0.7777777777777778,\"#fb9f3a\"],[0.8888888888888888,\"#fdca26\"],[1.0,\"#f0f921\"]],\"sequentialminus\":[[0.0,\"#0d0887\"],[0.1111111111111111,\"#46039f\"],[0.2222222222222222,\"#7201a8\"],[0.3333333333333333,\"#9c179e\"],[0.4444444444444444,\"#bd3786\"],[0.5555555555555556,\"#d8576b\"],[0.6666666666666666,\"#ed7953\"],[0.7777777777777778,\"#fb9f3a\"],[0.8888888888888888,\"#fdca26\"],[1.0,\"#f0f921\"]]},\"colorway\":[\"#636efa\",\"#EF553B\",\"#00cc96\",\"#ab63fa\",\"#FFA15A\",\"#19d3f3\",\"#FF6692\",\"#B6E880\",\"#FF97FF\",\"#FECB52\"],\"font\":{\"color\":\"#2a3f5f\"},\"geo\":{\"bgcolor\":\"white\",\"lakecolor\":\"white\",\"landcolor\":\"#E5ECF6\",\"showlakes\":true,\"showland\":true,\"subunitcolor\":\"white\"},\"hoverlabel\":{\"align\":\"left\"},\"hovermode\":\"closest\",\"mapbox\":{\"style\":\"light\"},\"paper_bgcolor\":\"white\",\"plot_bgcolor\":\"#E5ECF6\",\"polar\":{\"angularaxis\":{\"gridcolor\":\"white\",\"linecolor\":\"white\",\"ticks\":\"\"},\"bgcolor\":\"#E5ECF6\",\"radialaxis\":{\"gridcolor\":\"white\",\"linecolor\":\"white\",\"ticks\":\"\"}},\"scene\":{\"xaxis\":{\"backgroundcolor\":\"#E5ECF6\",\"gridcolor\":\"white\",\"gridwidth\":2,\"linecolor\":\"white\",\"showbackground\":true,\"ticks\":\"\",\"zerolinecolor\":\"white\"},\"yaxis\":{\"backgroundcolor\":\"#E5ECF6\",\"gridcolor\":\"white\",\"gridwidth\":2,\"linecolor\":\"white\",\"showbackground\":true,\"ticks\":\"\",\"zerolinecolor\":\"white\"},\"zaxis\":{\"backgroundcolor\":\"#E5ECF6\",\"gridcolor\":\"white\",\"gridwidth\":2,\"linecolor\":\"white\",\"showbackground\":true,\"ticks\":\"\",\"zerolinecolor\":\"white\"}},\"shapedefaults\":{\"line\":{\"color\":\"#2a3f5f\"}},\"ternary\":{\"aaxis\":{\"gridcolor\":\"white\",\"linecolor\":\"white\",\"ticks\":\"\"},\"baxis\":{\"gridcolor\":\"white\",\"linecolor\":\"white\",\"ticks\":\"\"},\"bgcolor\":\"#E5ECF6\",\"caxis\":{\"gridcolor\":\"white\",\"linecolor\":\"white\",\"ticks\":\"\"}},\"title\":{\"x\":0.05},\"xaxis\":{\"automargin\":true,\"gridcolor\":\"white\",\"linecolor\":\"white\",\"ticks\":\"\",\"title\":{\"standoff\":15},\"zerolinecolor\":\"white\",\"zerolinewidth\":2},\"yaxis\":{\"automargin\":true,\"gridcolor\":\"white\",\"linecolor\":\"white\",\"ticks\":\"\",\"title\":{\"standoff\":15},\"zerolinecolor\":\"white\",\"zerolinewidth\":2}}},\"title\":{\"text\":\"\\u0422\\u043e\\u0447\\u043d\\u043e\\u0441\\u0442\\u044c \\u043c\\u0435\\u0442\\u043e\\u0434\\u043e\\u0432 \\u043d\\u0430 \\u043e\\u043f\\u0440\\u0435\\u0434\\u0435\\u043b\\u0435\\u043d\\u043d\\u044b\\u0445 \\u043b\\u044e\\u0434\\u044f\\u0445\",\"x\":0.5},\"legend\":{\"x\":0.5,\"xanchor\":\"center\",\"orientation\":\"h\"},\"margin\":{\"l\":0,\"r\":0,\"t\":30,\"b\":0},\"xaxis\":{\"title\":{\"text\":\"\\u041d\\u043e\\u043c\\u0435\\u0440 \\u0447\\u0435\\u043b\\u043e\\u0432\\u0435\\u043a\\u0430\"}},\"yaxis\":{\"title\":{\"text\":\"\\u0412\\u0435\\u0440\\u043e\\u044f\\u0442\\u043d\\u043e\\u0441\\u0442\\u044c \\u0440\\u0430\\u0441\\u043f\\u043e\\u0437\\u043d\\u0430\\u0432\\u0430\\u043d\\u0438\\u044f\"}}},                        {\"responsive\": true}                    ).then(function(){\n",
       "                            \n",
       "var gd = document.getElementById('c9e2daef-cbc9-4a75-94c7-28fde08eb792');\n",
       "var x = new MutationObserver(function (mutations, observer) {{\n",
       "        var display = window.getComputedStyle(gd).display;\n",
       "        if (!display || display === 'none') {{\n",
       "            console.log([gd, 'removed!']);\n",
       "            Plotly.purge(gd);\n",
       "            observer.disconnect();\n",
       "        }}\n",
       "}});\n",
       "\n",
       "// Listen for the removal of the full notebook cells\n",
       "var notebookContainer = gd.closest('#notebook-container');\n",
       "if (notebookContainer) {{\n",
       "    x.observe(notebookContainer, {childList: true});\n",
       "}}\n",
       "\n",
       "// Listen for the clearing of the current output cell\n",
       "var outputEl = gd.closest('.output');\n",
       "if (outputEl) {{\n",
       "    x.observe(outputEl, {childList: true});\n",
       "}}\n",
       "\n",
       "                        })                };                });            </script>        </div>"
      ]
     },
     "metadata": {},
     "output_type": "display_data"
    }
   ],
   "source": [
    "fig = go.Figure()\n",
    "fig.add_trace(go.Scatter(x = np.array(range(1,41)), y = np.array(rand_m), name = \"Random pixels\"))\n",
    "fig.add_trace(go.Scatter(x = np.array(range(1,41)), y = np.array(hist8_m), name = \"Histogram with 8 poles\"))\n",
    "fig.add_trace(go.Scatter(x = np.array(range(1,41)), y = np.array(hist64_m), name = \"Histogram with 64 poles\"))\n",
    "fig.add_trace(go.Scatter(x = np.array(range(1,41)), y = np.array(scal_m), name = \"Scaling with overlay\"))\n",
    "fig.add_trace(go.Scatter(x = np.array(range(1,41)), y = np.array(scal2_m), name = \"Scaling\"))\n",
    "fig.update_layout(\n",
    "    title=\"Точность методов на определенных людях\",\n",
    "    title_x = 0.5,\n",
    "    legend=dict(x=.5, xanchor=\"center\", orientation=\"h\"),\n",
    "    margin=dict(l=0, r=0, t=30, b=0),\n",
    "    xaxis_title=\"Номер человека\",\n",
    "    yaxis_title=\"Вероятность распознавания\",)\n",
    "fig.show()"
   ]
  },
  {
   "cell_type": "code",
   "execution_count": 13,
   "id": "df8c12b2",
   "metadata": {},
   "outputs": [
    {
     "name": "stdout",
     "output_type": "stream",
     "text": [
      "real answer: s4; pick of model:\n",
      "real answer: s4; pick of model:\n",
      "real answer: s4; pick of model:\n",
      "real answer: s4; pick of model:\n",
      "Random pixel:  s3 s25 s9\n",
      "Hist 8:  s26 s40 s35\n",
      "Hist 64:  s26 s26 s13\n",
      "Scaling with overlay:  s3 s36 s36\n",
      "Scaling:  s3 s40 s25\n",
      "real answer: s4; pick of model:\n",
      "Random pixel:  s3 s9 s18\n",
      "Hist 8:  s9 s35 s3\n",
      "Hist 64:  s26 s9 s26\n",
      "Scaling with overlay:  s36 s3 s9\n",
      "Scaling:  s3 s9 s18\n",
      "real answer: s4; pick of model:\n",
      "Hist 8:  s35 s18 s26\n",
      "Hist 64:  s18 s9 s26\n",
      "Scaling with overlay:  s40 s5 s36\n",
      "real answer: s4; pick of model:\n",
      "Random pixel:  s25 s4 s4\n",
      "Hist 8:  s40 s26 s35\n",
      "Hist 64:  s26 s26 s9\n",
      "Scaling with overlay:  s3 s36 s9\n",
      "Scaling:  s3 s40 s4\n",
      "real answer: s4; pick of model:\n",
      "real answer: s4; pick of model:\n",
      "Random pixel:  s27 s3 s31\n",
      "real answer: s4; pick of model:\n",
      "Random pixel:  s25 s9 s3\n",
      "Hist 8:  s26 s9 s9\n",
      "Hist 64:  s26 s9 s26\n",
      "Scaling with overlay:  s36 s9 s3\n",
      "Scaling:  s9 s3 s25\n",
      "real answer: s15; pick of model:\n",
      "Random pixel:  s28 s28 s16\n",
      "Hist 8:  s32 s2 s30\n",
      "Hist 64:  s2 s30 s32\n",
      "Scaling with overlay:  s2 s32 s16\n",
      "Scaling:  s32 s16 s2\n",
      "real answer: s15; pick of model:\n",
      "real answer: s15; pick of model:\n",
      "Random pixel:  s2 s2 s16\n",
      "Hist 8:  s30 s32 s2\n",
      "Hist 64:  s30 s32 s2\n",
      "Scaling with overlay:  s2 s27 s15\n",
      "Scaling:  s32 s2 s16\n",
      "real answer: s15; pick of model:\n",
      "Random pixel:  s2 s2 s32\n",
      "Hist 8:  s2 s30 s32\n",
      "Hist 64:  s30 s2 s32\n",
      "Scaling with overlay:  s2 s23 s15\n",
      "Scaling:  s2 s32 s16\n",
      "real answer: s15; pick of model:\n",
      "real answer: s15; pick of model:\n",
      "Random pixel:  s2 s28 s2\n",
      "Hist 8:  s2 s32 s30\n",
      "Hist 64:  s2 s32 s30\n",
      "Scaling with overlay:  s32 s2 s2\n",
      "Scaling:  s32 s16 s28\n",
      "real answer: s15; pick of model:\n",
      "real answer: s15; pick of model:\n",
      "Random pixel:  s2 s2 s7\n",
      "Hist 8:  s30 s2 s32\n",
      "Hist 64:  s30 s30 s32\n",
      "Scaling:  s2 s15 s2\n",
      "real answer: s15; pick of model:\n",
      "real answer: s15; pick of model:\n",
      "real answer: s16; pick of model:\n",
      "Hist 64:  s10 s10 s36\n",
      "real answer: s16; pick of model:\n",
      "Random pixel:  s2 s27 s16\n",
      "Hist 8:  s1 s16 s19\n",
      "Hist 64:  s1 s1 s27\n",
      "Scaling with overlay:  s3 s9 s36\n",
      "real answer: s16; pick of model:\n",
      "Random pixel:  s2 s2 s25\n",
      "Hist 8:  s1 s27 s19\n",
      "Hist 64:  s1 s27 s1\n",
      "Scaling with overlay:  s3 s40 s36\n",
      "Scaling:  s2 s27 s27\n",
      "real answer: s16; pick of model:\n",
      "real answer: s16; pick of model:\n",
      "real answer: s16; pick of model:\n",
      "real answer: s16; pick of model:\n",
      "Random pixel:  s2 s27 s18\n",
      "Hist 8:  s1 s1 s16\n",
      "Hist 64:  s1 s1 s27\n",
      "Scaling with overlay:  s3 s1 s36\n",
      "Scaling:  s2 s16 s18\n",
      "real answer: s16; pick of model:\n",
      "Random pixel:  s1 s2 s28\n",
      "Hist 8:  s1 s27 s1\n",
      "Hist 64:  s1 s1 s27\n",
      "Scaling with overlay:  s1 s40 s32\n",
      "Scaling:  s1 s27 s2\n",
      "real answer: s16; pick of model:\n",
      "Random pixel:  s2 s28 s2\n",
      "Hist 8:  s1 s16 s27\n",
      "Hist 64:  s1 s1 s16\n",
      "Scaling with overlay:  s1 s3 s40\n",
      "Scaling:  s1 s16 s19\n",
      "real answer: s16; pick of model:\n",
      "Random pixel:  s2 s27 s9\n",
      "Hist 64:  s1 s28 s28\n",
      "Scaling with overlay:  s9 s3 s7\n",
      "Scaling:  s27 s2 s3\n",
      "real answer: s17; pick of model:\n",
      "Random pixel:  s36 s40 s26\n",
      "Hist 8:  s26 s37 s38\n",
      "Hist 64:  s37 s26 s28\n",
      "Scaling with overlay:  s3 s7 s36\n",
      "Scaling:  s16 s3 s28\n",
      "real answer: s17; pick of model:\n",
      "Random pixel:  s3 s36 s9\n",
      "Hist 8:  s26 s3 s37\n",
      "Hist 64:  s28 s28 s26\n",
      "Scaling with overlay:  s7 s9 s36\n",
      "Scaling:  s9 s36 s3\n",
      "real answer: s17; pick of model:\n",
      "Hist 8:  s28 s28 s7\n",
      "Hist 64:  s28 s7 s37\n",
      "Scaling with overlay:  s27 s11 s9\n",
      "Scaling:  s25 s27 s7\n",
      "real answer: s17; pick of model:\n",
      "Random pixel:  s23 s38 s10\n",
      "Hist 8:  s28 s28 s7\n",
      "Hist 64:  s28 s7 s28\n",
      "Scaling with overlay:  s27 s38 s11\n",
      "Scaling:  s25 s7 s38\n",
      "real answer: s17; pick of model:\n",
      "Random pixel:  s36 s36 s16\n",
      "Hist 8:  s26 s37 s38\n",
      "Hist 64:  s28 s28 s26\n",
      "Scaling with overlay:  s7 s3 s9\n",
      "Scaling:  s3 s16 s36\n",
      "real answer: s17; pick of model:\n",
      "real answer: s17; pick of model:\n",
      "real answer: s17; pick of model:\n",
      "real answer: s17; pick of model:\n",
      "real answer: s17; pick of model:\n",
      "real answer: s20; pick of model:\n",
      "real answer: s20; pick of model:\n",
      "real answer: s20; pick of model:\n",
      "real answer: s20; pick of model:\n",
      "Scaling with overlay:  s29 s29 s30\n",
      "real answer: s20; pick of model:\n",
      "Random pixel:  s3 s20 s20\n",
      "Hist 8:  s14 s3 s38\n",
      "Hist 64:  s14 s38 s10\n",
      "Scaling with overlay:  s9 s7 s36\n",
      "Scaling:  s3 s9 s24\n",
      "real answer: s20; pick of model:\n",
      "Scaling with overlay:  s29 s29 s33\n",
      "real answer: s20; pick of model:\n",
      "Hist 8:  s14 s38 s3\n",
      "Hist 64:  s38 s14 s3\n",
      "Scaling with overlay:  s9 s7 s36\n",
      "Scaling:  s3 s9 s20\n",
      "real answer: s20; pick of model:\n",
      "Hist 8:  s14 s38 s10\n",
      "Hist 64:  s14 s38 s10\n",
      "Scaling with overlay:  s17 s30 s36\n",
      "Scaling:  s30 s20 s20\n",
      "real answer: s20; pick of model:\n",
      "Random pixel:  s40 s9 s3\n",
      "Hist 8:  s14 s38 s3\n",
      "Hist 64:  s38 s14 s12\n",
      "Scaling with overlay:  s17 s7 s17\n",
      "Scaling:  s9 s3 s30\n",
      "real answer: s20; pick of model:\n",
      "real answer: s28; pick of model:\n",
      "Random pixel:  s13 s37 s12\n",
      "Hist 8:  s7 s38 s37\n",
      "Hist 64:  s37 s28 s3\n",
      "Scaling with overlay:  s14 s37 s26\n",
      "Scaling:  s37 s14 s26\n",
      "real answer: s28; pick of model:\n",
      "real answer: s28; pick of model:\n",
      "Random pixel:  s37 s14 s14\n",
      "Hist 8:  s38 s37 s7\n",
      "Hist 64:  s37 s3 s38\n",
      "Scaling with overlay:  s14 s37 s14\n",
      "Scaling:  s37 s14 s26\n",
      "real answer: s28; pick of model:\n",
      "real answer: s28; pick of model:\n",
      "real answer: s28; pick of model:\n",
      "Random pixel:  s37 s25 s13\n",
      "Hist 8:  s38 s37 s7\n",
      "Hist 64:  s37 s3 s9\n",
      "Scaling with overlay:  s37 s14 s14\n",
      "Scaling:  s37 s14 s26\n",
      "real answer: s28; pick of model:\n",
      "real answer: s28; pick of model:\n",
      "Random pixel:  s37 s26 s25\n",
      "Hist 8:  s7 s38 s37\n",
      "Hist 64:  s37 s28 s38\n",
      "Scaling with overlay:  s37 s12 s26\n",
      "Scaling:  s37 s26 s3\n",
      "real answer: s28; pick of model:\n",
      "real answer: s28; pick of model:\n",
      "Random pixel:  s13 s3 s13\n",
      "Hist 8:  s38 s38 s3\n",
      "Hist 64:  s3 s37 s26\n",
      "Scaling with overlay:  s14 s26 s3\n",
      "Scaling:  s14 s37 s26\n",
      "real answer: s29; pick of model:\n",
      "Random pixel:  s21 s39 s39\n",
      "Hist 8:  s22 s39 s39\n",
      "Hist 64:  s22 s21 s22\n",
      "Scaling with overlay:  s39 s39 s21\n",
      "Scaling:  s21 s39 s39\n",
      "real answer: s29; pick of model:\n",
      "Random pixel:  s39 s30 s33\n",
      "Hist 8:  s22 s39 s22\n",
      "Hist 64:  s22 s21 s22\n",
      "Scaling with overlay:  s39 s39 s21\n",
      "Scaling:  s21 s39 s39\n",
      "real answer: s29; pick of model:\n",
      "Random pixel:  s39 s33 s33\n",
      "Hist 8:  s22 s22 s39\n",
      "Hist 64:  s22 s22 s39\n",
      "Scaling with overlay:  s39 s39 s21\n",
      "Scaling:  s39 s21 s39\n",
      "real answer: s29; pick of model:\n",
      "Random pixel:  s30 s29 s29\n",
      "real answer: s29; pick of model:\n",
      "real answer: s29; pick of model:\n",
      "real answer: s29; pick of model:\n",
      "real answer: s29; pick of model:\n",
      "Random pixel:  s21 s29 s29\n",
      "real answer: s29; pick of model:\n",
      "Random pixel:  s39 s21 s22\n",
      "Hist 8:  s22 s39 s22\n",
      "Hist 64:  s22 s39 s22\n",
      "Scaling with overlay:  s39 s22 s22\n",
      "Scaling:  s39 s21 s39\n",
      "real answer: s29; pick of model:\n",
      "Hist 8:  s22 s39 s39\n",
      "Hist 64:  s22 s21 s22\n",
      "Scaling with overlay:  s39 s39 s21\n"
     ]
    }
   ],
   "source": [
    "def get_adr(ans):\n",
    "    return [samples_adress[ans[0]][:samples_adress[ans[0]].index('/')],samples_adress[ans[1]][:samples_adress[ans[1]].index('/')], samples_adress[ans[2]][:samples_adress[ans[2]].index('/')]]\n",
    "for i in range(40):\n",
    "    if rand_m[i]<=0.6 and hist8_m[i]<=0.6 and hist64_m[i]<=0.6 and scal_m[i]<=0.6 and scal2_m[i]<=0.6:\n",
    "        for photo in all_photo[i*10:i*10+10]:\n",
    "            print(\"real answer: s\"+str(i+1)+\"; pick of model:\")\n",
    "            ans = parallel_method1(photo, samples,1)\n",
    "            ans_adr = get_adr(ans)\n",
    "            if ans_adr[0] != \"s\"+str(i+1):\n",
    "                print(\"Random pixel: \", ans_adr[0],ans_adr[1],ans_adr[2])\n",
    "            ans = parallel_hist(photo, samples_hist8,8)\n",
    "            ans_adr = get_adr(ans)\n",
    "            if ans_adr[0] != \"s\"+str(i+1):\n",
    "                print(\"Hist 8: \",  ans_adr[0],ans_adr[1],ans_adr[2])\n",
    "            ans = parallel_hist(photo, samples_hist64,64)\n",
    "            ans_adr = get_adr(ans)\n",
    "            if ans_adr[0] != \"s\"+str(i+1):\n",
    "                print(\"Hist 64: \",  ans_adr[0],ans_adr[1],ans_adr[2])\n",
    "            ans = parallel_scaling(photo, samples_scaling,1)\n",
    "            ans_adr = get_adr(ans)\n",
    "            if ans_adr[0] != \"s\"+str(i+1):\n",
    "                print(\"Scaling with overlay: \",  ans_adr[0],ans_adr[1],ans_adr[2])\n",
    "            ans = parallel_scaling2(photo, samples_scaling2,1)\n",
    "            ans_adr = get_adr(ans)\n",
    "            if ans_adr[0] != \"s\"+str(i+1):\n",
    "                print(\"Scaling: \",  ans_adr[0],ans_adr[1],ans_adr[2])\n",
    "            \n",
    "            "
   ]
  },
  {
   "cell_type": "markdown",
   "id": "10f8ddfa",
   "metadata": {},
   "source": [
    "4 в очках \n",
    "15 сильно отличаются фотографии, путают с 2 (похожие эмоции, цвет волос) и (30 схожие эмоции(открытый рот))  \n",
    "16 сильно отличаются фотографии (небритость, яркость), путают с похожими 1 и 2\n",
    "17 в очках\n",
    "20 в очках\n",
    "28 в очках\n",
    "29 путают с 22(НЕГР) и 39(похож)"
   ]
  },
  {
   "cell_type": "code",
   "execution_count": null,
   "id": "dd0ead61",
   "metadata": {},
   "outputs": [],
   "source": []
  },
  {
   "cell_type": "code",
   "execution_count": null,
   "id": "354c9168",
   "metadata": {},
   "outputs": [],
   "source": []
  },
  {
   "cell_type": "code",
   "execution_count": null,
   "id": "0f043909",
   "metadata": {},
   "outputs": [],
   "source": []
  },
  {
   "cell_type": "code",
   "execution_count": null,
   "id": "8d27718e",
   "metadata": {},
   "outputs": [],
   "source": []
  },
  {
   "cell_type": "code",
   "execution_count": null,
   "id": "149b9248",
   "metadata": {},
   "outputs": [],
   "source": []
  },
  {
   "cell_type": "code",
   "execution_count": null,
   "id": "a57e60c9",
   "metadata": {},
   "outputs": [],
   "source": []
  },
  {
   "cell_type": "code",
   "execution_count": null,
   "id": "49b3d6ab",
   "metadata": {},
   "outputs": [],
   "source": []
  },
  {
   "cell_type": "code",
   "execution_count": null,
   "id": "fa7af5ac",
   "metadata": {},
   "outputs": [],
   "source": []
  },
  {
   "cell_type": "code",
   "execution_count": null,
   "id": "be66e8dd",
   "metadata": {},
   "outputs": [],
   "source": []
  },
  {
   "cell_type": "code",
   "execution_count": null,
   "id": "448806b7",
   "metadata": {},
   "outputs": [],
   "source": []
  },
  {
   "cell_type": "code",
   "execution_count": null,
   "id": "bfdee409",
   "metadata": {},
   "outputs": [],
   "source": []
  },
  {
   "cell_type": "code",
   "execution_count": null,
   "id": "d376c531",
   "metadata": {},
   "outputs": [],
   "source": []
  },
  {
   "cell_type": "code",
   "execution_count": null,
   "id": "e2ee68a4",
   "metadata": {},
   "outputs": [],
   "source": []
  },
  {
   "cell_type": "code",
   "execution_count": 31,
   "id": "ba179ca1",
   "metadata": {},
   "outputs": [],
   "source": [
    "path = 'Arch'\n",
    "number = 1\n",
    "samples = []\n",
    "samples_adress = []\n",
    "for j in os.listdir(path):\n",
    "    if j[0]==\"s\":\n",
    "        num_files = len(os.listdir(path+\"/\"+j))\n",
    "        for i in range(number):\n",
    "            rand = rd.randint(1,num_files)\n",
    "            samples.append(read_pgm(\"C:/Users/vitya/Analis/Faces/Arch/\"+j+'/'+str(rand)+'.pgm'))\n",
    "            samples_adress.append(j+\"/\"+str(rand))"
   ]
  },
  {
   "cell_type": "code",
   "execution_count": 9,
   "id": "b2387efc",
   "metadata": {},
   "outputs": [],
   "source": [
    "samples_hist2 = []\n",
    "for i in range(len(samples)):\n",
    "    samples_hist2.append(hist(samples[i],2))\n",
    "samples_hist4 = []\n",
    "for i in range(len(samples)):\n",
    "    samples_hist4.append(hist(samples[i],4))\n",
    "samples_hist8 = []\n",
    "for i in range(len(samples)):\n",
    "    samples_hist8.append(hist(samples[i],8))\n",
    "samples_hist16 = []\n",
    "for i in range(len(samples)):\n",
    "    samples_hist16.append(hist(samples[i],16))\n",
    "samples_hist32 = []\n",
    "for i in range(len(samples)):\n",
    "    samples_hist32.append(hist(samples[i],32))\n",
    "samples_hist64 = []\n",
    "for i in range(len(samples)):\n",
    "    samples_hist64.append(hist(samples[i],64))\n",
    "samples_scaling = []\n",
    "for i in range(len(samples)):\n",
    "    samples_scaling.append(scaling(samples[i]))\n",
    "samples_scaling2 = []\n",
    "for i in range(len(samples)):\n",
    "    samples_scaling2.append(scaling2(samples[i]))\n",
    "samples_difference = []\n",
    "for i in range(len(samples)):\n",
    "    samples_difference.append(difference(samples[i]))"
   ]
  },
  {
   "cell_type": "code",
   "execution_count": 33,
   "id": "4597985f",
   "metadata": {},
   "outputs": [
    {
     "name": "stdout",
     "output_type": "stream",
     "text": [
      "Current accuracy: 0.0\n",
      "--------------------\n",
      "Current accuracy: 0.0\n",
      "--------------------\n",
      "Current accuracy: 0.0\n",
      "--------------------\n",
      "Current accuracy: 0.25\n",
      "--------------------\n",
      "Current accuracy: 0.4\n",
      "--------------------\n",
      "Current accuracy: 0.3333333333333333\n",
      "--------------------\n",
      "Current accuracy: 0.2857142857142857\n",
      "--------------------\n",
      "Current accuracy: 0.375\n",
      "--------------------\n",
      "Current accuracy: 0.4444444444444444\n",
      "--------------------\n",
      "Current accuracy: 0.5\n",
      "--------------------\n",
      "Current accuracy: 0.5454545454545454\n",
      "--------------------\n",
      "Current accuracy: 0.5833333333333334\n",
      "--------------------\n",
      "Current accuracy: 0.6153846153846154\n",
      "--------------------\n",
      "Current accuracy: 0.6428571428571429\n",
      "--------------------\n",
      "Current accuracy: 0.6666666666666666\n",
      "--------------------\n",
      "Current accuracy: 0.6875\n",
      "--------------------\n",
      "Current accuracy: 0.7058823529411765\n",
      "--------------------\n",
      "Current accuracy: 0.7222222222222222\n",
      "--------------------\n",
      "Current accuracy: 0.7368421052631579\n",
      "--------------------\n",
      "Current accuracy: 0.75\n",
      "--------------------\n",
      "Current accuracy: 0.7619047619047619\n",
      "--------------------\n",
      "Current accuracy: 0.7272727272727273\n",
      "--------------------\n",
      "Current accuracy: 0.6956521739130435\n",
      "--------------------\n",
      "Current accuracy: 0.6666666666666666\n",
      "--------------------\n",
      "Current accuracy: 0.64\n",
      "--------------------\n",
      "Current accuracy: 0.6538461538461539\n",
      "--------------------\n",
      "Current accuracy: 0.6666666666666666\n",
      "--------------------\n",
      "Current accuracy: 0.6785714285714286\n",
      "--------------------\n",
      "Current accuracy: 0.6896551724137931\n",
      "--------------------\n",
      "Current accuracy: 0.6666666666666666\n",
      "--------------------\n",
      "Current accuracy: 0.6451612903225806\n",
      "--------------------\n",
      "Current accuracy: 0.65625\n",
      "--------------------\n",
      "Current accuracy: 0.6363636363636364\n",
      "--------------------\n",
      "Current accuracy: 0.6470588235294118\n",
      "--------------------\n",
      "Current accuracy: 0.6571428571428571\n",
      "--------------------\n",
      "Current accuracy: 0.6666666666666666\n",
      "--------------------\n",
      "Current accuracy: 0.6756756756756757\n",
      "--------------------\n",
      "Current accuracy: 0.6842105263157895\n",
      "--------------------\n",
      "Current accuracy: 0.6923076923076923\n",
      "--------------------\n",
      "Current accuracy: 0.7\n",
      "--------------------\n",
      "Current accuracy: 0.6829268292682927\n",
      "--------------------\n",
      "Current accuracy: 0.6904761904761905\n",
      "--------------------\n",
      "Current accuracy: 0.6976744186046512\n",
      "--------------------\n",
      "Current accuracy: 0.6818181818181818\n",
      "--------------------\n",
      "Current accuracy: 0.6888888888888889\n",
      "--------------------\n",
      "Current accuracy: 0.6956521739130435\n",
      "--------------------\n",
      "Current accuracy: 0.6808510638297872\n",
      "--------------------\n",
      "Current accuracy: 0.6875\n",
      "--------------------\n",
      "Current accuracy: 0.6938775510204082\n",
      "--------------------\n",
      "Current accuracy: 0.7\n",
      "--------------------\n",
      "Current accuracy: 0.7058823529411765\n",
      "--------------------\n",
      "Current accuracy: 0.7115384615384616\n",
      "--------------------\n",
      "Current accuracy: 0.7169811320754716\n",
      "--------------------\n",
      "Current accuracy: 0.7222222222222222\n",
      "--------------------\n",
      "Current accuracy: 0.7272727272727273\n",
      "--------------------\n",
      "Current accuracy: 0.7321428571428571\n",
      "--------------------\n",
      "Current accuracy: 0.7368421052631579\n",
      "--------------------\n",
      "Current accuracy: 0.7413793103448276\n",
      "--------------------\n",
      "Current accuracy: 0.7457627118644068\n",
      "--------------------\n",
      "Current accuracy: 0.75\n",
      "--------------------\n",
      "Current accuracy: 0.7540983606557377\n",
      "--------------------\n",
      "Current accuracy: 0.7580645161290323\n",
      "--------------------\n",
      "Current accuracy: 0.7619047619047619\n",
      "--------------------\n",
      "Current accuracy: 0.75\n",
      "--------------------\n",
      "Current accuracy: 0.7384615384615385\n",
      "--------------------\n",
      "Current accuracy: 0.7424242424242424\n",
      "--------------------\n",
      "Current accuracy: 0.746268656716418\n",
      "--------------------\n",
      "Current accuracy: 0.75\n",
      "--------------------\n",
      "Current accuracy: 0.7536231884057971\n",
      "--------------------\n",
      "Current accuracy: 0.7428571428571429\n",
      "--------------------\n",
      "Current accuracy: 0.7323943661971831\n",
      "--------------------\n",
      "Current accuracy: 0.7361111111111112\n",
      "--------------------\n",
      "Current accuracy: 0.7397260273972602\n",
      "--------------------\n",
      "Current accuracy: 0.7432432432432432\n",
      "--------------------\n",
      "Current accuracy: 0.7466666666666667\n",
      "--------------------\n",
      "Current accuracy: 0.75\n",
      "--------------------\n",
      "Current accuracy: 0.7532467532467533\n",
      "--------------------\n",
      "Current accuracy: 0.7564102564102564\n",
      "--------------------\n",
      "Current accuracy: 0.759493670886076\n",
      "--------------------\n",
      "Current accuracy: 0.7625\n",
      "--------------------\n",
      "Current accuracy: 0.7654320987654321\n",
      "--------------------\n",
      "Current accuracy: 0.7682926829268293\n",
      "--------------------\n",
      "Current accuracy: 0.7710843373493976\n",
      "--------------------\n",
      "Current accuracy: 0.7738095238095238\n",
      "--------------------\n",
      "Current accuracy: 0.7764705882352941\n",
      "--------------------\n",
      "Current accuracy: 0.7790697674418605\n",
      "--------------------\n",
      "Current accuracy: 0.7816091954022989\n",
      "--------------------\n",
      "Current accuracy: 0.7840909090909091\n",
      "--------------------\n",
      "Current accuracy: 0.7865168539325843\n",
      "--------------------\n",
      "Current accuracy: 0.7888888888888889\n",
      "--------------------\n",
      "Current accuracy: 0.7802197802197802\n",
      "--------------------\n",
      "Current accuracy: 0.782608695652174\n",
      "--------------------\n",
      "Current accuracy: 0.7741935483870968\n",
      "--------------------\n",
      "Current accuracy: 0.7659574468085106\n",
      "--------------------\n",
      "Current accuracy: 0.7684210526315789\n",
      "--------------------\n",
      "Current accuracy: 0.7604166666666666\n",
      "--------------------\n",
      "Current accuracy: 0.7628865979381443\n",
      "--------------------\n",
      "Current accuracy: 0.7653061224489796\n",
      "--------------------\n",
      "Current accuracy: 0.7575757575757576\n",
      "--------------------\n",
      "Current accuracy: 0.76\n",
      "--------------------\n",
      "Current accuracy: 0.7623762376237624\n",
      "--------------------\n",
      "Current accuracy: 0.7647058823529411\n",
      "--------------------\n",
      "Current accuracy: 0.7669902912621359\n",
      "--------------------\n",
      "Current accuracy: 0.7692307692307693\n",
      "--------------------\n",
      "Current accuracy: 0.7714285714285715\n",
      "--------------------\n",
      "Current accuracy: 0.7641509433962265\n",
      "--------------------\n",
      "Current accuracy: 0.7570093457943925\n",
      "--------------------\n",
      "Current accuracy: 0.75\n",
      "--------------------\n",
      "Current accuracy: 0.7522935779816514\n",
      "--------------------\n",
      "Current accuracy: 0.7454545454545455\n",
      "--------------------\n",
      "Current accuracy: 0.7477477477477478\n",
      "--------------------\n",
      "Current accuracy: 0.75\n",
      "--------------------\n",
      "Current accuracy: 0.7522123893805309\n",
      "--------------------\n",
      "Current accuracy: 0.7543859649122807\n",
      "--------------------\n",
      "Current accuracy: 0.7565217391304347\n",
      "--------------------\n",
      "Current accuracy: 0.7586206896551724\n",
      "--------------------\n",
      "Current accuracy: 0.7606837606837606\n",
      "--------------------\n",
      "Current accuracy: 0.7627118644067796\n",
      "--------------------\n",
      "Current accuracy: 0.7647058823529411\n",
      "--------------------\n",
      "Current accuracy: 0.7666666666666667\n",
      "--------------------\n",
      "Current accuracy: 0.768595041322314\n",
      "--------------------\n",
      "Current accuracy: 0.7704918032786885\n",
      "--------------------\n",
      "Current accuracy: 0.7723577235772358\n",
      "--------------------\n",
      "Current accuracy: 0.7741935483870968\n",
      "--------------------\n",
      "Current accuracy: 0.768\n",
      "--------------------\n",
      "Current accuracy: 0.7619047619047619\n",
      "--------------------\n",
      "Current accuracy: 0.7559055118110236\n",
      "--------------------\n",
      "Current accuracy: 0.7578125\n",
      "--------------------\n",
      "Current accuracy: 0.751937984496124\n",
      "--------------------\n",
      "Current accuracy: 0.7538461538461538\n",
      "--------------------\n",
      "Current accuracy: 0.7557251908396947\n",
      "--------------------\n",
      "Current accuracy: 0.7575757575757576\n",
      "--------------------\n",
      "Current accuracy: 0.7593984962406015\n",
      "--------------------\n",
      "Current accuracy: 0.7611940298507462\n",
      "--------------------\n",
      "Current accuracy: 0.762962962962963\n",
      "--------------------\n",
      "Current accuracy: 0.7647058823529411\n",
      "--------------------\n",
      "Current accuracy: 0.7664233576642335\n",
      "--------------------\n",
      "Current accuracy: 0.7681159420289855\n",
      "--------------------\n",
      "Current accuracy: 0.762589928057554\n",
      "--------------------\n",
      "Current accuracy: 0.7642857142857142\n",
      "--------------------\n",
      "Current accuracy: 0.7588652482269503\n",
      "--------------------\n",
      "Current accuracy: 0.7605633802816901\n",
      "--------------------\n",
      "Current accuracy: 0.7552447552447552\n",
      "--------------------\n",
      "Current accuracy: 0.75\n",
      "--------------------\n",
      "Current accuracy: 0.7517241379310344\n",
      "--------------------\n",
      "Current accuracy: 0.7465753424657534\n",
      "--------------------\n",
      "Current accuracy: 0.7482993197278912\n",
      "--------------------\n",
      "Current accuracy: 0.7432432432432432\n",
      "--------------------\n",
      "Current accuracy: 0.7449664429530202\n",
      "--------------------\n",
      "Current accuracy: 0.7466666666666667\n",
      "--------------------\n",
      "Current accuracy: 0.7483443708609272\n",
      "--------------------\n",
      "Current accuracy: 0.75\n",
      "--------------------\n"
     ]
    },
    {
     "name": "stdout",
     "output_type": "stream",
     "text": [
      "Current accuracy: 0.7516339869281046\n",
      "--------------------\n",
      "Current accuracy: 0.7467532467532467\n",
      "--------------------\n",
      "Current accuracy: 0.7419354838709677\n",
      "--------------------\n",
      "Current accuracy: 0.7435897435897436\n",
      "--------------------\n",
      "Current accuracy: 0.7452229299363057\n",
      "--------------------\n",
      "Current accuracy: 0.7468354430379747\n",
      "--------------------\n",
      "Current accuracy: 0.7484276729559748\n",
      "--------------------\n",
      "Current accuracy: 0.74375\n",
      "--------------------\n",
      "Current accuracy: 0.7391304347826086\n",
      "--------------------\n",
      "Current accuracy: 0.7407407407407407\n",
      "--------------------\n",
      "Current accuracy: 0.7361963190184049\n",
      "--------------------\n",
      "Current accuracy: 0.7378048780487805\n",
      "--------------------\n",
      "Current accuracy: 0.7333333333333333\n",
      "--------------------\n",
      "Current accuracy: 0.7349397590361446\n",
      "--------------------\n",
      "Current accuracy: 0.7365269461077845\n",
      "--------------------\n",
      "Current accuracy: 0.7380952380952381\n",
      "--------------------\n",
      "Current accuracy: 0.7396449704142012\n",
      "--------------------\n",
      "Current accuracy: 0.7411764705882353\n",
      "--------------------\n",
      "Current accuracy: 0.7426900584795322\n",
      "--------------------\n",
      "Current accuracy: 0.7441860465116279\n",
      "--------------------\n",
      "Current accuracy: 0.7456647398843931\n",
      "--------------------\n",
      "Current accuracy: 0.7471264367816092\n",
      "--------------------\n",
      "Current accuracy: 0.7485714285714286\n",
      "--------------------\n",
      "Current accuracy: 0.75\n",
      "--------------------\n",
      "Current accuracy: 0.751412429378531\n",
      "--------------------\n",
      "Current accuracy: 0.7528089887640449\n",
      "--------------------\n",
      "Current accuracy: 0.7541899441340782\n",
      "--------------------\n",
      "Current accuracy: 0.7555555555555555\n",
      "--------------------\n",
      "Current accuracy: 0.7569060773480663\n",
      "--------------------\n",
      "Current accuracy: 0.7582417582417582\n",
      "--------------------\n",
      "Current accuracy: 0.7595628415300546\n",
      "--------------------\n",
      "Current accuracy: 0.7608695652173914\n",
      "--------------------\n",
      "Current accuracy: 0.7621621621621621\n",
      "--------------------\n",
      "Current accuracy: 0.7634408602150538\n",
      "--------------------\n",
      "Current accuracy: 0.7647058823529411\n",
      "--------------------\n",
      "Current accuracy: 0.7659574468085106\n",
      "--------------------\n",
      "Current accuracy: 0.7619047619047619\n",
      "--------------------\n",
      "Current accuracy: 0.7578947368421053\n",
      "--------------------\n",
      "Current accuracy: 0.7591623036649214\n",
      "--------------------\n",
      "Current accuracy: 0.7604166666666666\n",
      "--------------------\n",
      "Current accuracy: 0.7616580310880829\n",
      "--------------------\n",
      "Current accuracy: 0.7628865979381443\n",
      "--------------------\n",
      "Current accuracy: 0.7589743589743589\n",
      "--------------------\n",
      "Current accuracy: 0.7551020408163265\n",
      "--------------------\n",
      "Current accuracy: 0.751269035532995\n",
      "--------------------\n",
      "Current accuracy: 0.7474747474747475\n",
      "--------------------\n",
      "Current accuracy: 0.7437185929648241\n",
      "--------------------\n",
      "Current accuracy: 0.745\n",
      "--------------------\n",
      "Current accuracy: 0.746268656716418\n",
      "--------------------\n",
      "Current accuracy: 0.7475247524752475\n",
      "--------------------\n",
      "Current accuracy: 0.7487684729064039\n",
      "--------------------\n",
      "Current accuracy: 0.7450980392156863\n",
      "--------------------\n",
      "Current accuracy: 0.7414634146341463\n",
      "--------------------\n",
      "Current accuracy: 0.7378640776699029\n",
      "--------------------\n",
      "Current accuracy: 0.7391304347826086\n",
      "--------------------\n",
      "Current accuracy: 0.7403846153846154\n",
      "--------------------\n",
      "Current accuracy: 0.7368421052631579\n",
      "--------------------\n",
      "Current accuracy: 0.7380952380952381\n",
      "--------------------\n",
      "Current accuracy: 0.7393364928909952\n",
      "--------------------\n",
      "Current accuracy: 0.7405660377358491\n",
      "--------------------\n",
      "Current accuracy: 0.7417840375586855\n",
      "--------------------\n",
      "Current accuracy: 0.7429906542056075\n",
      "--------------------\n",
      "Current accuracy: 0.7441860465116279\n",
      "--------------------\n",
      "Current accuracy: 0.7453703703703703\n",
      "--------------------\n",
      "Current accuracy: 0.7465437788018433\n",
      "--------------------\n",
      "Current accuracy: 0.7477064220183486\n",
      "--------------------\n",
      "Current accuracy: 0.7488584474885844\n",
      "--------------------\n",
      "Current accuracy: 0.75\n",
      "--------------------\n",
      "Current accuracy: 0.746606334841629\n",
      "--------------------\n",
      "Current accuracy: 0.7432432432432432\n",
      "--------------------\n",
      "Current accuracy: 0.7443946188340808\n",
      "--------------------\n",
      "Current accuracy: 0.7455357142857143\n",
      "--------------------\n",
      "Current accuracy: 0.7466666666666667\n",
      "--------------------\n",
      "Current accuracy: 0.7477876106194691\n",
      "--------------------\n",
      "Current accuracy: 0.748898678414097\n",
      "--------------------\n",
      "Current accuracy: 0.7456140350877193\n",
      "--------------------\n",
      "Current accuracy: 0.74235807860262\n",
      "--------------------\n",
      "Current accuracy: 0.7391304347826086\n",
      "--------------------\n",
      "Current accuracy: 0.7402597402597403\n",
      "--------------------\n",
      "Current accuracy: 0.7413793103448276\n",
      "--------------------\n",
      "Current accuracy: 0.7424892703862661\n",
      "--------------------\n",
      "Current accuracy: 0.7435897435897436\n",
      "--------------------\n",
      "Current accuracy: 0.7446808510638298\n",
      "--------------------\n",
      "Current accuracy: 0.7457627118644068\n",
      "--------------------\n",
      "Current accuracy: 0.7468354430379747\n",
      "--------------------\n",
      "Current accuracy: 0.7478991596638656\n",
      "--------------------\n",
      "Current accuracy: 0.7489539748953975\n",
      "--------------------\n",
      "Current accuracy: 0.75\n",
      "--------------------\n",
      "Current accuracy: 0.7510373443983402\n",
      "--------------------\n",
      "Current accuracy: 0.7520661157024794\n",
      "--------------------\n",
      "Current accuracy: 0.7530864197530864\n",
      "--------------------\n",
      "Current accuracy: 0.75\n",
      "--------------------\n",
      "Current accuracy: 0.746938775510204\n",
      "--------------------\n",
      "Current accuracy: 0.7479674796747967\n",
      "--------------------\n",
      "Current accuracy: 0.7489878542510121\n",
      "--------------------\n",
      "Current accuracy: 0.75\n",
      "--------------------\n",
      "Current accuracy: 0.751004016064257\n",
      "--------------------\n",
      "Current accuracy: 0.752\n",
      "--------------------\n",
      "Current accuracy: 0.7529880478087649\n",
      "--------------------\n",
      "Current accuracy: 0.753968253968254\n",
      "--------------------\n",
      "Current accuracy: 0.7549407114624506\n",
      "--------------------\n",
      "Current accuracy: 0.7559055118110236\n",
      "--------------------\n",
      "Current accuracy: 0.7568627450980392\n",
      "--------------------\n",
      "Current accuracy: 0.7578125\n",
      "--------------------\n",
      "Current accuracy: 0.754863813229572\n",
      "--------------------\n",
      "Current accuracy: 0.7558139534883721\n",
      "--------------------\n",
      "Current accuracy: 0.7567567567567568\n",
      "--------------------\n",
      "Current accuracy: 0.7576923076923077\n",
      "--------------------\n",
      "Current accuracy: 0.7586206896551724\n",
      "--------------------\n",
      "Current accuracy: 0.7595419847328244\n",
      "--------------------\n",
      "Current accuracy: 0.7604562737642585\n",
      "--------------------\n",
      "Current accuracy: 0.7613636363636364\n",
      "--------------------\n",
      "Current accuracy: 0.7622641509433963\n",
      "--------------------\n",
      "Current accuracy: 0.7631578947368421\n",
      "--------------------\n",
      "Current accuracy: 0.7640449438202247\n",
      "--------------------\n",
      "Current accuracy: 0.7649253731343284\n",
      "--------------------\n",
      "Current accuracy: 0.7657992565055762\n",
      "--------------------\n",
      "Current accuracy: 0.7666666666666667\n",
      "--------------------\n",
      "Current accuracy: 0.7638376383763837\n",
      "--------------------\n",
      "Current accuracy: 0.7647058823529411\n",
      "--------------------\n",
      "Current accuracy: 0.7619047619047619\n",
      "--------------------\n",
      "Current accuracy: 0.7627737226277372\n",
      "--------------------\n",
      "Current accuracy: 0.7636363636363637\n",
      "--------------------\n",
      "Current accuracy: 0.7608695652173914\n",
      "--------------------\n",
      "Current accuracy: 0.7617328519855595\n",
      "--------------------\n",
      "Current accuracy: 0.7589928057553957\n",
      "--------------------\n",
      "Current accuracy: 0.7598566308243727\n",
      "--------------------\n",
      "Current accuracy: 0.7571428571428571\n",
      "--------------------\n",
      "Current accuracy: 0.7580071174377224\n",
      "--------------------\n",
      "Current accuracy: 0.7588652482269503\n",
      "--------------------\n",
      "Current accuracy: 0.7561837455830389\n",
      "--------------------\n",
      "Current accuracy: 0.7570422535211268\n",
      "--------------------\n",
      "Current accuracy: 0.7578947368421053\n",
      "--------------------\n",
      "Current accuracy: 0.7587412587412588\n",
      "--------------------\n",
      "Current accuracy: 0.759581881533101\n",
      "--------------------\n",
      "Current accuracy: 0.7604166666666666\n",
      "--------------------\n",
      "Current accuracy: 0.7577854671280276\n",
      "--------------------\n",
      "Current accuracy: 0.7586206896551724\n",
      "--------------------\n",
      "Current accuracy: 0.7594501718213058\n",
      "--------------------\n",
      "Current accuracy: 0.7602739726027398\n",
      "--------------------\n",
      "Current accuracy: 0.7610921501706485\n",
      "--------------------\n",
      "Current accuracy: 0.7619047619047619\n",
      "--------------------\n",
      "Current accuracy: 0.7627118644067796\n",
      "--------------------\n",
      "Current accuracy: 0.7635135135135135\n",
      "--------------------\n",
      "Current accuracy: 0.7609427609427609\n",
      "--------------------\n",
      "Current accuracy: 0.761744966442953\n",
      "--------------------\n"
     ]
    },
    {
     "name": "stdout",
     "output_type": "stream",
     "text": [
      "Current accuracy: 0.7625418060200669\n",
      "--------------------\n",
      "Current accuracy: 0.7633333333333333\n",
      "--------------------\n",
      "Current accuracy: 0.7641196013289037\n",
      "--------------------\n",
      "Current accuracy: 0.7615894039735099\n",
      "--------------------\n",
      "Current accuracy: 0.759075907590759\n",
      "--------------------\n",
      "Current accuracy: 0.756578947368421\n",
      "--------------------\n",
      "Current accuracy: 0.7540983606557377\n",
      "--------------------\n",
      "Current accuracy: 0.7549019607843137\n",
      "--------------------\n",
      "Current accuracy: 0.755700325732899\n",
      "--------------------\n",
      "Current accuracy: 0.7564935064935064\n",
      "--------------------\n",
      "Current accuracy: 0.7572815533980582\n",
      "--------------------\n",
      "Current accuracy: 0.7548387096774194\n",
      "--------------------\n",
      "Current accuracy: 0.7556270096463023\n",
      "--------------------\n",
      "Current accuracy: 0.7564102564102564\n",
      "--------------------\n",
      "Current accuracy: 0.7571884984025559\n",
      "--------------------\n",
      "Current accuracy: 0.7579617834394905\n",
      "--------------------\n",
      "Current accuracy: 0.7587301587301587\n",
      "--------------------\n",
      "Current accuracy: 0.759493670886076\n",
      "--------------------\n",
      "Current accuracy: 0.7602523659305994\n",
      "--------------------\n",
      "Current accuracy: 0.7610062893081762\n",
      "--------------------\n",
      "Current accuracy: 0.7617554858934169\n",
      "--------------------\n",
      "Current accuracy: 0.7625\n",
      "--------------------\n",
      "Current accuracy: 0.7632398753894081\n",
      "--------------------\n",
      "Current accuracy: 0.7639751552795031\n",
      "--------------------\n",
      "Current accuracy: 0.7647058823529411\n",
      "--------------------\n",
      "Current accuracy: 0.7654320987654321\n",
      "--------------------\n",
      "Current accuracy: 0.7661538461538462\n",
      "--------------------\n",
      "Current accuracy: 0.7668711656441718\n",
      "--------------------\n",
      "Current accuracy: 0.7675840978593272\n",
      "--------------------\n",
      "Current accuracy: 0.7682926829268293\n",
      "--------------------\n",
      "Current accuracy: 0.7689969604863222\n",
      "--------------------\n",
      "Current accuracy: 0.7696969696969697\n",
      "--------------------\n",
      "Current accuracy: 0.770392749244713\n",
      "--------------------\n",
      "Current accuracy: 0.7710843373493976\n",
      "--------------------\n",
      "Current accuracy: 0.7717717717717718\n",
      "--------------------\n",
      "Current accuracy: 0.7724550898203593\n",
      "--------------------\n",
      "Current accuracy: 0.7731343283582089\n",
      "--------------------\n",
      "Current accuracy: 0.7738095238095238\n",
      "--------------------\n",
      "Current accuracy: 0.7744807121661721\n",
      "--------------------\n",
      "Current accuracy: 0.772189349112426\n",
      "--------------------\n",
      "Current accuracy: 0.7699115044247787\n",
      "--------------------\n",
      "Current accuracy: 0.7705882352941177\n",
      "--------------------\n",
      "Current accuracy: 0.7712609970674487\n",
      "--------------------\n",
      "Current accuracy: 0.7719298245614035\n",
      "--------------------\n",
      "Current accuracy: 0.7696793002915452\n",
      "--------------------\n",
      "Current accuracy: 0.7703488372093024\n",
      "--------------------\n",
      "Current accuracy: 0.7681159420289855\n",
      "--------------------\n",
      "Current accuracy: 0.7658959537572254\n",
      "--------------------\n",
      "Current accuracy: 0.7636887608069164\n",
      "--------------------\n",
      "Current accuracy: 0.7614942528735632\n",
      "--------------------\n",
      "Current accuracy: 0.7593123209169055\n",
      "--------------------\n",
      "Current accuracy: 0.7571428571428571\n",
      "--------------------\n",
      "Current accuracy: 0.7578347578347578\n",
      "--------------------\n",
      "Current accuracy: 0.7556818181818182\n",
      "--------------------\n",
      "Current accuracy: 0.7535410764872521\n",
      "--------------------\n",
      "Current accuracy: 0.751412429378531\n",
      "--------------------\n",
      "Current accuracy: 0.752112676056338\n",
      "--------------------\n",
      "Current accuracy: 0.75\n",
      "--------------------\n",
      "Current accuracy: 0.7478991596638656\n",
      "--------------------\n",
      "Current accuracy: 0.7458100558659218\n",
      "--------------------\n",
      "Current accuracy: 0.7437325905292479\n",
      "--------------------\n",
      "Current accuracy: 0.7416666666666667\n",
      "--------------------\n",
      "Current accuracy: 0.739612188365651\n",
      "--------------------\n",
      "Current accuracy: 0.7403314917127072\n",
      "--------------------\n",
      "Current accuracy: 0.7382920110192838\n",
      "--------------------\n",
      "Current accuracy: 0.739010989010989\n",
      "--------------------\n",
      "Current accuracy: 0.7397260273972602\n",
      "--------------------\n",
      "Current accuracy: 0.7404371584699454\n",
      "--------------------\n",
      "Current accuracy: 0.7384196185286104\n",
      "--------------------\n",
      "Current accuracy: 0.7391304347826086\n",
      "--------------------\n",
      "Current accuracy: 0.7371273712737128\n",
      "--------------------\n",
      "Current accuracy: 0.7351351351351352\n",
      "--------------------\n",
      "Current accuracy: 0.7331536388140162\n",
      "--------------------\n",
      "Current accuracy: 0.7338709677419355\n",
      "--------------------\n",
      "Current accuracy: 0.7345844504021448\n",
      "--------------------\n",
      "Current accuracy: 0.732620320855615\n",
      "--------------------\n",
      "Current accuracy: 0.7333333333333333\n",
      "--------------------\n",
      "Current accuracy: 0.7340425531914894\n",
      "--------------------\n",
      "Current accuracy: 0.7347480106100795\n",
      "--------------------\n",
      "Current accuracy: 0.7354497354497355\n",
      "--------------------\n",
      "Current accuracy: 0.7361477572559367\n",
      "--------------------\n",
      "Current accuracy: 0.7368421052631579\n",
      "--------------------\n",
      "Current accuracy: 0.7349081364829396\n",
      "--------------------\n",
      "Current accuracy: 0.7329842931937173\n",
      "--------------------\n",
      "Current accuracy: 0.7336814621409922\n",
      "--------------------\n",
      "Current accuracy: 0.7317708333333334\n",
      "--------------------\n",
      "Current accuracy: 0.7324675324675325\n",
      "--------------------\n",
      "Current accuracy: 0.7331606217616581\n",
      "--------------------\n",
      "Current accuracy: 0.7338501291989664\n",
      "--------------------\n",
      "Current accuracy: 0.7319587628865979\n",
      "--------------------\n",
      "Current accuracy: 0.7326478149100257\n",
      "--------------------\n",
      "Current accuracy: 0.7333333333333333\n",
      "--------------------\n",
      "Current accuracy: 0.731457800511509\n",
      "--------------------\n",
      "Current accuracy: 0.7295918367346939\n",
      "--------------------\n",
      "Current accuracy: 0.727735368956743\n",
      "--------------------\n",
      "Current accuracy: 0.7284263959390863\n",
      "--------------------\n",
      "Current accuracy: 0.7265822784810126\n",
      "--------------------\n",
      "Current accuracy: 0.7272727272727273\n",
      "--------------------\n",
      "Current accuracy: 0.72544080604534\n",
      "--------------------\n",
      "Current accuracy: 0.7261306532663316\n",
      "--------------------\n",
      "Current accuracy: 0.7243107769423559\n",
      "--------------------\n",
      "Current accuracy: 0.725\n",
      "--------------------\n",
      "Final accuracy: 0.725\n"
     ]
    }
   ],
   "source": [
    "iterable = 0\n",
    "true_iter = 0\n",
    "for photo in all_photo:\n",
    "    iterable+=1\n",
    "    first = parallel_method1(samples, photo)\n",
    "    second = parallel_hist(photo, samples_hist64, 64)\n",
    "    third = parallel_scaling2(photo, samples_scaling2)\n",
    "    agreement = dict()\n",
    "    agreement[first[0]] = 3\n",
    "    agreement[first[1]] = 2\n",
    "    agreement[first[2]] = 1\n",
    "    if second[0] in agreement:\n",
    "        agreement[second[0]] += 3\n",
    "    else:\n",
    "        agreement[second[0]] = 3\n",
    "    if second[1] in agreement:\n",
    "        agreement[second[1]] += 2\n",
    "    else:\n",
    "        agreement[second[1]] = 2\n",
    "    if second[2] in agreement:\n",
    "        agreement[second[2]] += 1\n",
    "    else:\n",
    "        agreement[second[2]] = 1\n",
    "    if third[0] in agreement:\n",
    "        agreement[third[0]] += 3.01\n",
    "    else:\n",
    "        agreement[third[0]] = 3.01\n",
    "    if third[1] in agreement:\n",
    "        agreement[third[1]] += 2.01\n",
    "    else:\n",
    "        agreement[third[1]] = 2.01\n",
    "    if third[2] in agreement:\n",
    "        agreement[third[2]] += 1.01\n",
    "    else:\n",
    "        agreement[third[2]] = 1.01\n",
    "    max_value = max(agreement.values())\n",
    "    for k, v in agreement.items():\n",
    "        if v == max_value:\n",
    "            result = k\n",
    "            break\n",
    "    if str(((iterable-1)//10)+1) == samples_adress[result][1:samples_adress[result].index('/')]:\n",
    "        true_iter+=1\n",
    "    print(\"Current accuracy: \"+str(true_iter/iterable))\n",
    "    #print(samples_adress[result][1:samples_adress[result].index('/')])\n",
    "    #print(((iterable-1)//10)+1)        \n",
    "    print(\"--------------------\")\n",
    "print(\"Final accuracy: \"+str(true_iter/iterable))"
   ]
  }
 ],
 "metadata": {
  "kernelspec": {
   "display_name": "Python 3 (ipykernel)",
   "language": "python",
   "name": "python3"
  },
  "language_info": {
   "codemirror_mode": {
    "name": "ipython",
    "version": 3
   },
   "file_extension": ".py",
   "mimetype": "text/x-python",
   "name": "python",
   "nbconvert_exporter": "python",
   "pygments_lexer": "ipython3",
   "version": "3.9.7"
  }
 },
 "nbformat": 4,
 "nbformat_minor": 5
}
